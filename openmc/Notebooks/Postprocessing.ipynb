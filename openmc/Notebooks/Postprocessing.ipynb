{
 "cells": [
  {
   "cell_type": "code",
   "execution_count": null,
   "metadata": {},
   "outputs": [],
   "source": [
    "import pathlib\n",
    "import os\n",
    "if 'TSL_SCHOOL_DIR' in os.environ:\n",
    "    if any( (p/\".git\").is_dir() for p in (pathlib.Path(\".\").absolute().resolve()/\"dummy\").parents ):\n",
    "        raise RuntimeError('Please copy notebook to a work directory')"
   ]
  },
  {
   "cell_type": "markdown",
   "metadata": {
    "colab_type": "text",
    "id": "dy4oKx7TPG0m"
   },
   "source": [
    "# Postprocessing"
   ]
  },
  {
   "cell_type": "markdown",
   "metadata": {
    "colab_type": "text",
    "id": "c8t73FYXPG0r"
   },
   "source": [
    "We start by importing the `openmc` module, which contains the API to generate the input files for OpenMC."
   ]
  },
  {
   "cell_type": "code",
   "execution_count": 1,
   "metadata": {
    "colab": {},
    "colab_type": "code",
    "id": "AoPeObmpPG0t"
   },
   "outputs": [],
   "source": [
    "import openmc\n",
    "openmc.config['cross_sections'] = '/home/student/tsl_software/endfb-viii.0-hdf5/cross_sections.xml'"
   ]
  },
  {
   "cell_type": "markdown",
   "metadata": {},
   "source": [
    "We will also import numpy and matplotlib, to import the data and plot."
   ]
  },
  {
   "cell_type": "code",
   "execution_count": 2,
   "metadata": {},
   "outputs": [],
   "source": [
    "import numpy as np\n",
    "import matplotlib.pyplot as plt"
   ]
  },
  {
   "cell_type": "markdown",
   "metadata": {},
   "source": [
    "### Statepoint files"
   ]
  },
  {
   "cell_type": "markdown",
   "metadata": {
    "colab_type": "text",
    "id": "rrq4QRomPG1C"
   },
   "source": [
    "As said in the previous section, at the end of the run OpenMC generates an HDF5 formatted file containing the results from the tallies and restart information. The defalut name for this file is `statepoint.XX.h5` where `XX` is the number of batches run in the simulation. \n",
    "\n",
    "This can be imported into the Python environment for postprocessing using the `Statepoint()` class. For instance, to import the statepoint file produced in the last run we can do:"
   ]
  },
  {
   "cell_type": "code",
   "execution_count": 3,
   "metadata": {
    "colab": {},
    "colab_type": "code",
    "id": "pnDjl07WPG1E"
   },
   "outputs": [],
   "source": [
    "sp = openmc.StatePoint('statepoint.10.h5')"
   ]
  },
  {
   "cell_type": "markdown",
   "metadata": {},
   "source": [
    "The attribute `Statepoint.tallies` contains a dictionary with the tallies from the simulation:"
   ]
  },
  {
   "cell_type": "code",
   "execution_count": 4,
   "metadata": {},
   "outputs": [
    {
     "name": "stdout",
     "output_type": "stream",
     "text": [
      "<class 'dict'>\n"
     ]
    }
   ],
   "source": [
    "print(type(sp.tallies))"
   ]
  },
  {
   "cell_type": "code",
   "execution_count": 5,
   "metadata": {},
   "outputs": [
    {
     "data": {
      "text/plain": [
       "{4: Tally\n",
       " \tID             =\t4\n",
       " \tName           =\tleakage\n",
       " \tFilters        =\tSurfaceFilter\n",
       " \tNuclides       =\ttotal\n",
       " \tScores         =\t['current']\n",
       " \tEstimator      =\tanalog,\n",
       " 5: Tally\n",
       " \tID             =\t5\n",
       " \tName           =\tabsorption\n",
       " \tFilters        =\tCellFilter\n",
       " \tNuclides       =\ttotal\n",
       " \tScores         =\t['absorption']\n",
       " \tEstimator      =\ttracklength,\n",
       " 6: Tally\n",
       " \tID             =\t6\n",
       " \tName           =\tspectrum\n",
       " \tFilters        =\tCellFilter, EnergyFilter\n",
       " \tNuclides       =\ttotal\n",
       " \tScores         =\t['flux']\n",
       " \tEstimator      =\ttracklength,\n",
       " 7: Tally\n",
       " \tID             =\t7\n",
       " \tName           =\tmesh tally\n",
       " \tFilters        =\tMeshFilter\n",
       " \tNuclides       =\ttotal\n",
       " \tScores         =\t['flux']\n",
       " \tEstimator      =\ttracklength}"
      ]
     },
     "execution_count": 5,
     "metadata": {},
     "output_type": "execute_result"
    }
   ],
   "source": [
    "sp.tallies"
   ]
  },
  {
   "cell_type": "markdown",
   "metadata": {},
   "source": [
    "The keys for the dictionary are the tally ids which might be hard to remember and are usually automatically generated. Instead, it is easier to access the tallies by name:"
   ]
  },
  {
   "cell_type": "code",
   "execution_count": 6,
   "metadata": {},
   "outputs": [],
   "source": [
    "tal_leak = sp.get_tally(name='leakage')"
   ]
  },
  {
   "cell_type": "code",
   "execution_count": 7,
   "metadata": {},
   "outputs": [],
   "source": [
    "tal_abs = sp.get_tally(name='absorption')"
   ]
  },
  {
   "cell_type": "markdown",
   "metadata": {},
   "source": [
    "### Pandas dataframes"
   ]
  },
  {
   "cell_type": "markdown",
   "metadata": {},
   "source": [
    "The most practical way to access the data inside of the tally is to export it as a [Pandas](https://pandas.pydata.org/) dataframe. This is a standard format for data analysis in Python:"
   ]
  },
  {
   "cell_type": "code",
   "execution_count": 8,
   "metadata": {},
   "outputs": [],
   "source": [
    "leak_df = tal_leak.get_pandas_dataframe()"
   ]
  },
  {
   "cell_type": "code",
   "execution_count": 9,
   "metadata": {},
   "outputs": [
    {
     "data": {
      "text/html": [
       "<div>\n",
       "<style scoped>\n",
       "    .dataframe tbody tr th:only-of-type {\n",
       "        vertical-align: middle;\n",
       "    }\n",
       "\n",
       "    .dataframe tbody tr th {\n",
       "        vertical-align: top;\n",
       "    }\n",
       "\n",
       "    .dataframe thead th {\n",
       "        text-align: right;\n",
       "    }\n",
       "</style>\n",
       "<table border=\"1\" class=\"dataframe\">\n",
       "  <thead>\n",
       "    <tr style=\"text-align: right;\">\n",
       "      <th></th>\n",
       "      <th>surface</th>\n",
       "      <th>nuclide</th>\n",
       "      <th>score</th>\n",
       "      <th>mean</th>\n",
       "      <th>std. dev.</th>\n",
       "    </tr>\n",
       "  </thead>\n",
       "  <tbody>\n",
       "    <tr>\n",
       "      <th>0</th>\n",
       "      <td>2</td>\n",
       "      <td>total</td>\n",
       "      <td>current</td>\n",
       "      <td>0.59727</td>\n",
       "      <td>0.001353</td>\n",
       "    </tr>\n",
       "  </tbody>\n",
       "</table>\n",
       "</div>"
      ],
      "text/plain": [
       "   surface nuclide    score     mean  std. dev.\n",
       "0        2   total  current 5.97e-01   1.35e-03"
      ]
     },
     "execution_count": 9,
     "metadata": {},
     "output_type": "execute_result"
    }
   ],
   "source": [
    "leak_df"
   ]
  },
  {
   "cell_type": "markdown",
   "metadata": {},
   "source": [
    "Different columns can be accessed by their name. To get the actual values as numpy arrays we need to get the `df.values` attribute:"
   ]
  },
  {
   "cell_type": "code",
   "execution_count": 10,
   "metadata": {},
   "outputs": [
    {
     "data": {
      "text/plain": [
       "0    0.59727\n",
       "Name: mean, dtype: float64"
      ]
     },
     "execution_count": 10,
     "metadata": {},
     "output_type": "execute_result"
    }
   ],
   "source": [
    "leak_df['mean']"
   ]
  },
  {
   "cell_type": "code",
   "execution_count": 11,
   "metadata": {},
   "outputs": [
    {
     "data": {
      "text/plain": [
       "array([0.59727])"
      ]
     },
     "execution_count": 11,
     "metadata": {},
     "output_type": "execute_result"
    }
   ],
   "source": [
    "leak_df['mean'].values"
   ]
  },
  {
   "cell_type": "markdown",
   "metadata": {},
   "source": [
    "### Tally arithmetic"
   ]
  },
  {
   "cell_type": "markdown",
   "metadata": {},
   "source": [
    "Tallies support arithmetic operations and propagate the statistical uncertainty:"
   ]
  },
  {
   "cell_type": "code",
   "execution_count": 12,
   "metadata": {},
   "outputs": [],
   "source": [
    "tal_total = tal_leak + tal_abs"
   ]
  },
  {
   "cell_type": "code",
   "execution_count": 13,
   "metadata": {},
   "outputs": [
    {
     "data": {
      "text/html": [
       "<div>\n",
       "<style scoped>\n",
       "    .dataframe tbody tr th:only-of-type {\n",
       "        vertical-align: middle;\n",
       "    }\n",
       "\n",
       "    .dataframe tbody tr th {\n",
       "        vertical-align: top;\n",
       "    }\n",
       "\n",
       "    .dataframe thead th {\n",
       "        text-align: right;\n",
       "    }\n",
       "</style>\n",
       "<table border=\"1\" class=\"dataframe\">\n",
       "  <thead>\n",
       "    <tr style=\"text-align: right;\">\n",
       "      <th></th>\n",
       "      <th>surface</th>\n",
       "      <th>cell</th>\n",
       "      <th>nuclide</th>\n",
       "      <th>score</th>\n",
       "      <th>mean</th>\n",
       "      <th>std. dev.</th>\n",
       "    </tr>\n",
       "  </thead>\n",
       "  <tbody>\n",
       "    <tr>\n",
       "      <th>0</th>\n",
       "      <td>2</td>\n",
       "      <td>2</td>\n",
       "      <td>total</td>\n",
       "      <td>(current + absorption)</td>\n",
       "      <td>0.997977</td>\n",
       "      <td>0.001869</td>\n",
       "    </tr>\n",
       "  </tbody>\n",
       "</table>\n",
       "</div>"
      ],
      "text/plain": [
       "   surface  cell nuclide                   score     mean  std. dev.\n",
       "0        2     2   total  (current + absorption) 9.98e-01   1.87e-03"
      ]
     },
     "execution_count": 13,
     "metadata": {},
     "output_type": "execute_result"
    }
   ],
   "source": [
    "tal_total.get_pandas_dataframe()"
   ]
  },
  {
   "cell_type": "markdown",
   "metadata": {},
   "source": [
    "### Example"
   ]
  },
  {
   "cell_type": "markdown",
   "metadata": {},
   "source": [
    "The utility of this approach can be easily seen with more complex tallies. Let's start again with the same simple problem:"
   ]
  },
  {
   "cell_type": "code",
   "execution_count": 14,
   "metadata": {},
   "outputs": [],
   "source": [
    "# Material definition\n",
    "\n",
    "h2o = openmc.Material()\n",
    "h2o.add_nuclide(\"H1\", 2.0, \"ao\")\n",
    "h2o.add_nuclide(\"O16\", 1.0, \"ao\")\n",
    "h2o.set_density(\"g/cm3\", 1)\n",
    "h2o.add_s_alpha_beta(\"c_H_in_H2O\")\n",
    "\n",
    "mats = openmc.Materials([h2o])\n",
    "mats.export_to_xml()\n",
    "\n",
    "# Geometry definition\n",
    "\n",
    "sphere = openmc.Sphere(r=10, boundary_type=\"vacuum\")\n",
    "cell = openmc.Cell(region=-sphere, fill=h2o)\n",
    "universe = openmc.Universe(cells=[cell])\n",
    "\n",
    "geom = openmc.Geometry(universe)\n",
    "geom.export_to_xml()\n",
    "\n",
    "# Settings definition\n",
    "\n",
    "source = openmc.Source()\n",
    "source.space = openmc.stats.Point(xyz=(0.0, 0.0, 0.0))\n",
    "source.angle = openmc.stats.Isotropic()\n",
    "source.energy = openmc.stats.Discrete([1.0e6], [1.0])\n",
    "\n",
    "settings = openmc.Settings()\n",
    "settings.source = source\n",
    "settings.run_mode = \"fixed source\"\n",
    "settings.batches = 10\n",
    "settings.particles = 10000\n",
    "settings.export_to_xml()"
   ]
  },
  {
   "cell_type": "markdown",
   "metadata": {},
   "source": [
    "We will add two more tallies:\n",
    "\n",
    "- One to compute the spectra of neutrons inside of the moderator cell.\n",
    "- One to compute the spatial distribution of the neutrons in the cell."
   ]
  },
  {
   "cell_type": "code",
   "execution_count": 15,
   "metadata": {},
   "outputs": [],
   "source": [
    "tally1 = openmc.Tally(name='leakage')\n",
    "tally1.scores=['current']\n",
    "filter1 = openmc.SurfaceFilter(sphere)\n",
    "tally1.filters = [filter1]\n",
    "\n",
    "tally2 = openmc.Tally(name='absorption')\n",
    "tally2.scores=['absorption']\n",
    "filter2 = openmc.CellFilter(cell)\n",
    "tally2.filters = [filter2]\n",
    "\n",
    "tally3 = openmc.Tally(name='spectrum')\n",
    "tally3.scores=['flux']\n",
    "filter4 = openmc.EnergyFilter(np.geomspace(1e-4, 1e6, 201)) # Energy group limits: 200 groups between 0.1 meV and 10 MeV\n",
    "tally3.filters = [filter2, filter4]\n",
    "\n",
    "tally4 = openmc.Tally(name='mesh tally')\n",
    "tally4.scores=['flux']\n",
    "mesh1 = openmc.RectilinearMesh()\n",
    "mesh1.x_grid = np.linspace(-10,10,21)\n",
    "mesh1.y_grid = np.linspace(-10,10,21)\n",
    "mesh1.z_grid = [-0.5,1]\n",
    "filter5 = openmc.MeshFilter(mesh1) \n",
    "tally4.filters = [filter5]\n",
    "\n",
    "tallies = openmc.Tallies([tally1, tally2, tally3, tally4])\n",
    "tallies.export_to_xml()"
   ]
  },
  {
   "cell_type": "code",
   "execution_count": 16,
   "metadata": {},
   "outputs": [
    {
     "name": "stdout",
     "output_type": "stream",
     "text": [
      "                                %%%%%%%%%%%%%%%\n",
      "                           %%%%%%%%%%%%%%%%%%%%%%%%\n",
      "                        %%%%%%%%%%%%%%%%%%%%%%%%%%%%%%\n",
      "                      %%%%%%%%%%%%%%%%%%%%%%%%%%%%%%%%%%\n",
      "                    %%%%%%%%%%%%%%%%%%%%%%%%%%%%%%%%%%%%%%\n",
      "                   %%%%%%%%%%%%%%%%%%%%%%%%%%%%%%%%%%%%%%%%\n",
      "                                    %%%%%%%%%%%%%%%%%%%%%%%%\n",
      "                                     %%%%%%%%%%%%%%%%%%%%%%%%\n",
      "                 ###############      %%%%%%%%%%%%%%%%%%%%%%%%\n",
      "                ##################     %%%%%%%%%%%%%%%%%%%%%%%\n",
      "                ###################     %%%%%%%%%%%%%%%%%%%%%%%\n",
      "                ####################     %%%%%%%%%%%%%%%%%%%%%%\n",
      "                #####################     %%%%%%%%%%%%%%%%%%%%%\n",
      "                ######################     %%%%%%%%%%%%%%%%%%%%\n",
      "                #######################     %%%%%%%%%%%%%%%%%%\n",
      "                 #######################     %%%%%%%%%%%%%%%%%\n",
      "                 ######################     %%%%%%%%%%%%%%%%%\n",
      "                  ####################     %%%%%%%%%%%%%%%%%\n",
      "                    #################     %%%%%%%%%%%%%%%%%\n",
      "                     ###############     %%%%%%%%%%%%%%%%\n",
      "                       ############     %%%%%%%%%%%%%%%\n",
      "                          ########     %%%%%%%%%%%%%%\n",
      "                                      %%%%%%%%%%%\n",
      "\n",
      "                 | The OpenMC Monte Carlo Code\n",
      "       Copyright | 2011-2023 MIT, UChicago Argonne LLC, and contributors\n",
      "         License | https://docs.openmc.org/en/latest/license.html\n",
      "         Version | 0.13.4-dev\n",
      "        Git SHA1 | e3d8982bb91d82a338484e554a656fa2df959d79\n",
      "       Date/Time | 2023-05-05 16:36:55\n",
      "  OpenMP Threads | 3\n",
      "\n",
      " Reading settings XML file...\n",
      " Reading cross sections XML file...\n",
      " Reading materials XML file...\n",
      " Reading geometry XML file...\n",
      " Reading H1 from\n",
      " /home/student/openmc_ncrystal_vm/endfb-viii.0-hdf5/neutron/H1.h5\n",
      " Reading O16 from\n",
      " /home/student/openmc_ncrystal_vm/endfb-viii.0-hdf5/neutron/O16.h5\n",
      " Reading c_H_in_H2O from\n",
      " /home/student/openmc_ncrystal_vm/endfb-viii.0-hdf5/neutron/c_H_in_H2O.h5\n",
      " Minimum neutron data temperature: 294 K\n",
      " Maximum neutron data temperature: 294 K\n",
      " Reading tallies XML file...\n",
      " Preparing distributed cell instances...\n",
      " Reading plot XML file...\n",
      " Writing summary.h5 file...\n",
      " Maximum neutron transport energy: 20000000 eV for H1\n",
      "\n",
      " ===============>     FIXED SOURCE TRANSPORT SIMULATION     <===============\n",
      "\n",
      " Simulating batch 1\n",
      " Simulating batch 2\n",
      " Simulating batch 3\n",
      " Simulating batch 4\n",
      " Simulating batch 5\n",
      " Simulating batch 6\n",
      " Simulating batch 7\n",
      " Simulating batch 8\n",
      " Simulating batch 9\n",
      " Simulating batch 10\n",
      " Creating state point statepoint.10.h5...\n",
      "\n",
      " =======================>     TIMING STATISTICS     <=======================\n",
      "\n",
      " Total time for initialization     = 3.2455e-01 seconds\n",
      "   Reading cross sections          = 3.1202e-01 seconds\n",
      " Total time in simulation          = 3.1445e+00 seconds\n",
      "   Time in transport only          = 3.1417e+00 seconds\n",
      "   Time in active batches          = 3.1445e+00 seconds\n",
      "   Time accumulating tallies       = 8.0601e-05 seconds\n",
      "   Time writing statepoints        = 2.5923e-03 seconds\n",
      " Total time for finalization       = 7.2077e-04 seconds\n",
      " Total time elapsed                = 3.4700e+00 seconds\n",
      " Calculation Rate (active)         = 31801.7 particles/second\n",
      "\n",
      " ============================>     RESULTS     <============================\n",
      "\n",
      " Leakage Fraction            = 0.59727 +/- 0.00135\n",
      "\n"
     ]
    }
   ],
   "source": [
    "!rm statepoint.*.h5\n",
    "!rm summary.h5\n",
    "openmc.run()"
   ]
  },
  {
   "cell_type": "markdown",
   "metadata": {},
   "source": [
    "### Plot the spectra"
   ]
  },
  {
   "cell_type": "markdown",
   "metadata": {},
   "source": [
    "Let's open the statepoint file to postprocess the results:"
   ]
  },
  {
   "cell_type": "code",
   "execution_count": 17,
   "metadata": {},
   "outputs": [],
   "source": [
    "sp = openmc.StatePoint('statepoint.10.h5')"
   ]
  },
  {
   "cell_type": "code",
   "execution_count": 18,
   "metadata": {},
   "outputs": [],
   "source": [
    "tal_spectrum = sp.get_tally(name='spectrum')\n",
    "df = tal_spectrum.get_pandas_dataframe()"
   ]
  },
  {
   "cell_type": "code",
   "execution_count": 19,
   "metadata": {},
   "outputs": [
    {
     "data": {
      "text/html": [
       "<div>\n",
       "<style scoped>\n",
       "    .dataframe tbody tr th:only-of-type {\n",
       "        vertical-align: middle;\n",
       "    }\n",
       "\n",
       "    .dataframe tbody tr th {\n",
       "        vertical-align: top;\n",
       "    }\n",
       "\n",
       "    .dataframe thead th {\n",
       "        text-align: right;\n",
       "    }\n",
       "</style>\n",
       "<table border=\"1\" class=\"dataframe\">\n",
       "  <thead>\n",
       "    <tr style=\"text-align: right;\">\n",
       "      <th></th>\n",
       "      <th>cell</th>\n",
       "      <th>energy low [eV]</th>\n",
       "      <th>energy high [eV]</th>\n",
       "      <th>nuclide</th>\n",
       "      <th>score</th>\n",
       "      <th>mean</th>\n",
       "      <th>std. dev.</th>\n",
       "    </tr>\n",
       "  </thead>\n",
       "  <tbody>\n",
       "    <tr>\n",
       "      <th>0</th>\n",
       "      <td>1</td>\n",
       "      <td>0.000100</td>\n",
       "      <td>0.000112</td>\n",
       "      <td>total</td>\n",
       "      <td>flux</td>\n",
       "      <td>0.000044</td>\n",
       "      <td>0.000005</td>\n",
       "    </tr>\n",
       "    <tr>\n",
       "      <th>1</th>\n",
       "      <td>1</td>\n",
       "      <td>0.000112</td>\n",
       "      <td>0.000126</td>\n",
       "      <td>total</td>\n",
       "      <td>flux</td>\n",
       "      <td>0.000036</td>\n",
       "      <td>0.000007</td>\n",
       "    </tr>\n",
       "    <tr>\n",
       "      <th>2</th>\n",
       "      <td>1</td>\n",
       "      <td>0.000126</td>\n",
       "      <td>0.000141</td>\n",
       "      <td>total</td>\n",
       "      <td>flux</td>\n",
       "      <td>0.000059</td>\n",
       "      <td>0.000010</td>\n",
       "    </tr>\n",
       "    <tr>\n",
       "      <th>3</th>\n",
       "      <td>1</td>\n",
       "      <td>0.000141</td>\n",
       "      <td>0.000158</td>\n",
       "      <td>total</td>\n",
       "      <td>flux</td>\n",
       "      <td>0.000074</td>\n",
       "      <td>0.000008</td>\n",
       "    </tr>\n",
       "    <tr>\n",
       "      <th>4</th>\n",
       "      <td>1</td>\n",
       "      <td>0.000158</td>\n",
       "      <td>0.000178</td>\n",
       "      <td>total</td>\n",
       "      <td>flux</td>\n",
       "      <td>0.000089</td>\n",
       "      <td>0.000011</td>\n",
       "    </tr>\n",
       "    <tr>\n",
       "      <th>...</th>\n",
       "      <td>...</td>\n",
       "      <td>...</td>\n",
       "      <td>...</td>\n",
       "      <td>...</td>\n",
       "      <td>...</td>\n",
       "      <td>...</td>\n",
       "      <td>...</td>\n",
       "    </tr>\n",
       "    <tr>\n",
       "      <th>195</th>\n",
       "      <td>1</td>\n",
       "      <td>562341.325190</td>\n",
       "      <td>630957.344480</td>\n",
       "      <td>total</td>\n",
       "      <td>flux</td>\n",
       "      <td>0.282973</td>\n",
       "      <td>0.003977</td>\n",
       "    </tr>\n",
       "    <tr>\n",
       "      <th>196</th>\n",
       "      <td>1</td>\n",
       "      <td>630957.344480</td>\n",
       "      <td>707945.784384</td>\n",
       "      <td>total</td>\n",
       "      <td>flux</td>\n",
       "      <td>0.343413</td>\n",
       "      <td>0.002941</td>\n",
       "    </tr>\n",
       "    <tr>\n",
       "      <th>197</th>\n",
       "      <td>1</td>\n",
       "      <td>707945.784384</td>\n",
       "      <td>794328.234724</td>\n",
       "      <td>total</td>\n",
       "      <td>flux</td>\n",
       "      <td>0.662589</td>\n",
       "      <td>0.004180</td>\n",
       "    </tr>\n",
       "    <tr>\n",
       "      <th>198</th>\n",
       "      <td>1</td>\n",
       "      <td>794328.234724</td>\n",
       "      <td>891250.938134</td>\n",
       "      <td>total</td>\n",
       "      <td>flux</td>\n",
       "      <td>0.683177</td>\n",
       "      <td>0.005481</td>\n",
       "    </tr>\n",
       "    <tr>\n",
       "      <th>199</th>\n",
       "      <td>1</td>\n",
       "      <td>891250.938134</td>\n",
       "      <td>1000000.000000</td>\n",
       "      <td>total</td>\n",
       "      <td>flux</td>\n",
       "      <td>2.525868</td>\n",
       "      <td>0.009452</td>\n",
       "    </tr>\n",
       "  </tbody>\n",
       "</table>\n",
       "<p>200 rows × 7 columns</p>\n",
       "</div>"
      ],
      "text/plain": [
       "     cell  energy low [eV]  energy high [eV] nuclide score     mean  std. dev.\n",
       "0       1         1.00e-04          1.12e-04   total  flux 4.43e-05   5.26e-06\n",
       "1       1         1.12e-04          1.26e-04   total  flux 3.64e-05   6.60e-06\n",
       "2       1         1.26e-04          1.41e-04   total  flux 5.85e-05   1.02e-05\n",
       "3       1         1.41e-04          1.58e-04   total  flux 7.42e-05   8.04e-06\n",
       "4       1         1.58e-04          1.78e-04   total  flux 8.88e-05   1.07e-05\n",
       "..    ...              ...               ...     ...   ...      ...        ...\n",
       "195     1         5.62e+05          6.31e+05   total  flux 2.83e-01   3.98e-03\n",
       "196     1         6.31e+05          7.08e+05   total  flux 3.43e-01   2.94e-03\n",
       "197     1         7.08e+05          7.94e+05   total  flux 6.63e-01   4.18e-03\n",
       "198     1         7.94e+05          8.91e+05   total  flux 6.83e-01   5.48e-03\n",
       "199     1         8.91e+05          1.00e+06   total  flux 2.53e+00   9.45e-03\n",
       "\n",
       "[200 rows x 7 columns]"
      ]
     },
     "execution_count": 19,
     "metadata": {},
     "output_type": "execute_result"
    }
   ],
   "source": [
    "df"
   ]
  },
  {
   "cell_type": "code",
   "execution_count": 20,
   "metadata": {},
   "outputs": [],
   "source": [
    "E_g = df['energy high [eV]'].values\n",
    "phi_g = df['mean'].values"
   ]
  },
  {
   "cell_type": "code",
   "execution_count": 21,
   "metadata": {},
   "outputs": [
    {
     "data": {
      "text/plain": [
       "Text(0, 0.5, 'Group flux [part-cm]')"
      ]
     },
     "execution_count": 21,
     "metadata": {},
     "output_type": "execute_result"
    },
    {
     "data": {
      "image/png": "[encoded data removed]",
      "text/plain": [
       "<Figure size 640x480 with 1 Axes>"
      ]
     },
     "metadata": {},
     "output_type": "display_data"
    }
   ],
   "source": [
    "plt.loglog(E_g, phi_g)\n",
    "plt.xlabel('Energy [eV]')\n",
    "plt.ylabel('Group flux [part-cm]')"
   ]
  },
  {
   "cell_type": "markdown",
   "metadata": {},
   "source": [
    "### Plot the mesh tally"
   ]
  },
  {
   "cell_type": "markdown",
   "metadata": {},
   "source": [
    "Let's open the statepoint file to postprocess the results (this is not needed if we continue running from above):"
   ]
  },
  {
   "cell_type": "code",
   "execution_count": 22,
   "metadata": {},
   "outputs": [],
   "source": [
    "sp = openmc.StatePoint('statepoint.10.h5')"
   ]
  },
  {
   "cell_type": "code",
   "execution_count": 23,
   "metadata": {},
   "outputs": [],
   "source": [
    "tal_mesh = sp.get_tally(name='mesh tally')\n",
    "df = tal_mesh.get_pandas_dataframe()"
   ]
  },
  {
   "cell_type": "code",
   "execution_count": 24,
   "metadata": {},
   "outputs": [
    {
     "data": {
      "text/html": [
       "<div>\n",
       "<style scoped>\n",
       "    .dataframe tbody tr th:only-of-type {\n",
       "        vertical-align: middle;\n",
       "    }\n",
       "\n",
       "    .dataframe tbody tr th {\n",
       "        vertical-align: top;\n",
       "    }\n",
       "\n",
       "    .dataframe thead tr th {\n",
       "        text-align: left;\n",
       "    }\n",
       "</style>\n",
       "<table border=\"1\" class=\"dataframe\">\n",
       "  <thead>\n",
       "    <tr>\n",
       "      <th></th>\n",
       "      <th colspan=\"3\" halign=\"left\">mesh 2</th>\n",
       "      <th>nuclide</th>\n",
       "      <th>score</th>\n",
       "      <th>mean</th>\n",
       "      <th>std. dev.</th>\n",
       "    </tr>\n",
       "    <tr>\n",
       "      <th></th>\n",
       "      <th>x</th>\n",
       "      <th>y</th>\n",
       "      <th>z</th>\n",
       "      <th></th>\n",
       "      <th></th>\n",
       "      <th></th>\n",
       "      <th></th>\n",
       "    </tr>\n",
       "  </thead>\n",
       "  <tbody>\n",
       "    <tr>\n",
       "      <th>0</th>\n",
       "      <td>1</td>\n",
       "      <td>1</td>\n",
       "      <td>1</td>\n",
       "      <td>total</td>\n",
       "      <td>flux</td>\n",
       "      <td>0.0</td>\n",
       "      <td>0.0</td>\n",
       "    </tr>\n",
       "    <tr>\n",
       "      <th>1</th>\n",
       "      <td>2</td>\n",
       "      <td>1</td>\n",
       "      <td>1</td>\n",
       "      <td>total</td>\n",
       "      <td>flux</td>\n",
       "      <td>0.0</td>\n",
       "      <td>0.0</td>\n",
       "    </tr>\n",
       "    <tr>\n",
       "      <th>2</th>\n",
       "      <td>3</td>\n",
       "      <td>1</td>\n",
       "      <td>1</td>\n",
       "      <td>total</td>\n",
       "      <td>flux</td>\n",
       "      <td>0.0</td>\n",
       "      <td>0.0</td>\n",
       "    </tr>\n",
       "    <tr>\n",
       "      <th>3</th>\n",
       "      <td>4</td>\n",
       "      <td>1</td>\n",
       "      <td>1</td>\n",
       "      <td>total</td>\n",
       "      <td>flux</td>\n",
       "      <td>0.0</td>\n",
       "      <td>0.0</td>\n",
       "    </tr>\n",
       "    <tr>\n",
       "      <th>4</th>\n",
       "      <td>5</td>\n",
       "      <td>1</td>\n",
       "      <td>1</td>\n",
       "      <td>total</td>\n",
       "      <td>flux</td>\n",
       "      <td>0.0</td>\n",
       "      <td>0.0</td>\n",
       "    </tr>\n",
       "    <tr>\n",
       "      <th>...</th>\n",
       "      <td>...</td>\n",
       "      <td>...</td>\n",
       "      <td>...</td>\n",
       "      <td>...</td>\n",
       "      <td>...</td>\n",
       "      <td>...</td>\n",
       "      <td>...</td>\n",
       "    </tr>\n",
       "    <tr>\n",
       "      <th>395</th>\n",
       "      <td>16</td>\n",
       "      <td>20</td>\n",
       "      <td>1</td>\n",
       "      <td>total</td>\n",
       "      <td>flux</td>\n",
       "      <td>0.0</td>\n",
       "      <td>0.0</td>\n",
       "    </tr>\n",
       "    <tr>\n",
       "      <th>396</th>\n",
       "      <td>17</td>\n",
       "      <td>20</td>\n",
       "      <td>1</td>\n",
       "      <td>total</td>\n",
       "      <td>flux</td>\n",
       "      <td>0.0</td>\n",
       "      <td>0.0</td>\n",
       "    </tr>\n",
       "    <tr>\n",
       "      <th>397</th>\n",
       "      <td>18</td>\n",
       "      <td>20</td>\n",
       "      <td>1</td>\n",
       "      <td>total</td>\n",
       "      <td>flux</td>\n",
       "      <td>0.0</td>\n",
       "      <td>0.0</td>\n",
       "    </tr>\n",
       "    <tr>\n",
       "      <th>398</th>\n",
       "      <td>19</td>\n",
       "      <td>20</td>\n",
       "      <td>1</td>\n",
       "      <td>total</td>\n",
       "      <td>flux</td>\n",
       "      <td>0.0</td>\n",
       "      <td>0.0</td>\n",
       "    </tr>\n",
       "    <tr>\n",
       "      <th>399</th>\n",
       "      <td>20</td>\n",
       "      <td>20</td>\n",
       "      <td>1</td>\n",
       "      <td>total</td>\n",
       "      <td>flux</td>\n",
       "      <td>0.0</td>\n",
       "      <td>0.0</td>\n",
       "    </tr>\n",
       "  </tbody>\n",
       "</table>\n",
       "<p>400 rows × 7 columns</p>\n",
       "</div>"
      ],
      "text/plain": [
       "    mesh 2        nuclide score     mean std. dev.\n",
       "         x   y  z                                 \n",
       "0        1   1  1   total  flux 0.00e+00  0.00e+00\n",
       "1        2   1  1   total  flux 0.00e+00  0.00e+00\n",
       "2        3   1  1   total  flux 0.00e+00  0.00e+00\n",
       "3        4   1  1   total  flux 0.00e+00  0.00e+00\n",
       "4        5   1  1   total  flux 0.00e+00  0.00e+00\n",
       "..     ...  .. ..     ...   ...      ...       ...\n",
       "395     16  20  1   total  flux 0.00e+00  0.00e+00\n",
       "396     17  20  1   total  flux 0.00e+00  0.00e+00\n",
       "397     18  20  1   total  flux 0.00e+00  0.00e+00\n",
       "398     19  20  1   total  flux 0.00e+00  0.00e+00\n",
       "399     20  20  1   total  flux 0.00e+00  0.00e+00\n",
       "\n",
       "[400 rows x 7 columns]"
      ]
     },
     "execution_count": 24,
     "metadata": {},
     "output_type": "execute_result"
    }
   ],
   "source": [
    "df"
   ]
  },
  {
   "cell_type": "markdown",
   "metadata": {},
   "source": [
    "We will extract the result and shape it to a 20x20 array:"
   ]
  },
  {
   "cell_type": "code",
   "execution_count": 25,
   "metadata": {},
   "outputs": [],
   "source": [
    "values = df['mean'].values\n",
    "values.shape = (20,20)"
   ]
  },
  {
   "cell_type": "markdown",
   "metadata": {},
   "source": [
    "In order to plot the mesh tally we also need the mesh. This could be reused from the Python code above used to generate the tally, but if it is not available, we can extract it too from the tally:"
   ]
  },
  {
   "cell_type": "code",
   "execution_count": 26,
   "metadata": {},
   "outputs": [],
   "source": [
    "mesh = tal_mesh.find_filter(openmc.MeshFilter)"
   ]
  },
  {
   "cell_type": "code",
   "execution_count": 27,
   "metadata": {},
   "outputs": [],
   "source": [
    "xmesh = mesh.mesh.x_grid\n",
    "ymesh = mesh.mesh.y_grid"
   ]
  },
  {
   "cell_type": "code",
   "execution_count": 28,
   "metadata": {},
   "outputs": [
    {
     "data": {
      "text/plain": [
       "Text(0, 0.5, 'y [cm]')"
      ]
     },
     "execution_count": 28,
     "metadata": {},
     "output_type": "execute_result"
    },
    {
     "data": {
      "image/png": "[encoded data removed]",
      "text/plain": [
       "<Figure size 600x600 with 2 Axes>"
      ]
     },
     "metadata": {},
     "output_type": "display_data"
    }
   ],
   "source": [
    "plt.figure(figsize=(6,6))\n",
    "plt.pcolormesh(xmesh,ymesh,values)\n",
    "plt.colorbar()\n",
    "plt.xlabel('x [cm]')\n",
    "plt.ylabel('y [cm]')"
   ]
  },
  {
   "cell_type": "code",
   "execution_count": null,
   "metadata": {},
   "outputs": [],
   "source": []
  }
 ],
 "metadata": {
  "colab": {
   "collapsed_sections": [
    "4x3hJX0SPOz2"
   ],
   "name": "Parametros.ipynb",
   "provenance": [],
   "version": "0.3.2"
  },
  "kernelspec": {
   "display_name": "Python 3",
   "language": "python",
   "name": "python3"
  },
  "language_info": {
   "codemirror_mode": {
    "name": "ipython",
    "version": 3
   },
   "file_extension": ".py",
   "mimetype": "text/x-python",
   "name": "python",
   "nbconvert_exporter": "python",
   "pygments_lexer": "ipython3",
   "version": "3.7.6"
  }
 },
 "nbformat": 4,
 "nbformat_minor": 4
}
