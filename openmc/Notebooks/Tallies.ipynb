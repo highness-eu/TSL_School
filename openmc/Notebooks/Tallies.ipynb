{
 "cells": [
  {
   "cell_type": "markdown",
   "metadata": {
    "colab_type": "text",
    "id": "dy4oKx7TPG0m"
   },
   "source": [
    "# Defining tallies"
   ]
  },
  {
   "cell_type": "markdown",
   "metadata": {
    "colab_type": "text",
    "id": "c8t73FYXPG0r"
   },
   "source": [
    "We start by importing the `openmc` module, which contains the API to generate the input files for OpenMC."
   ]
  },
  {
   "cell_type": "code",
   "execution_count": 2,
   "metadata": {
    "colab": {},
    "colab_type": "code",
    "id": "AoPeObmpPG0t"
   },
   "outputs": [],
   "source": [
    "import openmc\n",
    "openmc.config['cross_sections'] = '/home/student/openmc_ncrystal_vm/endfb-viii.0-hdf5/cross_sections.xml'"
   ]
  },
  {
   "cell_type": "markdown",
   "metadata": {
    "colab_type": "text",
    "id": "rrq4QRomPG1C"
   },
   "source": [
    "One optional but very useful feature in Monte Carlo simulations is the definition of tallies. It is optional, because the simulation would run without them, but it is necessary in order to obtain anything from it. Tallies are specified using the `Tallies()` class, which generates the file `tallies.xml`."
   ]
  },
  {
   "cell_type": "markdown",
   "metadata": {},
   "source": [
    "The `Tallies()` object is a collection of `Tally()` objects that need to be defined independently."
   ]
  },
  {
   "cell_type": "code",
   "execution_count": 2,
   "metadata": {
    "colab": {},
    "colab_type": "code",
    "id": "pnDjl07WPG1E"
   },
   "outputs": [],
   "source": [
    "tally1 = openmc.Tally(name='spectrum')\n",
    "tally1.scores = ['flux']"
   ]
  },
  {
   "cell_type": "markdown",
   "metadata": {},
   "source": [
    "The constructor takes as a parameter a name, which is useful to find the results later easier. Something we also need to define is the score in the `Tally.scores` attribute. We have to choose from:\n",
    "\n",
    "- `flux`: total scalar flux. Units are particle-cm per source particle (track length). We need to divide by the volume of the region and multiply by the source intensity to obtain the flux.\n",
    "- `current`: partial currents over a mesh surface, or net current over a cell surface (depending on which filters are applied, see below). `CellFrom()` and `Cell()` filters can also be used to find partial currents over cell surfaces. Units are particles per source particle. We need to divide by the surface area and multiply by the source intensity to find the actual current.\n",
    "- `(n,gamma)`, `scatter`, `total`: compute the reaction rate for each reaction. Units are reactions per source particle. We need to divide by the volume of the region and multiply by the source intensity to obtain the reaction rate density.\n",
    "\n",
    "A complete list of the scores is given in the [Specifying Tallies](https://docs.openmc.org/en/latest/usersguide/tallies.html) section of the User Guide."
   ]
  },
  {
   "cell_type": "markdown",
   "metadata": {},
   "source": [
    "## Filters"
   ]
  },
  {
   "cell_type": "markdown",
   "metadata": {},
   "source": [
    "We need then to define which events will be counted, and how they will be segmented. This is given by *filters*, and given as an iterable in the `Tally.filters` attribute. These are possible filters:\n",
    "\n",
    "- `CellFilter()`: filters events that happen inside of a given cell. Takes as a parameter a cell instance, a cell id, or an iterable of them. It can be used to construct the equivalent of an `F4` tally in MCNP or a `T-Track` tally in PHITS.\n",
    "- `SurfaceFilter()`: filters events that happen on a given surface. Takes as a parameter a surface instance, a surface id, or an iterable of them. It can be used to construct the equivalent of an `F1` tally in MCNP or a `T-Cross` tally in PHITS.\n",
    "- `MeshFilter()`: filters events that happen inside of elements of a mesh. Takes as a parameter a mesh object. It can be used to construct the equivalent of an `FMESH` tally in MCNP or a mesh `T-Track` tally in PHITS. \n",
    "- `EnergyFilter()`: filters events that happen in a given range of energy. Takes as a parameter a list of floats or numpy array that represent the energy group limits. \n",
    "\n",
    "\n",
    "A complete list is given in the [Constructing Tallies](https://docs.openmc.org/en/latest/pythonapi/base.html#constructing-tallies) section of the Python API."
   ]
  },
  {
   "cell_type": "markdown",
   "metadata": {},
   "source": [
    "## Example"
   ]
  },
  {
   "cell_type": "markdown",
   "metadata": {
    "colab_type": "text",
    "id": "iTo2ZYYfPG1K"
   },
   "source": [
    "Let's start defining the same example as in the previous section:"
   ]
  },
  {
   "cell_type": "code",
   "execution_count": 23,
   "metadata": {
    "colab": {},
    "colab_type": "code",
    "id": "KNbsNtNwQJDL"
   },
   "outputs": [],
   "source": [
    "# Material definition\n",
    "\n",
    "h2o = openmc.Material()\n",
    "h2o.add_nuclide(\"H1\", 2.0, \"ao\")\n",
    "h2o.add_nuclide(\"O16\", 1.0, \"ao\")\n",
    "h2o.set_density(\"g/cm3\", 1)\n",
    "h2o.add_s_alpha_beta(\"c_H_in_H2O\")\n",
    "\n",
    "mats = openmc.Materials([h2o])\n",
    "mats.export_to_xml()\n",
    "\n",
    "# Geometry definition\n",
    "\n",
    "sphere = openmc.Sphere(r=10, boundary_type=\"vacuum\")\n",
    "cell = openmc.Cell(region=-sphere, fill=h2o)\n",
    "universe = openmc.Universe(cells=[cell])\n",
    "\n",
    "geom = openmc.Geometry(universe)\n",
    "geom.export_to_xml()\n",
    "\n",
    "# Settings definition\n",
    "\n",
    "source = openmc.Source()\n",
    "source.space = openmc.stats.Point(xyz=(0.0, 0.0, 0.0))\n",
    "source.angle = openmc.stats.Isotropic()\n",
    "source.energy = openmc.stats.Discrete([1.0e6], [1.0])\n",
    "\n",
    "settings = openmc.Settings()\n",
    "settings.source = source\n",
    "settings.run_mode = \"fixed source\"\n",
    "settings.batches = 10\n",
    "settings.particles = 10000\n",
    "settings.export_to_xml()"
   ]
  },
  {
   "cell_type": "markdown",
   "metadata": {
    "colab_type": "text",
    "id": "2rfJ1Q2UPG1M"
   },
   "source": [
    "We will now define two tallies:\n",
    "\n",
    "- The absorption reaction rate inside of the cell.\n",
    "- The total leakage from the moderator cell"
   ]
  },
  {
   "cell_type": "code",
   "execution_count": 24,
   "metadata": {
    "colab": {},
    "colab_type": "code",
    "id": "0NU6t3kHPG1O"
   },
   "outputs": [],
   "source": [
    "tally1 = openmc.Tally(name='leakage')\n",
    "tally1.scores=['current']\n",
    "filter1 = openmc.SurfaceFilter(sphere)\n",
    "tally1.filters = [filter1]\n",
    "\n",
    "tally2 = openmc.Tally(name='absorption')\n",
    "tally2.scores=['absorption']\n",
    "filter2 = openmc.CellFilter(cell)\n",
    "tally2.filters = [filter2]\n",
    "\n",
    "tallies = openmc.Tallies([tally1, tally2])\n",
    "tallies.export_to_xml()"
   ]
  },
  {
   "cell_type": "code",
   "execution_count": 25,
   "metadata": {},
   "outputs": [
    {
     "name": "stdout",
     "output_type": "stream",
     "text": [
      "                                %%%%%%%%%%%%%%%\n",
      "                           %%%%%%%%%%%%%%%%%%%%%%%%\n",
      "                        %%%%%%%%%%%%%%%%%%%%%%%%%%%%%%\n",
      "                      %%%%%%%%%%%%%%%%%%%%%%%%%%%%%%%%%%\n",
      "                    %%%%%%%%%%%%%%%%%%%%%%%%%%%%%%%%%%%%%%\n",
      "                   %%%%%%%%%%%%%%%%%%%%%%%%%%%%%%%%%%%%%%%%\n",
      "                                    %%%%%%%%%%%%%%%%%%%%%%%%\n",
      "                                     %%%%%%%%%%%%%%%%%%%%%%%%\n",
      "                 ###############      %%%%%%%%%%%%%%%%%%%%%%%%\n",
      "                ##################     %%%%%%%%%%%%%%%%%%%%%%%\n",
      "                ###################     %%%%%%%%%%%%%%%%%%%%%%%\n",
      "                ####################     %%%%%%%%%%%%%%%%%%%%%%\n",
      "                #####################     %%%%%%%%%%%%%%%%%%%%%\n",
      "                ######################     %%%%%%%%%%%%%%%%%%%%\n",
      "                #######################     %%%%%%%%%%%%%%%%%%\n",
      "                 #######################     %%%%%%%%%%%%%%%%%\n",
      "                 ######################     %%%%%%%%%%%%%%%%%\n",
      "                  ####################     %%%%%%%%%%%%%%%%%\n",
      "                    #################     %%%%%%%%%%%%%%%%%\n",
      "                     ###############     %%%%%%%%%%%%%%%%\n",
      "                       ############     %%%%%%%%%%%%%%%\n",
      "                          ########     %%%%%%%%%%%%%%\n",
      "                                      %%%%%%%%%%%\n",
      "\n",
      "                 | The OpenMC Monte Carlo Code\n",
      "       Copyright | 2011-2023 MIT, UChicago Argonne LLC, and contributors\n",
      "         License | https://docs.openmc.org/en/latest/license.html\n",
      "         Version | 0.13.3-dev\n",
      "        Git SHA1 | 3f5b90042c378f4182ef196ac075dd8cd8cec686\n",
      "       Date/Time | 2023-04-27 09:27:26\n",
      "  OpenMP Threads | 8\n",
      "\n",
      " Reading settings XML file...\n",
      " Reading cross sections XML file...\n",
      " Reading materials XML file...\n",
      " Reading geometry XML file...\n",
      " Reading H1 from\n",
      " /home/nacho/mounts/uqbar_home/ess/2023/openmc_ncrystal_conda/endfb-viii.0-hdf5/n\n",
      " eutron/H1.h5\n",
      " Reading O16 from\n",
      " /home/nacho/mounts/uqbar_home/ess/2023/openmc_ncrystal_conda/endfb-viii.0-hdf5/n\n",
      " eutron/O16.h5\n",
      " Reading c_H_in_H2O from\n",
      " /home/nacho/mounts/uqbar_home/ess/2023/openmc_ncrystal_conda/endfb-viii.0-hdf5/n\n",
      " eutron/c_H_in_H2O.h5\n",
      " Minimum neutron data temperature: 294 K\n",
      " Maximum neutron data temperature: 294 K\n",
      " Reading tallies XML file...\n",
      " Preparing distributed cell instances...\n",
      " Reading plot XML file...\n",
      " Writing summary.h5 file...\n",
      " Maximum neutron transport energy: 20000000 eV for H1\n",
      "\n",
      " ===============>     FIXED SOURCE TRANSPORT SIMULATION     <===============\n",
      "\n",
      " Simulating batch 1\n",
      " Simulating batch 2\n",
      " Simulating batch 3\n",
      " Simulating batch 4\n",
      " Simulating batch 5\n",
      " Simulating batch 6\n",
      " Simulating batch 7\n",
      " Simulating batch 8\n",
      " Simulating batch 9\n",
      " Simulating batch 10\n",
      " Creating state point statepoint.10.h5...\n",
      "\n",
      " =======================>     TIMING STATISTICS     <=======================\n",
      "\n",
      " Total time for initialization     = 2.6967e-01 seconds\n",
      "   Reading cross sections          = 2.4806e-01 seconds\n",
      " Total time in simulation          = 2.6449e+00 seconds\n",
      "   Time in transport only          = 2.6345e+00 seconds\n",
      "   Time in active batches          = 2.6449e+00 seconds\n",
      "   Time accumulating tallies       = 4.2715e-03 seconds\n",
      "   Time writing statepoints        = 4.5902e-03 seconds\n",
      " Total time for finalization       = 1.5430e-04 seconds\n",
      " Total time elapsed                = 2.9157e+00 seconds\n",
      " Calculation Rate (active)         = 37809 particles/second\n",
      "\n",
      " ============================>     RESULTS     <============================\n",
      "\n",
      " Leakage Fraction            = 0.59727 +/- 0.00135\n",
      "\n"
     ]
    }
   ],
   "source": [
    "!rm statepoint.*.h5\n",
    "!rm summary.h5\n",
    "openmc.run()"
   ]
  },
  {
   "cell_type": "markdown",
   "metadata": {},
   "source": [
    "We can see the result of the tally by reading the file `tallies.out`:"
   ]
  },
  {
   "cell_type": "code",
   "execution_count": 21,
   "metadata": {},
   "outputs": [
    {
     "name": "stdout",
     "output_type": "stream",
     "text": [
      " =======================>     TALLY 9: LEAKAGE     <========================\r\n",
      "\r\n",
      " Surface 4\r\n",
      "   Total Material\r\n",
      "     Current                              0.59727 +/- 0.00135303\r\n",
      " =====================>     TALLY 10: ABSORPTION     <======================\r\n",
      "\r\n",
      " Cell 4\r\n",
      "   Total Material\r\n",
      "     Absorption Rate                      0.400707 +/- 0.00128976\r\n"
     ]
    }
   ],
   "source": [
    "!cat tallies.out"
   ]
  },
  {
   "cell_type": "markdown",
   "metadata": {
    "colab_type": "text",
    "id": "MtXSmsjXPG1R"
   },
   "source": [
    "As we can see, the leakage gives the same value as in the summary table of the run (because the leakage from the moderator cell is the leakage from the whole simulation), and that the sum of the absorption and leakage add up to 1 source "
   ]
  },
  {
   "cell_type": "markdown",
   "metadata": {},
   "source": [
    "It is not very practical to read the `tallies.out`, particularly for postprocessing. For this, OpenMC provides a binary State Point file in standard HDF5 format. This contains the result of the tallies as well as restart the simulation."
   ]
  }
 ],
 "metadata": {
  "colab": {
   "collapsed_sections": [
    "4x3hJX0SPOz2"
   ],
   "name": "Parametros.ipynb",
   "provenance": [],
   "version": "0.3.2"
  },
  "kernelspec": {
   "display_name": "Python 3 (ipykernel)",
   "language": "python",
   "name": "python3"
  },
  "language_info": {
   "codemirror_mode": {
    "name": "ipython",
    "version": 3
   },
   "file_extension": ".py",
   "mimetype": "text/x-python",
   "name": "python",
   "nbconvert_exporter": "python",
   "pygments_lexer": "ipython3",
   "version": "3.9.16"
  }
 },
 "nbformat": 4,
 "nbformat_minor": 1
}
