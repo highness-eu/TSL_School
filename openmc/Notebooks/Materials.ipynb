{
 "cells": [
  {
   "cell_type": "code",
   "execution_count": null,
   "metadata": {},
   "outputs": [],
   "source": [
    "import pathlib\n",
    "import os\n",
    "if 'TSL_SCHOOL_DIR' in os.environ:\n",
    "    if any( (p/\".git\").is_dir() for p in (pathlib.Path(\".\").absolute().resolve()/\"dummy\").parents ):\n",
    "        raise RuntimeError('Please copy notebook to a work directory')"
   ]
  },
  {
   "cell_type": "markdown",
   "metadata": {
    "colab_type": "text",
    "id": "vNkloqMZWf76"
   },
   "source": [
    "# Material definitions in OpenMC"
   ]
  },
  {
   "cell_type": "markdown",
   "metadata": {
    "colab_type": "text",
    "id": "ZQe7t28HWf77"
   },
   "source": [
    "We start by importing the `openmc` module, which contains the API to generate the input files for OpenMC."
   ]
  },
  {
   "cell_type": "code",
   "execution_count": 1,
   "metadata": {
    "colab": {},
    "colab_type": "code",
    "id": "1AdH-6N-Wf78"
   },
   "outputs": [],
   "source": [
    "import openmc"
   ]
  },
  {
   "cell_type": "markdown",
   "metadata": {
    "colab_type": "text",
    "id": "tZKmiMZYWf8B"
   },
   "source": [
    "Materials are created by instantiating a `Material` object:"
   ]
  },
  {
   "cell_type": "code",
   "execution_count": 2,
   "metadata": {
    "colab": {},
    "colab_type": "code",
    "id": "ji2xRO0sWf8E"
   },
   "outputs": [],
   "source": [
    "water = openmc.Material()"
   ]
  },
  {
   "cell_type": "markdown",
   "metadata": {
    "colab_type": "text",
    "id": "RTQMPvAGWf8I"
   },
   "source": [
    "After we created the material we can use the `.add_nuclide()` to add nuclides to the composition:"
   ]
  },
  {
   "cell_type": "code",
   "execution_count": 3,
   "metadata": {
    "colab": {},
    "colab_type": "code",
    "id": "YD_WC1ePWf8J"
   },
   "outputs": [],
   "source": [
    "water.add_nuclide('H1', 2.0, 'ao')"
   ]
  },
  {
   "cell_type": "markdown",
   "metadata": {},
   "source": [
    "The first parameter in `.add_nuclide()` is the nuclide to add, in this case $^1$H, the second is the fraction that it contributes to the composition, and the third parameter is the unit for the fraction. `ao` is a fraction in number of atoms, and `wo` is a fraction in weight. Fraction do not need to add to unity, because compositions are automatically renormalized."
   ]
  },
  {
   "cell_type": "markdown",
   "metadata": {
    "colab_type": "text",
    "id": "jtAUxSysWf8M"
   },
   "source": [
    "To define the density we use the method `.set_density()`:"
   ]
  },
  {
   "cell_type": "code",
   "execution_count": 4,
   "metadata": {
    "colab": {},
    "colab_type": "code",
    "id": "24uUUtwCWf8N"
   },
   "outputs": [],
   "source": [
    "water.set_density('g/cm3', 1.0)"
   ]
  },
  {
   "cell_type": "markdown",
   "metadata": {
    "colab_type": "text",
    "id": "YU2a3mU3Wf8Q"
   },
   "source": [
    "Other possible units for the density are atoms per barn*cm (`'atom/b-cm'`) or kg per m$^3$ (`'kg/m3'`)."
   ]
  },
  {
   "cell_type": "markdown",
   "metadata": {
    "colab_type": "text",
    "id": "u0mT_78gWf8Q"
   },
   "source": [
    "We can also add elements to the composition with the method `.add_element()`. The element is then separated into its isotopes, based on the available nuclides in the `cross_sections.xml` library. The location of this library is taken from the environmental variable `$OPENMC_CROSS_SECTIONS`, so it is a good practice to set it at the beginning of the script. "
   ]
  },
  {
   "cell_type": "code",
   "execution_count": 5,
   "metadata": {},
   "outputs": [],
   "source": [
    "openmc.config['cross_sections'] = '/home/student/openmc_ncrystal_vm/endfb-viii.0-hdf5/cross_sections.xml'\n",
    "water.add_element('O', 1.0, 'ao')"
   ]
  },
  {
   "cell_type": "markdown",
   "metadata": {},
   "source": [
    "We can verfiy the composition by listing the nuclide number densities for the material:"
   ]
  },
  {
   "cell_type": "code",
   "execution_count": 6,
   "metadata": {},
   "outputs": [
    {
     "data": {
      "text/plain": [
       "OrderedDict([('H1', 0.06685712956516868),\n",
       "             ('O16', 0.033349024855540664),\n",
       "             ('O17', 1.2669426052599466e-05),\n",
       "             ('O18', 6.687050099108171e-05)])"
      ]
     },
     "execution_count": 6,
     "metadata": {},
     "output_type": "execute_result"
    }
   ],
   "source": [
    "water.get_nuclide_atom_densities()"
   ]
  },
  {
   "cell_type": "markdown",
   "metadata": {},
   "source": [
    "Materials can also be defined using the `.add_elements_from_formula()` method, which takes a chemical formula and expands it in to the composing nuclides:"
   ]
  },
  {
   "cell_type": "code",
   "execution_count": 7,
   "metadata": {},
   "outputs": [
    {
     "data": {
      "text/plain": [
       "OrderedDict([('C12', 0.038210983660118124),\n",
       "             ('C13', 0.0004280431388792934),\n",
       "             ('H1', 0.07726601831392749),\n",
       "             ('H2', 1.2035284067351716e-05)])"
      ]
     },
     "execution_count": 7,
     "metadata": {},
     "output_type": "execute_result"
    }
   ],
   "source": [
    "poly = openmc.Material()\n",
    "poly.set_density('g/cc', 0.9)\n",
    "poly.add_elements_from_formula('CH2')\n",
    "poly.get_nuclide_atom_densities()"
   ]
  },
  {
   "cell_type": "markdown",
   "metadata": {
    "colab_type": "text",
    "id": "IKguaNJ6Wf8V"
   },
   "source": [
    "**Although this is handy, if you need to ensure reproducibility, it is better to specify the composition nuclide by nuclide.**"
   ]
  },
  {
   "cell_type": "markdown",
   "metadata": {
    "colab_type": "text",
    "id": "RgLxpUtSWf8V"
   },
   "source": [
    "## Thermal nuclear data"
   ]
  },
  {
   "cell_type": "markdown",
   "metadata": {
    "colab_type": "text",
    "id": "m_gWTVEJWf8W"
   },
   "source": [
    "The default treatment for the neutron scattering cross section in the thermal range is the free gas model at the temperature of the cell or material. In case the nuclear data library contains an evaluation thermal scattering cross section for the material, these can be specified using the method `.add_s_alpha_beta()`:"
   ]
  },
  {
   "cell_type": "code",
   "execution_count": 8,
   "metadata": {
    "colab": {},
    "colab_type": "code",
    "id": "zptORnOfWf8Y"
   },
   "outputs": [],
   "source": [
    "water.add_s_alpha_beta(\"c_H_in_H2O\")"
   ]
  },
  {
   "cell_type": "markdown",
   "metadata": {
    "colab_type": "text",
    "id": "89qe3bN1Wf8b"
   },
   "source": [
    "Now, the defintition of the material will include the replacement of the scattering cross section for $^1$H with the information in the `c_H_in_H2O` library for thermal neutrons."
   ]
  },
  {
   "cell_type": "markdown",
   "metadata": {},
   "source": [
    "## NCrystal materials"
   ]
  },
  {
   "cell_type": "markdown",
   "metadata": {},
   "source": [
    "NCrystal now also supports the generation of materials where the thermal scattering is handled with NCrystal. These materials are created with the `.from_ncrystal()` function, which takes an NCrystal configuration string and returns an OpenMC material:"
   ]
  },
  {
   "cell_type": "code",
   "execution_count": 9,
   "metadata": {},
   "outputs": [
    {
     "data": {
      "text/plain": [
       "OrderedDict([('H1',\n",
       "              NuclideTuple(name='H1', percent=0.66656284, percent_type='ao')),\n",
       "             ('H2',\n",
       "              NuclideTuple(name='H2', percent=0.00010382666666666666, percent_type='ao')),\n",
       "             ('Mg24',\n",
       "              NuclideTuple(name='Mg24', percent=0.26317, percent_type='ao')),\n",
       "             ('Mg25',\n",
       "              NuclideTuple(name='Mg25', percent=0.0334, percent_type='ao')),\n",
       "             ('Mg26',\n",
       "              NuclideTuple(name='Mg26', percent=0.03676333333333333, percent_type='ao'))])"
      ]
     },
     "execution_count": 9,
     "metadata": {},
     "output_type": "execute_result"
    }
   ],
   "source": [
    "cfg = 'MgH2_sg136_MagnesiumHydride.ncmat'\n",
    "mgh2 = openmc.Material.from_ncrystal(cfg)\n",
    "mgh2.get_nuclide_densities()"
   ]
  },
  {
   "cell_type": "markdown",
   "metadata": {},
   "source": [
    "The composition and density are provided by NCrystal, and the definition includes also the configuration string. During the simulation, OpenMC calls NCrystal to handle the neutron scattering events below 5 eV.\n",
    "\n",
    "The composition of materials defined from NCrystal cannot be modified after creation."
   ]
  },
  {
   "cell_type": "markdown",
   "metadata": {
    "colab_type": "text",
    "id": "3W8-IxxqWf8c"
   },
   "source": [
    "## Nomenclature of nuclides, elements and compounds"
   ]
  },
  {
   "cell_type": "markdown",
   "metadata": {
    "colab_type": "text",
    "id": "aN5jIzROWf8d"
   },
   "source": [
    "The naming scheme used in OpenMC comes from [GND](https://www.oecd-nea.org/science/wpec/sg38/Meetings/2016_May/tlh4gnd-main.pdf), which is a format that in the future will replace ENDF-6. Instead of using numbers, compounds are defined using strings, with the following criteria:\n",
    "\n",
    "* Elements: `Sym` (chemical symbol). E.g. `C`, `Al`.\n",
    "* Nuclides: `SymA` (chemical symbol followd by mass number E.g., `O16`, `Al27`. Nuclides with the average property of the element are represented with mass number zero. E.g.: `C0`.\n",
    "* Excited states: `SymA_eN` (where N is the number of the excited level). E.g.: `V51_e2`.\n",
    "* Metastable states: `SymA_mN` (where N is the number of the metastable state). E.g., `Am242_m1`.\n",
    "* Compounds: `c_name` (where `name` is a string identifying the compound. E.g., `c_H_in_H2O`."
   ]
  },
  {
   "cell_type": "markdown",
   "metadata": {
    "colab_type": "text",
    "id": "PXfAimbmWf8e"
   },
   "source": [
    "## Temperature"
   ]
  },
  {
   "cell_type": "markdown",
   "metadata": {
    "colab_type": "text",
    "id": "J77uhv2iWf8e"
   },
   "source": [
    "The temperature of the different regions in the simulation is indicated in OpenMC as a property of the cell. But, if all the cells containing a material have the same temperature, this can be indicated with the attribute `.temperature` of the material. The unit for temperature in OpenMC is Kelvin:"
   ]
  },
  {
   "cell_type": "code",
   "execution_count": 10,
   "metadata": {
    "colab": {},
    "colab_type": "code",
    "id": "hkKRZERZWf8f"
   },
   "outputs": [],
   "source": [
    "water.temperature = 293 # K"
   ]
  },
  {
   "cell_type": "markdown",
   "metadata": {
    "colab_type": "text",
    "id": "DRHoG5WmWf8h"
   },
   "source": [
    "If all the system is at the same temperature, this can be specified in the simulation settings (as part of the `Settings()` object). The temperature for the cell has preeminence over the temperature for the material, and the temperature of the material has preeminence over the global value."
   ]
  },
  {
   "cell_type": "markdown",
   "metadata": {
    "colab_type": "text",
    "id": "LlQPPvoTWf8i"
   },
   "source": [
    "## Material collection and generation of xml input"
   ]
  },
  {
   "cell_type": "markdown",
   "metadata": {
    "colab_type": "text",
    "id": "34FWQkpRWf8j"
   },
   "source": [
    "Prior to generating the input it is necessary to generate a collection of materials using the `Materials()` constructor:"
   ]
  },
  {
   "cell_type": "code",
   "execution_count": 11,
   "metadata": {
    "colab": {},
    "colab_type": "code",
    "id": "zJzQbAD_Wf8k"
   },
   "outputs": [],
   "source": [
    "mats = openmc.Materials()\n",
    "mats.append(water)\n",
    "mats.append(poly)"
   ]
  },
  {
   "cell_type": "markdown",
   "metadata": {
    "colab_type": "text",
    "id": "Th01jd5YWf8m"
   },
   "source": [
    "or, equivalently:"
   ]
  },
  {
   "cell_type": "code",
   "execution_count": 12,
   "metadata": {
    "colab": {},
    "colab_type": "code",
    "id": "q5TvjCmgWf8n"
   },
   "outputs": [],
   "source": [
    "mats = openmc.Materials([water, poly, mgh2])"
   ]
  },
  {
   "cell_type": "markdown",
   "metadata": {
    "colab_type": "text",
    "id": "H_on7h4rWf8p"
   },
   "source": [
    "The generation of the xml input is done using the `.export_to_xml()` method:"
   ]
  },
  {
   "cell_type": "code",
   "execution_count": 13,
   "metadata": {
    "colab": {},
    "colab_type": "code",
    "id": "zZQ7hJwVWf8q"
   },
   "outputs": [],
   "source": [
    "mats.export_to_xml()"
   ]
  },
  {
   "cell_type": "markdown",
   "metadata": {
    "colab_type": "text",
    "id": "Fhj3h_o7Wf8s"
   },
   "source": [
    "And we can see the generated file:"
   ]
  },
  {
   "cell_type": "code",
   "execution_count": 14,
   "metadata": {
    "colab": {},
    "colab_type": "code",
    "id": "l43LUSMZWf8u"
   },
   "outputs": [
    {
     "name": "stdout",
     "output_type": "stream",
     "text": [
      "<?xml version='1.0' encoding='utf-8'?>\r\n",
      "<materials>\r\n",
      "  <material id=\"1\" temperature=\"293\">\r\n",
      "    <density units=\"g/cm3\" value=\"1.0\" />\r\n",
      "    <nuclide ao=\"2.0\" name=\"H1\" />\r\n",
      "    <nuclide ao=\"0.9976206\" name=\"O16\" />\r\n",
      "    <nuclide ao=\"0.000379\" name=\"O17\" />\r\n",
      "    <nuclide ao=\"0.0020004\" name=\"O18\" />\r\n",
      "    <sab name=\"c_H_in_H2O\" />\r\n",
      "  </material>\r\n",
      "  <material id=\"2\">\r\n",
      "    <density units=\"g/cc\" value=\"0.9\" />\r\n",
      "    <nuclide ao=\"0.32964066666666664\" name=\"C12\" />\r\n",
      "    <nuclide ao=\"0.003692666666666666\" name=\"C13\" />\r\n",
      "    <nuclide ao=\"0.66656284\" name=\"H1\" />\r\n",
      "    <nuclide ao=\"0.00010382666666666666\" name=\"H2\" />\r\n",
      "  </material>\r\n",
      "  <material cfg=\"MgH2_sg136_MagnesiumHydride.ncmat\" id=\"3\" temperature=\"293.15\">\r\n",
      "    <density units=\"g/cm3\" value=\"1.4185379813679093\" />\r\n",
      "    <nuclide ao=\"0.66656284\" name=\"H1\" />\r\n",
      "    <nuclide ao=\"0.00010382666666666666\" name=\"H2\" />\r\n",
      "    <nuclide ao=\"0.26317\" name=\"Mg24\" />\r\n",
      "    <nuclide ao=\"0.0334\" name=\"Mg25\" />\r\n",
      "    <nuclide ao=\"0.03676333333333333\" name=\"Mg26\" />\r\n",
      "  </material>\r\n",
      "</materials>\r\n"
     ]
    }
   ],
   "source": [
    "!cat materials.xml"
   ]
  }
 ],
 "metadata": {
  "colab": {
   "collapsed_sections": [],
   "name": "Materiales.ipynb",
   "provenance": [],
   "toc_visible": true,
   "version": "0.3.2"
  },
  "kernelspec": {
   "display_name": "Python 3",
   "language": "python",
   "name": "python3"
  },
  "language_info": {
   "codemirror_mode": {
    "name": "ipython",
    "version": 3
   },
   "file_extension": ".py",
   "mimetype": "text/x-python",
   "name": "python",
   "nbconvert_exporter": "python",
   "pygments_lexer": "ipython3",
   "version": "3.7.6"
  }
 },
 "nbformat": 4,
 "nbformat_minor": 1
}
