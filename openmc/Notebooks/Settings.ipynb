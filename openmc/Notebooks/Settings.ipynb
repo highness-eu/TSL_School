{
 "cells": [
  {
   "cell_type": "markdown",
   "metadata": {
    "colab_type": "text",
    "id": "dy4oKx7TPG0m"
   },
   "source": [
    "# Defining simulation settings"
   ]
  },
  {
   "cell_type": "markdown",
   "metadata": {
    "colab_type": "text",
    "id": "c8t73FYXPG0r"
   },
   "source": [
    "We start by importing the `openmc` module, which contains the API to generate the input files for OpenMC."
   ]
  },
  {
   "cell_type": "code",
   "execution_count": 1,
   "metadata": {
    "colab": {},
    "colab_type": "code",
    "id": "AoPeObmpPG0t"
   },
   "outputs": [],
   "source": [
    "import openmc\n",
    "openmc.config['cross_sections'] = '/home/student/openmc_ncrystal_vm/endfb-viii.0-hdf5/cross_sections.xml'"
   ]
  },
  {
   "cell_type": "markdown",
   "metadata": {
    "colab_type": "text",
    "id": "rrq4QRomPG1C"
   },
   "source": [
    "Once we defined the materials and geometry for our simulation, we need to indicate to OpenMC the parameters for our simulation. This is done with the class `Settings()`, which generates the file `settings.xml`. This file, along with `materials.xml` and `geometry.xml` forms the minimum set to run OpenMC."
   ]
  },
  {
   "cell_type": "code",
   "execution_count": 2,
   "metadata": {
    "colab": {},
    "colab_type": "code",
    "id": "pnDjl07WPG1E"
   },
   "outputs": [],
   "source": [
    "settings = openmc.Settings()"
   ]
  },
  {
   "cell_type": "markdown",
   "metadata": {
    "colab_type": "text",
    "id": "iTo2ZYYfPG1K"
   },
   "source": [
    "The type of simulation is set with the parameter `.run_mode`. It takes a string with the following values:\n",
    "\n",
    "* `\"eigenvalue\"`: computes the multiplication factor and fundamental mode of the associated critical reactor for multiplicative systems.\n",
    "* `\"fixed source\"`: transport particles with a fixed source.\n",
    "* `\"volume\"`: computes the volumes of cells using Monte Carlo.\n",
    "* `\"plot\"`: makes 2D and 3D plots of the geometry.\n",
    "* `\"particle restart\"`: restarts a simulation."
   ]
  },
  {
   "cell_type": "code",
   "execution_count": 3,
   "metadata": {
    "colab": {},
    "colab_type": "code",
    "id": "KNbsNtNwQJDL"
   },
   "outputs": [],
   "source": [
    "settings.run_mode = \"eigenvalue\""
   ]
  },
  {
   "cell_type": "markdown",
   "metadata": {
    "colab_type": "text",
    "id": "2rfJ1Q2UPG1M"
   },
   "source": [
    "In the `eigenvalue` and `fixed source` modes we need to indicate the number of particles to simulate with the attributes `.particles` (number of particles per batch) and `.batches` (number of batches). E.g.:"
   ]
  },
  {
   "cell_type": "code",
   "execution_count": 4,
   "metadata": {
    "colab": {},
    "colab_type": "code",
    "id": "0NU6t3kHPG1O"
   },
   "outputs": [],
   "source": [
    "settings.batches = 10\n",
    "settings.particles = 1000"
   ]
  },
  {
   "cell_type": "markdown",
   "metadata": {
    "colab_type": "text",
    "id": "MtXSmsjXPG1R"
   },
   "source": [
    "makes a 10000 particle simulation, divided into 10 batches of 1000 particles."
   ]
  },
  {
   "cell_type": "markdown",
   "metadata": {
    "colab_type": "text",
    "id": "fM_uQgcpPG2X"
   },
   "source": [
    "## Fixed source simulation"
   ]
  },
  {
   "cell_type": "markdown",
   "metadata": {
    "colab_type": "text",
    "id": "wFgBcifQPG2Y"
   },
   "source": [
    "To perform a fixed source simulation it is necessary to define an external source. The source is specified in the `.source` parameter of the `Settings()` class. The source is an object of the `Source()` class and has as attributes the distributions in space, angle and energy. E.g. to define an isotropic $1$ MeV neutron source in the origin of coordinates we do:"
   ]
  },
  {
   "cell_type": "code",
   "execution_count": 5,
   "metadata": {
    "colab": {},
    "colab_type": "code",
    "id": "tj5JoZhPPG2Y"
   },
   "outputs": [],
   "source": [
    "source = openmc.Source()\n",
    "source.space = openmc.stats.Point(xyz=(0.0, 0.0, 0.0))\n",
    "source.angle = openmc.stats.Isotropic()\n",
    "source.energy = openmc.stats.Discrete([1.0e6], [1.0]) # Energy units are MeV\n",
    "\n",
    "settings = openmc.Settings()\n",
    "settings.source = source"
   ]
  },
  {
   "cell_type": "markdown",
   "metadata": {
    "colab_type": "text",
    "id": "JxStdWIZPG2c"
   },
   "source": [
    "Distributions are contained in the `openmc.stats` sub module. These include 1D, 2D and 3D distributions that could be used for the different variables of the source:"
   ]
  },
  {
   "cell_type": "markdown",
   "metadata": {
    "colab_type": "text",
    "id": "pbLscb49PG2c"
   },
   "source": [
    "Space distributions:\n",
    "\n",
    "* `openmc.stats.Point()`: delta distribution in space, $\\delta(\\vec{r}-\\vec{r}_0)$.\n",
    "* `openmc.stats.Box()`: uniform distribution over a bos defined with two points: lower left and upper right.\n",
    "* `openmc.stats.CartesianIndependent()`: 3D distribution factorized in univariate independent distributions for $x$, $y$ and $z$, $D(\\vec{r}) = X(x)Y(y)Z(z)$.  "
   ]
  },
  {
   "cell_type": "markdown",
   "metadata": {
    "colab_type": "text",
    "id": "JU-JRWuHPG2d"
   },
   "source": [
    "Angular distributions:\n",
    "* `openmc.stats.Isotropic()`: isotropic distribution in the unit sphere.\n",
    "* `openmc.stats.Monodirectional()`: delta distriubiton in angle, $\\delta(\\hat{\\Omega}-\\hat{\\Omega}_0)$.\n",
    "* `openmc.stats.PolarAzimuthal()`: angle distribution factorized in univariate independent disitrubtions for the cosine of the polar angle $\\mu = \\cos(\\theta)$ and the azimuthal angle $\\phi$, respect to a give direction (by default, $+z$)."
   ]
  },
  {
   "cell_type": "markdown",
   "metadata": {
    "colab_type": "text",
    "id": "8OIeH5NQPG2e"
   },
   "source": [
    "Univariate distributions (could be used for energy or to define other distributions):\n",
    "* `openmc.stats.Discrete()`: distribution defined as a set of delta functions.\n",
    "* `openmc.stats.Uniform()`: uniform distribution on an interval $[a,b]$.\n",
    "* `openmc.stats.Tabular()`: piecewise continuous distribution defined by a set of points and an interpolation law (histogram, lin-lin, lin-log, log-lin ot log-log).\n",
    "* `openmc.stats.Watt()`: Watt fission distribution for fission: $\\chi(E) = C e^{-E/a} \\sinh{\\sqrt{b E}}$).\n",
    "* `openmc.stats.Maxwell()`: Maxwell distribution for fission : $\\chi(E) = C \\sqrt{E} e^{-E/kT}$. Important note: this is *not* the thermal energy distribution $M(E) = C E e^{-E/kT}$.\n",
    "* `openmc.stats.Legendre()`: distribution given by an expansion in Legendre polynomials=.\n",
    "* `openmc.stats.Mixture()`: discrete distribution where the values are other distributions (similar to `FCEL` in MCNP)."
   ]
  },
  {
   "cell_type": "markdown",
   "metadata": {
    "colab_type": "text",
    "id": "hBp5FU1tPG2f"
   },
   "source": [
    "As an example, we will calculate the leakage of neutrons from a $10$ cm radius water sphere with a $1$ MeV isotropic source:"
   ]
  },
  {
   "cell_type": "code",
   "execution_count": 8,
   "metadata": {
    "colab": {},
    "colab_type": "code",
    "id": "M9LC73QwPG2g"
   },
   "outputs": [],
   "source": [
    "# Material definition\n",
    "\n",
    "h2o = openmc.Material()\n",
    "h2o.add_nuclide(\"H1\", 2.0, \"ao\")\n",
    "h2o.add_nuclide(\"O16\", 1.0, \"ao\")\n",
    "h2o.set_density(\"g/cm3\", 1)\n",
    "h2o.add_s_alpha_beta(\"c_H_in_H2O\")\n",
    "\n",
    "mats = openmc.Materials([h2o])\n",
    "mats.export_to_xml()\n",
    "\n",
    "# Geometry definition\n",
    "\n",
    "sphere = openmc.Sphere(r=10, boundary_type=\"vacuum\")\n",
    "cell = openmc.Cell(region=-sphere, fill=h2o)\n",
    "universe = openmc.Universe(cells=[cell])\n",
    "\n",
    "geom = openmc.Geometry(universe)\n",
    "geom.export_to_xml()\n",
    "\n",
    "# Settings definition\n",
    "\n",
    "source = openmc.Source()\n",
    "source.space = openmc.stats.Point(xyz=(0.0, 0.0, 0.0))\n",
    "source.angle = openmc.stats.Isotropic()\n",
    "source.energy = openmc.stats.Discrete([1.0e6], [1.0])\n",
    "\n",
    "settings = openmc.Settings()\n",
    "settings.source = source\n",
    "settings.run_mode = \"fixed source\"\n",
    "settings.batches = 10\n",
    "settings.particles = 10000\n",
    "settings.export_to_xml()"
   ]
  },
  {
   "cell_type": "markdown",
   "metadata": {},
   "source": [
    "After we generated the necessary `xml` files, we can start the run with `openmc.run()`. We can also start the run using the `openmc` command in the terminal."
   ]
  },
  {
   "cell_type": "code",
   "execution_count": 11,
   "metadata": {
    "colab": {
     "base_uri": "https://localhost:8080/",
     "height": 1000
    },
    "colab_type": "code",
    "id": "rIFeSrR_PG2i",
    "outputId": "49e32c6f-21c0-47b0-b7c2-32a7cf35ca06"
   },
   "outputs": [
    {
     "name": "stdout",
     "output_type": "stream",
     "text": [
      "rm: cannot remove 'statepoint.*.h5': No such file or directory\n",
      "rm: cannot remove 'summary.h5': No such file or directory\n",
      "                                %%%%%%%%%%%%%%%\n",
      "                           %%%%%%%%%%%%%%%%%%%%%%%%\n",
      "                        %%%%%%%%%%%%%%%%%%%%%%%%%%%%%%\n",
      "                      %%%%%%%%%%%%%%%%%%%%%%%%%%%%%%%%%%\n",
      "                    %%%%%%%%%%%%%%%%%%%%%%%%%%%%%%%%%%%%%%\n",
      "                   %%%%%%%%%%%%%%%%%%%%%%%%%%%%%%%%%%%%%%%%\n",
      "                                    %%%%%%%%%%%%%%%%%%%%%%%%\n",
      "                                     %%%%%%%%%%%%%%%%%%%%%%%%\n",
      "                 ###############      %%%%%%%%%%%%%%%%%%%%%%%%\n",
      "                ##################     %%%%%%%%%%%%%%%%%%%%%%%\n",
      "                ###################     %%%%%%%%%%%%%%%%%%%%%%%\n",
      "                ####################     %%%%%%%%%%%%%%%%%%%%%%\n",
      "                #####################     %%%%%%%%%%%%%%%%%%%%%\n",
      "                ######################     %%%%%%%%%%%%%%%%%%%%\n",
      "                #######################     %%%%%%%%%%%%%%%%%%\n",
      "                 #######################     %%%%%%%%%%%%%%%%%\n",
      "                 ######################     %%%%%%%%%%%%%%%%%\n",
      "                  ####################     %%%%%%%%%%%%%%%%%\n",
      "                    #################     %%%%%%%%%%%%%%%%%\n",
      "                     ###############     %%%%%%%%%%%%%%%%\n",
      "                       ############     %%%%%%%%%%%%%%%\n",
      "                          ########     %%%%%%%%%%%%%%\n",
      "                                      %%%%%%%%%%%\n",
      "\n",
      "                 | The OpenMC Monte Carlo Code\n",
      "       Copyright | 2011-2023 MIT, UChicago Argonne LLC, and contributors\n",
      "         License | https://docs.openmc.org/en/latest/license.html\n",
      "         Version | 0.13.3-dev\n",
      "        Git SHA1 | 3f5b90042c378f4182ef196ac075dd8cd8cec686\n",
      "       Date/Time | 2023-04-27 09:20:48\n",
      "  OpenMP Threads | 8\n",
      "\n",
      " Reading settings XML file...\n",
      " Reading cross sections XML file...\n",
      " Reading materials XML file...\n",
      " Reading geometry XML file...\n",
      " Reading H1 from\n",
      " /home/nacho/mounts/uqbar_home/ess/2023/openmc_ncrystal_conda/endfb-viii.0-hdf5/n\n",
      " eutron/H1.h5\n",
      " Reading O16 from\n",
      " /home/nacho/mounts/uqbar_home/ess/2023/openmc_ncrystal_conda/endfb-viii.0-hdf5/n\n",
      " eutron/O16.h5\n",
      " Reading c_H_in_H2O from\n",
      " /home/nacho/mounts/uqbar_home/ess/2023/openmc_ncrystal_conda/endfb-viii.0-hdf5/n\n",
      " eutron/c_H_in_H2O.h5\n",
      " Minimum neutron data temperature: 294 K\n",
      " Maximum neutron data temperature: 294 K\n",
      " Preparing distributed cell instances...\n",
      " Reading plot XML file...\n",
      " Writing summary.h5 file...\n",
      " Maximum neutron transport energy: 20000000 eV for H1\n",
      "\n",
      " ===============>     FIXED SOURCE TRANSPORT SIMULATION     <===============\n",
      "\n",
      " Simulating batch 1\n",
      " Simulating batch 2\n",
      " Simulating batch 3\n",
      " Simulating batch 4\n",
      " Simulating batch 5\n",
      " Simulating batch 6\n",
      " Simulating batch 7\n",
      " Simulating batch 8\n",
      " Simulating batch 9\n",
      " Simulating batch 10\n",
      " Creating state point statepoint.10.h5...\n",
      "\n",
      " =======================>     TIMING STATISTICS     <=======================\n",
      "\n",
      " Total time for initialization     = 1.7408e-01 seconds\n",
      "   Reading cross sections          = 1.6087e-01 seconds\n",
      " Total time in simulation          = 1.6573e+00 seconds\n",
      "   Time in transport only          = 1.6549e+00 seconds\n",
      "   Time in active batches          = 1.6573e+00 seconds\n",
      "   Time accumulating tallies       = 8.3900e-06 seconds\n",
      "   Time writing statepoints        = 1.6454e-03 seconds\n",
      " Total time for finalization       = 1.3140e-06 seconds\n",
      " Total time elapsed                = 1.8320e+00 seconds\n",
      " Calculation Rate (active)         = 60337.8 particles/second\n",
      "\n",
      " ============================>     RESULTS     <============================\n",
      "\n",
      " Leakage Fraction            = 0.59727 +/- 0.00135\n",
      "\n"
     ]
    }
   ],
   "source": [
    "!rm tallies.xml # delete the tally file since this run does not specify one\n",
    "!rm statepoint.*.h5\n",
    "!rm summary.h5\n",
    "openmc.run()"
   ]
  }
 ],
 "metadata": {
  "colab": {
   "collapsed_sections": [
    "4x3hJX0SPOz2"
   ],
   "name": "Parametros.ipynb",
   "provenance": [],
   "version": "0.3.2"
  },
  "kernelspec": {
   "display_name": "Python 3 (ipykernel)",
   "language": "python",
   "name": "python3"
  },
  "language_info": {
   "codemirror_mode": {
    "name": "ipython",
    "version": 3
   },
   "file_extension": ".py",
   "mimetype": "text/x-python",
   "name": "python",
   "nbconvert_exporter": "python",
   "pygments_lexer": "ipython3",
   "version": "3.9.16"
  }
 },
 "nbformat": 4,
 "nbformat_minor": 1
}
