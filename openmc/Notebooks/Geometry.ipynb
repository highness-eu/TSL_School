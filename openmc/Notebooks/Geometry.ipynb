{
 "cells": [
  {
   "cell_type": "code",
   "execution_count": null,
   "metadata": {},
   "outputs": [],
   "source": [
    "import pathlib\n",
    "import os\n",
    "if 'TSL_SCHOOL_DIR' in os.environ:\n",
    "    if any( (p/\".git\").is_dir() for p in (pathlib.Path(\".\").absolute().resolve()/\"dummy\").parents ):\n",
    "        raise RuntimeError('Please copy notebook to a work directory')"
   ]
  },
  {
   "cell_type": "markdown",
   "metadata": {
    "colab_type": "text",
    "id": "uxDY3tJdkUkq"
   },
   "source": [
    "# Geometry definition in OpenMC"
   ]
  },
  {
   "cell_type": "markdown",
   "metadata": {
    "colab_type": "text",
    "id": "fGr8dpdskUkr"
   },
   "source": [
    "We start by importing the `openmc` module, which contains the API to generate the input files for OpenMC."
   ]
  },
  {
   "cell_type": "code",
   "execution_count": 1,
   "metadata": {
    "colab": {},
    "colab_type": "code",
    "id": "vsO9tCe1kUks"
   },
   "outputs": [],
   "source": [
    "import openmc\n",
    "openmc.config['cross_sections'] = '/home/student/tsl_software/endfb-viii.0-hdf5/cross_sections.xml'"
   ]
  },
  {
   "cell_type": "markdown",
   "metadata": {
    "colab_type": "text",
    "id": "X1SmhgtLkUk0"
   },
   "source": [
    "Surface definition is done by instantiating objects. E.g., to create a plane perpendicular to the x axis we do:"
   ]
  },
  {
   "cell_type": "code",
   "execution_count": 2,
   "metadata": {
    "colab": {},
    "colab_type": "code",
    "id": "F30otsBHkUk3"
   },
   "outputs": [],
   "source": [
    "plane = openmc.XPlane()"
   ]
  },
  {
   "cell_type": "code",
   "execution_count": 3,
   "metadata": {
    "colab": {},
    "colab_type": "code",
    "id": "XRtOK0uUkUk8"
   },
   "outputs": [
    {
     "name": "stdout",
     "output_type": "stream",
     "text": [
      "<class 'openmc.surface.XPlane'>\n"
     ]
    }
   ],
   "source": [
    "print(type(plane))"
   ]
  },
  {
   "cell_type": "markdown",
   "metadata": {
    "colab_type": "text",
    "id": "QWVXitDGkUlA"
   },
   "source": [
    "An object of the `XPlane` class posses certain attributes and methods that allow to modify it. For instance, by default the plane cuts the $x$ axis in the origin. To change that point we do:"
   ]
  },
  {
   "cell_type": "code",
   "execution_count": 4,
   "metadata": {
    "colab": {},
    "colab_type": "code",
    "id": "oNbwN6b-kUlB"
   },
   "outputs": [],
   "source": [
    "plane.x0 = 10.0"
   ]
  },
  {
   "cell_type": "markdown",
   "metadata": {},
   "source": [
    "We can also change other properties:"
   ]
  },
  {
   "cell_type": "code",
   "execution_count": 5,
   "metadata": {},
   "outputs": [],
   "source": [
    "plane.name = \"Plane 1\""
   ]
  },
  {
   "cell_type": "markdown",
   "metadata": {
    "colab_type": "text",
    "id": "fZjv-jh1kUlF"
   },
   "source": [
    "We can also set these parameters when we call the constructor `XPlane()`:"
   ]
  },
  {
   "cell_type": "code",
   "execution_count": 6,
   "metadata": {
    "colab": {},
    "colab_type": "code",
    "id": "pVr38fr9kUlG"
   },
   "outputs": [],
   "source": [
    "plane2 = openmc.XPlane(x0=10.0, name=\"Plane 2\")"
   ]
  },
  {
   "cell_type": "markdown",
   "metadata": {
    "colab_type": "text",
    "id": "hr-AFIEAkUlJ"
   },
   "source": [
    "A plane perpendicular to the $x$ axis is defined by the equation $x-x_0=0$, hence it is only necessary to define one parameter ($x_0$) to define the plane. In a similar fashion, we can define planes perpendicular to the $y$ and $z$ axes:"
   ]
  },
  {
   "cell_type": "code",
   "execution_count": 7,
   "metadata": {
    "colab": {},
    "colab_type": "code",
    "id": "twBNVu1akUlK"
   },
   "outputs": [],
   "source": [
    "plane3 = openmc.YPlane(y0=5)\n",
    "plane4 = openmc.ZPlane(z0=3)"
   ]
  },
  {
   "cell_type": "markdown",
   "metadata": {
    "colab_type": "text",
    "id": "sQnZ19tkkUlN"
   },
   "source": [
    "To define a sphere we need to indicate the position $x_0, y_0, z_0$ of the center and its radius, since it is defined by the equation $(x-x_0)^2+(y-y_0)^2+(z-z_0)^2-R^2=0$:"
   ]
  },
  {
   "cell_type": "code",
   "execution_count": 8,
   "metadata": {
    "colab": {},
    "colab_type": "code",
    "id": "5uz-TFfckUlO"
   },
   "outputs": [],
   "source": [
    "sph = openmc.Sphere(x0=10, r=100)"
   ]
  },
  {
   "cell_type": "markdown",
   "metadata": {
    "colab_type": "text",
    "id": "kVk1PQ23kUlR"
   },
   "source": [
    "(the $y_0$ and $z_0$ parameters were not specified and take the default value, 0)"
   ]
  },
  {
   "cell_type": "markdown",
   "metadata": {
    "colab_type": "text",
    "id": "KNHyjaAEkUlS"
   },
   "source": [
    "We can also define cylinders parallel to the $x$, $y$, $z$ axes using respectively the classes `XCylinder()`, `YCylinder()` and `ZCylinder()`:"
   ]
  },
  {
   "cell_type": "code",
   "execution_count": 9,
   "metadata": {
    "colab": {},
    "colab_type": "code",
    "id": "1Vp9qRfxkUlU"
   },
   "outputs": [],
   "source": [
    "# A cylinder parallel to the x axis with a radius of 10 cm, crossing the point y=2 cm, z=1 cm\n",
    "cyl1 = openmc.XCylinder(y0=2, z0=1, r=10) \n",
    "\n",
    "# A cylinder centered in the y axis with a radius of 5 cm\n",
    "cyl2 = openmc.YCylinder(r=5) \n",
    "\n",
    "# A cylinder centered in the z axis with a radius of 1 cm\n",
    "cyl3 = openmc.ZCylinder() "
   ]
  },
  {
   "cell_type": "markdown",
   "metadata": {
    "colab_type": "text",
    "id": "6Wr8_7AMkUlW"
   },
   "source": [
    "We also have the following classes:\n",
    "* `Plane()`: defining an arbitrary plane.\n",
    "* `XCone()`: defining a cone parallel to the $x$ axis.\n",
    "* `YCone()`: defining a cone parallel to the $y$ axis.\n",
    "* `ZCone()`: defining a cone parallel to the $z$ axis.\n",
    "* `Quadric()`: defining a generic quadric surface corresponding to the equation $Ax^2+By^2+Cz^2+Dxy+Eyz+Fxz+Gx+Hy+Jz+K=0$\n"
   ]
  },
  {
   "cell_type": "markdown",
   "metadata": {
    "colab_type": "text",
    "id": "WTI90FjvkUlX"
   },
   "source": [
    "Each surface we create has an id assigned. If we do not do it explicitly, the numbers are given sequentially:"
   ]
  },
  {
   "cell_type": "code",
   "execution_count": 10,
   "metadata": {
    "colab": {},
    "colab_type": "code",
    "id": "2ovYu0fQkUlX"
   },
   "outputs": [
    {
     "name": "stdout",
     "output_type": "stream",
     "text": [
      "1\n",
      "8\n"
     ]
    }
   ],
   "source": [
    "print(plane.id)\n",
    "print(cyl3.id)"
   ]
  },
  {
   "cell_type": "markdown",
   "metadata": {
    "colab_type": "text",
    "id": "Z3-4t3EYkUla"
   },
   "source": [
    "These id seem at first redundant because the surfaces are also identified by their name. But, internally OpenMC uses these ids to identify the surface. Also, since other Monte Carlo codes use numbers to identify the surfaces it is sometimes useful to specify them to simplify the comparison between Monte Carlo codes. If we try to create a new surface with an existing id, OpenMC will give us a warning:"
   ]
  },
  {
   "cell_type": "code",
   "execution_count": 11,
   "metadata": {
    "colab": {},
    "colab_type": "code",
    "id": "llCO2rI4kUlb"
   },
   "outputs": [
    {
     "name": "stdout",
     "output_type": "stream",
     "text": [
      "999\n",
      "999\n"
     ]
    },
    {
     "name": "stderr",
     "output_type": "stream",
     "text": [
      "/home/nacho/anaconda3/envs/openmc_ncrystal_develop/lib/python3.9/site-packages/openmc/mixin.py:70: IDWarning: Another Surface instance already exists with id=999.\n",
      "  warn(msg, IDWarning)\n"
     ]
    }
   ],
   "source": [
    "new_plane = openmc.XPlane(x0=10, surface_id=999, name=\"New Plane\")\n",
    "another_plane = openmc.XPlane(x0=1, surface_id=999, name=\"Another Plane\")\n",
    "print(new_plane.id)\n",
    "print(another_plane.id)"
   ]
  },
  {
   "cell_type": "markdown",
   "metadata": {
    "colab_type": "text",
    "id": "AFdS9DtIkUlg"
   },
   "source": [
    "## Regions"
   ]
  },
  {
   "cell_type": "markdown",
   "metadata": {
    "colab_type": "text",
    "id": "GI3LyGvEkUlh"
   },
   "source": [
    "Once we have surfaces, we can use the operators `+` and `-` to define halfspaces:"
   ]
  },
  {
   "cell_type": "code",
   "execution_count": 12,
   "metadata": {
    "colab": {},
    "colab_type": "code",
    "id": "YH919jc8kUlh"
   },
   "outputs": [
    {
     "name": "stdout",
     "output_type": "stream",
     "text": [
      "<class 'openmc.surface.Halfspace'>\n"
     ]
    }
   ],
   "source": [
    "front = +plane2\n",
    "back = -plane2\n",
    "print(type(front))"
   ]
  },
  {
   "cell_type": "markdown",
   "metadata": {
    "colab_type": "text",
    "id": "dCDgGAlDkUll"
   },
   "source": [
    "These halfspaces can be combined to form regions using the operators `&` (intersection), `|` (union) y `~` (complement). E.g., if we want to define the region inside of a sphere and above its middle plane:"
   ]
  },
  {
   "cell_type": "code",
   "execution_count": 13,
   "metadata": {
    "colab": {},
    "colab_type": "code",
    "id": "qPCMtyjMkUll"
   },
   "outputs": [
    {
     "name": "stdout",
     "output_type": "stream",
     "text": [
      "<class 'openmc.region.Intersection'>\n"
     ]
    }
   ],
   "source": [
    "# Surface definition:\n",
    "sphere = openmc.Sphere(r=10)\n",
    "middle_plane = openmc.ZPlane(z0=0)\n",
    "\n",
    "# Define halfspaces based on the surfaces\n",
    "inside_the_sphere = -sphere\n",
    "above_middle_plabe = +middle_plane\n",
    "\n",
    "# And we can now combine these halfspaces to create new regions\n",
    "north_hemisphere = inside_the_sphere & above_middle_plabe\n",
    "print(type(north_hemisphere))"
   ]
  },
  {
   "cell_type": "markdown",
   "metadata": {
    "colab_type": "text",
    "id": "ZG-ppYE5kUlo"
   },
   "source": [
    "The region inside the sphere, but below the middle plane can be defined as:"
   ]
  },
  {
   "cell_type": "code",
   "execution_count": 14,
   "metadata": {
    "colab": {},
    "colab_type": "code",
    "id": "60dPEwM5kUlp"
   },
   "outputs": [],
   "source": [
    "south_hemisphere = inside_the_sphere  & ~north_hemisphere"
   ]
  },
  {
   "cell_type": "markdown",
   "metadata": {
    "colab_type": "text",
    "id": "e5mtuIjGkUlu"
   },
   "source": [
    "To construct these regions we can use the De Morgan's laws:\n",
    "* `~(A | B) = ~A & ~B`\n",
    "* `~(A & B) = ~A | ~B`"
   ]
  },
  {
   "cell_type": "markdown",
   "metadata": {
    "colab_type": "text",
    "id": "BM3vOwC4kUmC"
   },
   "source": [
    "## Cells"
   ]
  },
  {
   "cell_type": "markdown",
   "metadata": {
    "colab_type": "text",
    "id": "wbaKnUmFkUmD"
   },
   "source": [
    "Once we have the region, we can define a cell using the `Cell()` class:"
   ]
  },
  {
   "cell_type": "code",
   "execution_count": 15,
   "metadata": {
    "colab": {},
    "colab_type": "code",
    "id": "UqSSpIfvkUmD"
   },
   "outputs": [],
   "source": [
    "umet = openmc.Material()\n",
    "umet.add_nuclide(\"U235\", 1.0, \"ao\")\n",
    "umet.set_density(\"g/cm3\", 19.0)\n",
    "reactor_core = openmc.Cell(fill=umet, region=south_hemisphere)"
   ]
  },
  {
   "cell_type": "markdown",
   "metadata": {},
   "source": [
    "where the `fill=` paramater indicates the material that will be used to fill the cell. `None` can be used to make void cells."
   ]
  },
  {
   "cell_type": "markdown",
   "metadata": {
    "colab_type": "text",
    "id": "Xh65ZoxTkUmG"
   },
   "source": [
    "In this example the `fill=` parameter uses a material, but cells can also be filled with others cells, in patterns called _universes_."
   ]
  },
  {
   "cell_type": "markdown",
   "metadata": {
    "colab_type": "text",
    "id": "K54aFxyKkUmG"
   },
   "source": [
    "## Boundary conditions"
   ]
  },
  {
   "cell_type": "markdown",
   "metadata": {
    "colab_type": "text",
    "id": "Gijw4TBIkUmH"
   },
   "source": [
    "In other Monte Carlo codes such as MCNP or PHITS the boundary condition is defined in volume by designating a region that will act as black absorber of particles. In OpenMC the boundary conditions are defined in the surface definition with the parameter `boundary_type=`. The default value for this parameter is `transmission`, that lets the particles go through. If instead we use the parameter `vacuum`, OpenMC will kill all the particles that reach the surface, generating a boundary condition of zero incoming current (i.e. vacuum). If we use the parameter  `reflective` the surface will reflect all the particles that reach the surface, creating a reflective boundary condition."
   ]
  },
  {
   "cell_type": "markdown",
   "metadata": {},
   "source": [
    "One way to limit the simulation is to set an outer surface (for example a big sphere) with vacuum boundary condition, enclosing the whole simulation:"
   ]
  },
  {
   "cell_type": "code",
   "execution_count": 16,
   "metadata": {
    "colab": {},
    "colab_type": "code",
    "id": "GSKkcsTpkUmI"
   },
   "outputs": [],
   "source": [
    "sph00 = openmc.Sphere(r=100, boundary_type='vacuum')"
   ]
  },
  {
   "cell_type": "markdown",
   "metadata": {},
   "source": [
    "Two important caveats:\n",
    "\n",
    "- It is important to note that _vacuum_ boundary conditions and _void_ cells are different things.\n",
    "- As these boundary conditions can be applied to any surface, including interior surfaces, we must be careful to set boundary conditions with physical sense."
   ]
  },
  {
   "cell_type": "markdown",
   "metadata": {
    "colab_type": "text",
    "id": "cr5Q2KsdkUmM"
   },
   "source": [
    "## Universes"
   ]
  },
  {
   "cell_type": "markdown",
   "metadata": {
    "colab_type": "text",
    "id": "Dskp3AQekUmN"
   },
   "source": [
    "In OpenMC we call *universe* to a collection of cells. At least we need to have one universe in our simulation, called `root universe`. Inside the cells of this universe could be other universes, which allows us to generate repeated geometries. In the following example we will define a cube inside a sphere, and with this three cells: \n",
    "\n",
    "1) the region inside of the cube, \n",
    "\n",
    "2) the region outside the cube and inside the sphere, and\n",
    "\n",
    "3) the outside of the sphere.\n",
    "\n",
    "The inside of the cube will be filled with polyethylene and the sphere will be filled with water. Outside of the sphere there is going to be void."
   ]
  },
  {
   "cell_type": "code",
   "execution_count": 17,
   "metadata": {
    "colab": {},
    "colab_type": "code",
    "id": "dcCwuUEekUmN"
   },
   "outputs": [],
   "source": [
    "water = openmc.Material()\n",
    "water.add_nuclide(\"H1\", 2.0, 'ao')\n",
    "water.add_nuclide(\"O16\", 1.0, 'ao')\n",
    "water.set_density('g/cm3', 1.0)\n",
    "\n",
    "ple = openmc.Material()\n",
    "ple.add_nuclide(\"H1\", 2.0, 'ao')\n",
    "ple.add_nuclide(\"C12\", 1.0, 'ao')\n",
    "ple.set_density('g/cm3', 0.9)\n",
    "\n",
    "sup_plane1 = openmc.XPlane(x0=-7.5)\n",
    "sup_plane2 = openmc.XPlane(x0=+7.5)\n",
    "sup_plane3 = openmc.YPlane(y0=-7.5)\n",
    "sup_plane4 = openmc.YPlane(y0=+7.5)\n",
    "sup_plane5 = openmc.ZPlane(z0=-7.5)\n",
    "sup_plane6 = openmc.ZPlane(z0=+7.5)\n",
    "\n",
    "sup_sphere = openmc.Sphere(r=15, boundary_type='vacuum')\n",
    "inside_cube = (+sup_plane1 & -sup_plane2) & \\\n",
    "               (+sup_plane3 & -sup_plane4) & \\\n",
    "               (+sup_plane5 & -sup_plane6) \n",
    "outside_cube = ~inside_cube\n",
    "adentro_sphere = -sup_sphere\n",
    "outside_sphere = +sup_sphere\n",
    "\n",
    "cel_cube = openmc.Cell(region=inside_cube, fill=ple)\n",
    "cel_sphere = openmc.Cell(region=adentro_sphere & outside_cube, fill=water)\n",
    "cel_outside = openmc.Cell(region=outside_sphere & outside_cube, fill=None)\n",
    "\n",
    "universe = openmc.Universe(cells= [cel_cube, cel_sphere, cel_outside])"
   ]
  },
  {
   "cell_type": "markdown",
   "metadata": {
    "colab_type": "text",
    "id": "lRyV_qEnkUmR"
   },
   "source": [
    "Universes can be plotted with the `.plot()` method:"
   ]
  },
  {
   "cell_type": "code",
   "execution_count": 18,
   "metadata": {
    "colab": {},
    "colab_type": "code",
    "id": "MdRQ3Et8kUmS"
   },
   "outputs": [
    {
     "data": {
      "text/plain": [
       "<matplotlib.image.AxesImage at 0x7f6959217190>"
      ]
     },
     "execution_count": 18,
     "metadata": {},
     "output_type": "execute_result"
    },
    {
     "data": {
      "image/png": "[encoded data removed]",
      "text/plain": [
       "<Figure size 258.065x259.74 with 1 Axes>"
      ]
     },
     "metadata": {},
     "output_type": "display_data"
    }
   ],
   "source": [
    "universe.plot(width=(40,40))"
   ]
  },
  {
   "cell_type": "markdown",
   "metadata": {
    "colab_type": "text",
    "id": "Q8QYfsaMkUmW"
   },
   "source": [
    "Here the `width=` parameter takes a tuple that represents the dimensions of the region to plot in cm."
   ]
  },
  {
   "cell_type": "markdown",
   "metadata": {
    "colab": {},
    "colab_type": "code",
    "id": "alxugIEOk2Zb"
   },
   "source": [
    "## Geometry generation"
   ]
  },
  {
   "cell_type": "markdown",
   "metadata": {},
   "source": [
    "The combination of surfaces, cells and universes that make up the geometry of the simulation need to be combined into a `Geometry()` object. The main parameter of the constructor is the root universe, which contains all the cells and other universes."
   ]
  },
  {
   "cell_type": "code",
   "execution_count": 19,
   "metadata": {},
   "outputs": [],
   "source": [
    "geo = openmc.Geometry(root=universe)"
   ]
  },
  {
   "cell_type": "markdown",
   "metadata": {},
   "source": [
    "This object has a `.export_to_xml()` method to produce the file `geometry.xml` that will be used as input for the simulation. "
   ]
  },
  {
   "cell_type": "code",
   "execution_count": 20,
   "metadata": {},
   "outputs": [],
   "source": [
    "geo.export_to_xml()"
   ]
  },
  {
   "cell_type": "code",
   "execution_count": 21,
   "metadata": {},
   "outputs": [
    {
     "name": "stdout",
     "output_type": "stream",
     "text": [
      "<?xml version='1.0' encoding='utf-8'?>\r\n",
      "<geometry>\r\n",
      "  <cell id=\"2\" material=\"3\" region=\"12 -13 14 -15 16 -17\" universe=\"1\" />\r\n",
      "  <cell id=\"3\" material=\"2\" region=\"-18 ~(12 -13 14 -15 16 -17)\" universe=\"1\" />\r\n",
      "  <cell id=\"4\" material=\"void\" region=\"18 ~(12 -13 14 -15 16 -17)\" universe=\"1\" />\r\n",
      "  <surface coeffs=\"-7.5\" id=\"12\" type=\"x-plane\" />\r\n",
      "  <surface coeffs=\"7.5\" id=\"13\" type=\"x-plane\" />\r\n",
      "  <surface coeffs=\"-7.5\" id=\"14\" type=\"y-plane\" />\r\n",
      "  <surface coeffs=\"7.5\" id=\"15\" type=\"y-plane\" />\r\n",
      "  <surface coeffs=\"-7.5\" id=\"16\" type=\"z-plane\" />\r\n",
      "  <surface coeffs=\"7.5\" id=\"17\" type=\"z-plane\" />\r\n",
      "  <surface coeffs=\"0.0 0.0 0.0 15\" id=\"18\" type=\"sphere\" />\r\n",
      "</geometry>\r\n"
     ]
    }
   ],
   "source": [
    "!cat geometry.xml"
   ]
  }
 ],
 "metadata": {
  "colab": {
   "name": "Geometria.ipynb",
   "provenance": [],
   "version": "0.3.2"
  },
  "kernelspec": {
   "display_name": "Python 3",
   "language": "python",
   "name": "python3"
  },
  "language_info": {
   "codemirror_mode": {
    "name": "ipython",
    "version": 3
   },
   "file_extension": ".py",
   "mimetype": "text/x-python",
   "name": "python",
   "nbconvert_exporter": "python",
   "pygments_lexer": "ipython3",
   "version": "3.7.6"
  }
 },
 "nbformat": 4,
 "nbformat_minor": 1
}
