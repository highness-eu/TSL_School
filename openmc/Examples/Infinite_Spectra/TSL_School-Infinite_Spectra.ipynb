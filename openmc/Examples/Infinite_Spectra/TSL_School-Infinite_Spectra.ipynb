{
 "cells": [
  {
   "cell_type": "markdown",
   "id": "0c862212",
   "metadata": {},
   "source": [
    "## Energy spectrum in an infinite medium"
   ]
  },
  {
   "cell_type": "markdown",
   "id": "93d6f260",
   "metadata": {},
   "source": [
    "A simple test case for moderator materials is the calculation of the neutron spectra in equilibrium with an infinite medium. The infinite medium is reproduced with a sphere with reflective boundary conditions."
   ]
  },
  {
   "cell_type": "code",
   "execution_count": 1,
   "id": "3ba189ce",
   "metadata": {},
   "outputs": [],
   "source": [
    "import openmc\n",
    "import numpy as np\n",
    "import matplotlib.pyplot as plt\n",
    "openmc.config['cross_sections'] = '/home/student/openmc_ncrystal_vm/endfb-viii.0-hdf5/cross_sections.xml'"
   ]
  },
  {
   "cell_type": "markdown",
   "id": "631181f7",
   "metadata": {},
   "source": [
    "We start defining a function that returns an OpenMC model for a point source in sphere with boundary conditions, with an energy segmented tally to compute the spectra. The function takes as a parameter an OpenMC material to fill the sphere."
   ]
  },
  {
   "cell_type": "code",
   "execution_count": 2,
   "id": "c58c9a73",
   "metadata": {},
   "outputs": [],
   "source": [
    "def create_model(mod_mat, NParticles=10000, E0=10):\n",
    "    s1 = openmc.Sphere(r=100, boundary_type='reflective')\n",
    "    c1 = openmc.Cell(region=-s1, fill=mod_mat)\n",
    "    u1 = openmc.Universe(cells=[c1])\n",
    "    geometry = openmc.Geometry(root=u1)\n",
    "    \n",
    "    source = openmc.Source()\n",
    "    source.energy = openmc.stats.Discrete([E0], [1.0])\n",
    "    \n",
    "    settings = openmc.Settings()\n",
    "    settings.source = source\n",
    "    settings.run_mode = 'fixed source'\n",
    "    settings.batches = 10\n",
    "    settings.particles = NParticles\n",
    "    settings.temperature = {'method':'nearest', 'tolerance':1000}\n",
    "\n",
    "    tally1 = openmc.Tally()\n",
    "    filter1 = openmc.CellFilter([c1])\n",
    "    filter2 = openmc.EnergyFilter(np.geomspace(1e-4, 1, 120))\n",
    "    tally1.scores = ['flux']\n",
    "    tally1.name = 'spectrum'\n",
    "    tally1.filters = [filter1, filter2]\n",
    "    tallies = openmc.Tallies([tally1])\n",
    "    \n",
    "    return openmc.model.Model(geometry=geometry, settings=settings, tallies=tallies)"
   ]
  },
  {
   "cell_type": "markdown",
   "id": "2fefb531",
   "metadata": {},
   "source": [
    "We will define a function to extract the spectrum from the statepoint file:"
   ]
  },
  {
   "cell_type": "code",
   "execution_count": 3,
   "id": "7cf0a27f",
   "metadata": {},
   "outputs": [],
   "source": [
    "def get_tally(spfile='statepoint.10.h5'):\n",
    "    sp = openmc.StatePoint(spfile)\n",
    "    tally = sp.get_tally(name='spectrum')\n",
    "    df = tally.get_pandas_dataframe()\n",
    "    phi_g = df['mean'].values\n",
    "    E_g = df['energy high [eV]'].values\n",
    "    return E_g, phi_g"
   ]
  },
  {
   "cell_type": "markdown",
   "id": "b7999aa2",
   "metadata": {},
   "source": [
    "We can now apply this to the calculation of spectra to different materials:"
   ]
  },
  {
   "cell_type": "code",
   "execution_count": 4,
   "id": "fb8e6a30",
   "metadata": {},
   "outputs": [],
   "source": [
    "m1 = openmc.Material()\n",
    "m1.add_elements_from_formula('CH2')\n",
    "m1.set_density('g/cm3', 0.92)\n",
    "m1.add_s_alpha_beta('c_H_in_CH2')\n",
    "\n",
    "model = create_model(m1)\n",
    "model.export_to_xml()"
   ]
  },
  {
   "cell_type": "code",
   "execution_count": 5,
   "id": "b58bc585",
   "metadata": {},
   "outputs": [
    {
     "name": "stdout",
     "output_type": "stream",
     "text": [
      "rm: cannot remove 'statepoint.10.h5': No such file or directory\n",
      "                                %%%%%%%%%%%%%%%\n",
      "                           %%%%%%%%%%%%%%%%%%%%%%%%\n",
      "                        %%%%%%%%%%%%%%%%%%%%%%%%%%%%%%\n",
      "                      %%%%%%%%%%%%%%%%%%%%%%%%%%%%%%%%%%\n",
      "                    %%%%%%%%%%%%%%%%%%%%%%%%%%%%%%%%%%%%%%\n",
      "                   %%%%%%%%%%%%%%%%%%%%%%%%%%%%%%%%%%%%%%%%\n",
      "                                    %%%%%%%%%%%%%%%%%%%%%%%%\n",
      "                                     %%%%%%%%%%%%%%%%%%%%%%%%\n",
      "                 ###############      %%%%%%%%%%%%%%%%%%%%%%%%\n",
      "                ##################     %%%%%%%%%%%%%%%%%%%%%%%\n",
      "                ###################     %%%%%%%%%%%%%%%%%%%%%%%\n",
      "                ####################     %%%%%%%%%%%%%%%%%%%%%%\n",
      "                #####################     %%%%%%%%%%%%%%%%%%%%%\n",
      "                ######################     %%%%%%%%%%%%%%%%%%%%\n",
      "                #######################     %%%%%%%%%%%%%%%%%%\n",
      "                 #######################     %%%%%%%%%%%%%%%%%\n",
      "                 ######################     %%%%%%%%%%%%%%%%%\n",
      "                  ####################     %%%%%%%%%%%%%%%%%\n",
      "                    #################     %%%%%%%%%%%%%%%%%\n",
      "                     ###############     %%%%%%%%%%%%%%%%\n",
      "                       ############     %%%%%%%%%%%%%%%\n",
      "                          ########     %%%%%%%%%%%%%%\n",
      "                                      %%%%%%%%%%%\n",
      "\n",
      "                 | The OpenMC Monte Carlo Code\n",
      "       Copyright | 2011-2023 MIT, UChicago Argonne LLC, and contributors\n",
      "         License | https://docs.openmc.org/en/latest/license.html\n",
      "         Version | 0.13.3-dev\n",
      "        Git SHA1 | 3f5b90042c378f4182ef196ac075dd8cd8cec686\n",
      "       Date/Time | 2023-05-03 15:00:55\n",
      "  OpenMP Threads | 8\n",
      "\n",
      " Reading settings XML file...\n",
      " Reading cross sections XML file...\n",
      " Reading materials XML file...\n",
      " Reading geometry XML file...\n",
      " Reading C12 from\n",
      " /home/nacho/mounts/uqbar_home/ess/2023/openmc_ncrystal_conda/endfb-viii.0-hdf5/n\n",
      " eutron/C12.h5\n",
      " Reading C13 from\n",
      " /home/nacho/mounts/uqbar_home/ess/2023/openmc_ncrystal_conda/endfb-viii.0-hdf5/n\n",
      " eutron/C13.h5\n",
      " Reading H1 from\n",
      " /home/nacho/mounts/uqbar_home/ess/2023/openmc_ncrystal_conda/endfb-viii.0-hdf5/n\n",
      " eutron/H1.h5\n",
      " Reading H2 from\n",
      " /home/nacho/mounts/uqbar_home/ess/2023/openmc_ncrystal_conda/endfb-viii.0-hdf5/n\n",
      " eutron/H2.h5\n",
      " Reading c_H_in_CH2 from\n",
      " /home/nacho/mounts/uqbar_home/ess/2023/openmc_ncrystal_conda/endfb-viii.0-hdf5/n\n",
      " eutron/c_H_in_CH2.h5\n",
      " Minimum neutron data temperature: 294 K\n",
      " Maximum neutron data temperature: 294 K\n",
      " Reading tallies XML file...\n",
      " Preparing distributed cell instances...\n",
      " Reading plot XML file...\n",
      " Writing summary.h5 file...\n",
      " Maximum neutron transport energy: 20000000 eV for C13\n",
      "\n",
      " ===============>     FIXED SOURCE TRANSPORT SIMULATION     <===============\n",
      "\n",
      " Simulating batch 1\n",
      " Simulating batch 2\n",
      " Simulating batch 3\n",
      " Simulating batch 4\n",
      " Simulating batch 5\n",
      " Simulating batch 6\n",
      " Simulating batch 7\n",
      " Simulating batch 8\n",
      " Simulating batch 9\n",
      " Simulating batch 10\n",
      " Creating state point statepoint.10.h5...\n",
      "\n",
      " =======================>     TIMING STATISTICS     <=======================\n",
      "\n",
      " Total time for initialization     = 1.3835e-01 seconds\n",
      "   Reading cross sections          = 1.1786e-01 seconds\n",
      " Total time in simulation          = 4.3225e+00 seconds\n",
      "   Time in transport only          = 4.3187e+00 seconds\n",
      "   Time in active batches          = 4.3225e+00 seconds\n",
      "   Time accumulating tallies       = 6.7000e-05 seconds\n",
      "   Time writing statepoints        = 2.6357e-03 seconds\n",
      " Total time for finalization       = 3.1618e-04 seconds\n",
      " Total time elapsed                = 4.4622e+00 seconds\n",
      " Calculation Rate (active)         = 23134.9 particles/second\n",
      "\n",
      " ============================>     RESULTS     <============================\n",
      "\n",
      " Leakage Fraction            = 0.00000 +/- 0.00000\n",
      "\n"
     ]
    }
   ],
   "source": [
    "!rm summary.h5 statepoint.10.h5\n",
    "openmc.run(output=True)"
   ]
  },
  {
   "cell_type": "code",
   "execution_count": 6,
   "id": "7643911a",
   "metadata": {},
   "outputs": [],
   "source": [
    "E1, phi1 = get_tally('statepoint.10.h5')"
   ]
  },
  {
   "cell_type": "code",
   "execution_count": 7,
   "id": "5144a40e",
   "metadata": {},
   "outputs": [
    {
     "data": {
      "text/plain": [
       "[<matplotlib.lines.Line2D at 0x7f3403f5e790>]"
      ]
     },
     "execution_count": 7,
     "metadata": {},
     "output_type": "execute_result"
    },
    {
     "data": {
      "image/png": "[encoded data removed]",
      "text/plain": [
       "<Figure size 640x480 with 1 Axes>"
      ]
     },
     "metadata": {},
     "output_type": "display_data"
    }
   ],
   "source": [
    "plt.loglog(E1,phi1)"
   ]
  },
  {
   "cell_type": "code",
   "execution_count": 8,
   "id": "058e6655",
   "metadata": {},
   "outputs": [
    {
     "name": "stdout",
     "output_type": "stream",
     "text": [
      "                                %%%%%%%%%%%%%%%\n",
      "                           %%%%%%%%%%%%%%%%%%%%%%%%\n",
      "                        %%%%%%%%%%%%%%%%%%%%%%%%%%%%%%\n",
      "                      %%%%%%%%%%%%%%%%%%%%%%%%%%%%%%%%%%\n",
      "                    %%%%%%%%%%%%%%%%%%%%%%%%%%%%%%%%%%%%%%\n",
      "                   %%%%%%%%%%%%%%%%%%%%%%%%%%%%%%%%%%%%%%%%\n",
      "                                    %%%%%%%%%%%%%%%%%%%%%%%%\n",
      "                                     %%%%%%%%%%%%%%%%%%%%%%%%\n",
      "                 ###############      %%%%%%%%%%%%%%%%%%%%%%%%\n",
      "                ##################     %%%%%%%%%%%%%%%%%%%%%%%\n",
      "                ###################     %%%%%%%%%%%%%%%%%%%%%%%\n",
      "                ####################     %%%%%%%%%%%%%%%%%%%%%%\n",
      "                #####################     %%%%%%%%%%%%%%%%%%%%%\n",
      "                ######################     %%%%%%%%%%%%%%%%%%%%\n",
      "                #######################     %%%%%%%%%%%%%%%%%%\n",
      "                 #######################     %%%%%%%%%%%%%%%%%\n",
      "                 ######################     %%%%%%%%%%%%%%%%%\n",
      "                  ####################     %%%%%%%%%%%%%%%%%\n",
      "                    #################     %%%%%%%%%%%%%%%%%\n",
      "                     ###############     %%%%%%%%%%%%%%%%\n",
      "                       ############     %%%%%%%%%%%%%%%\n",
      "                          ########     %%%%%%%%%%%%%%\n",
      "                                      %%%%%%%%%%%\n",
      "\n",
      "                 | The OpenMC Monte Carlo Code\n",
      "       Copyright | 2011-2023 MIT, UChicago Argonne LLC, and contributors\n",
      "         License | https://docs.openmc.org/en/latest/license.html\n",
      "         Version | 0.13.3-dev\n",
      "        Git SHA1 | 3f5b90042c378f4182ef196ac075dd8cd8cec686\n",
      "       Date/Time | 2023-05-03 15:01:02\n",
      "  OpenMP Threads | 8\n",
      "\n",
      " Reading settings XML file...\n",
      " Reading cross sections XML file...\n",
      " Reading materials XML file...\n",
      " NCrystal config string for material #2: 'Polyethylene_CH2.ncmat'\n",
      " Reading geometry XML file...\n",
      " Reading H1 from\n",
      " /home/nacho/mounts/uqbar_home/ess/2023/openmc_ncrystal_conda/endfb-viii.0-hdf5/n\n",
      " eutron/H1.h5\n",
      " Reading H2 from\n",
      " /home/nacho/mounts/uqbar_home/ess/2023/openmc_ncrystal_conda/endfb-viii.0-hdf5/n\n",
      " eutron/H2.h5\n",
      " Reading C12 from\n",
      " /home/nacho/mounts/uqbar_home/ess/2023/openmc_ncrystal_conda/endfb-viii.0-hdf5/n\n",
      " eutron/C12.h5\n",
      " Reading C13 from\n",
      " /home/nacho/mounts/uqbar_home/ess/2023/openmc_ncrystal_conda/endfb-viii.0-hdf5/n\n",
      " eutron/C13.h5\n",
      " Minimum neutron data temperature: 294 K\n",
      " Maximum neutron data temperature: 294 K\n",
      " Reading tallies XML file...\n",
      " Preparing distributed cell instances...\n",
      " Reading plot XML file...\n",
      " Writing summary.h5 file...\n",
      " Maximum neutron transport energy: 20000000 eV for H1\n",
      "\n",
      " ===============>     FIXED SOURCE TRANSPORT SIMULATION     <===============\n",
      "\n",
      " Simulating batch 1\n",
      " Simulating batch 2\n",
      " Simulating batch 3\n",
      " Simulating batch 4\n",
      " Simulating batch 5\n",
      " Simulating batch 6\n",
      " Simulating batch 7\n",
      " Simulating batch 8\n",
      " Simulating batch 9\n",
      " Simulating batch 10\n",
      " Creating state point statepoint.10.h5...\n",
      "\n",
      " =======================>     TIMING STATISTICS     <=======================\n",
      "\n",
      " Total time for initialization     = 6.8489e-01 seconds\n",
      "   Reading cross sections          = 3.0140e-02 seconds\n",
      " Total time in simulation          = 7.9411e+00 seconds\n",
      "   Time in transport only          = 7.9369e+00 seconds\n",
      "   Time in active batches          = 7.9411e+00 seconds\n",
      "   Time accumulating tallies       = 7.9619e-05 seconds\n",
      "   Time writing statepoints        = 2.9891e-03 seconds\n",
      " Total time for finalization       = 3.2645e-04 seconds\n",
      " Total time elapsed                = 8.6279e+00 seconds\n",
      " Calculation Rate (active)         = 12592.8 particles/second\n",
      "\n",
      " ============================>     RESULTS     <============================\n",
      "\n",
      " Leakage Fraction            = 0.00000 +/- 0.00000\n",
      "\n"
     ]
    }
   ],
   "source": [
    "m1 = openmc.Material.from_ncrystal('Polyethylene_CH2.ncmat')\n",
    "model = create_model(m1)\n",
    "model.export_to_xml()\n",
    "\n",
    "!rm summary.h5 statepoint.10.h5\n",
    "openmc.run(output=True)\n",
    "\n",
    "E2, phi2 = get_tally('statepoint.10.h5')"
   ]
  },
  {
   "cell_type": "code",
   "execution_count": 9,
   "id": "b7eeacbc",
   "metadata": {},
   "outputs": [
    {
     "data": {
      "text/plain": [
       "[<matplotlib.lines.Line2D at 0x7f3402b0e430>]"
      ]
     },
     "execution_count": 9,
     "metadata": {},
     "output_type": "execute_result"
    },
    {
     "data": {
      "image/png": "[encoded data removed]",
      "text/plain": [
       "<Figure size 640x480 with 1 Axes>"
      ]
     },
     "metadata": {},
     "output_type": "display_data"
    }
   ],
   "source": [
    "plt.loglog(E1,phi1)\n",
    "plt.loglog(E2,phi2)"
   ]
  }
 ],
 "metadata": {
  "kernelspec": {
   "display_name": "Python 3 (ipykernel)",
   "language": "python",
   "name": "python3"
  },
  "language_info": {
   "codemirror_mode": {
    "name": "ipython",
    "version": 3
   },
   "file_extension": ".py",
   "mimetype": "text/x-python",
   "name": "python",
   "nbconvert_exporter": "python",
   "pygments_lexer": "ipython3",
   "version": "3.9.16"
  }
 },
 "nbformat": 4,
 "nbformat_minor": 5
}
