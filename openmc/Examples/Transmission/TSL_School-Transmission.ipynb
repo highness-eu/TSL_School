{
 "cells": [
  {
   "cell_type": "code",
   "execution_count": 1,
   "id": "707eed2f",
   "metadata": {},
   "outputs": [],
   "source": [
    "import pathlib\n",
    "import os\n",
    "if 'TSL_SCHOOL_DIR' in os.environ:\n",
    "    if any( (p/\".git\").is_dir() for p in (pathlib.Path(\".\").absolute().resolve()/\"dummy\").parents ):\n",
    "        raise RuntimeError('Please copy notebook to a work directory')"
   ]
  },
  {
   "cell_type": "markdown",
   "id": "284b2121",
   "metadata": {},
   "source": [
    "## Energy dependent transmission (and fixing OpenMC thermal scattering data)"
   ]
  },
  {
   "cell_type": "markdown",
   "id": "2ec93daf",
   "metadata": {},
   "source": [
    "We will make a simple simulation under to recover the total neutron cross section from the transmission in a slab:"
   ]
  },
  {
   "cell_type": "code",
   "execution_count": 2,
   "id": "742ec8bf",
   "metadata": {},
   "outputs": [],
   "source": [
    "import openmc\n",
    "import numpy as np\n",
    "import matplotlib.pyplot as plt\n",
    "openmc.config['cross_sections'] = '/home/student/tsl_software/endfb-viii.0-hdf5/cross_sections.xml'"
   ]
  },
  {
   "cell_type": "markdown",
   "id": "710b18fa",
   "metadata": {},
   "source": [
    "We start defining a function that returns an OpenMC model for a pencil beam incident perpendicular an slab, with two small spheres to tally the incident and transmitted spectra. The function takes as a parameter an OpenMC material to fill the slab."
   ]
  },
  {
   "cell_type": "code",
   "execution_count": 3,
   "id": "05502d90",
   "metadata": {},
   "outputs": [],
   "source": [
    "def create_model(slab_mat, NParticles=1000000, slab_thickness=1):\n",
    "    p1 = openmc.ZPlane(z0=-slab_thickness/2)\n",
    "    p2 = openmc.ZPlane(z0=+slab_thickness/2)\n",
    "    s1 = openmc.Sphere(r=0.1, z0=-(slab_thickness/2+10))\n",
    "    s2 = openmc.Sphere(r=0.1, z0=+(slab_thickness/2+10))\n",
    "    s3 = openmc.Sphere(r=100, boundary_type='vacuum')\n",
    "    c1 = openmc.Cell(region=+p1&-p2&-s3, fill=slab_mat)\n",
    "    c2 = openmc.Cell(region=-s1, fill=None)\n",
    "    c3 = openmc.Cell(region=-s2, fill=None)\n",
    "    c4 = openmc.Cell(region=(-p1|+p2)&+s1&+s2&-s3, fill=None)\n",
    "    u1 = openmc.Universe(cells=[c1, c2, c3, c4])\n",
    "    geometry = openmc.Geometry(root=u1)\n",
    "    \n",
    "    source = openmc.Source()\n",
    "    source.space  = openmc.stats.Point(xyz=[0,0,-(slab_thickness/2+20)])\n",
    "    source.angle  = openmc.stats.Monodirectional(reference_uvw=[0,0,1])\n",
    "    source.energy = openmc.stats.Uniform(1e-4,1)\n",
    "    \n",
    "    settings = openmc.Settings()\n",
    "    settings.source = source\n",
    "    settings.run_mode = 'fixed source'\n",
    "    settings.batches = 10\n",
    "    settings.particles = NParticles\n",
    "    settings.temperature = {'method':'nearest', 'tolerance':1000}\n",
    "\n",
    "    tally1 = openmc.Tally()\n",
    "    filter1 = openmc.CellFilter([c2])\n",
    "    filter2 = openmc.EnergyFilter(np.geomspace(1e-4, 1, 120))\n",
    "    tally1.scores = ['flux']\n",
    "    tally1.name = 'incident spectrum'\n",
    "    tally1.filters = [filter1, filter2]\n",
    "\n",
    "    tally2 = openmc.Tally()\n",
    "    filter3 = openmc.CellFilter([c3])\n",
    "    tally2.scores = ['flux']\n",
    "    tally2.name = 'transmitted spectrum'\n",
    "    tally2.filters = [filter2, filter3]\n",
    "\n",
    "    tallies = openmc.Tallies([tally1, tally2])\n",
    "    \n",
    "    return openmc.model.Model(geometry=geometry, settings=settings, tallies=tallies)"
   ]
  },
  {
   "cell_type": "markdown",
   "id": "19102f60",
   "metadata": {},
   "source": [
    "We will define a pair of functions to extract the spectra from the statepoint file:"
   ]
  },
  {
   "cell_type": "code",
   "execution_count": 4,
   "id": "747569ce",
   "metadata": {},
   "outputs": [],
   "source": [
    "def get_incident_tally(spfile='statepoint.10.h5'):\n",
    "    with openmc.StatePoint(spfile) as sp:\n",
    "        tally = sp.get_tally(name='incident spectrum')\n",
    "        df = tally.get_pandas_dataframe()\n",
    "        phi_g = df['mean'].values\n",
    "        E_g = df['energy high [eV]'].values\n",
    "        return E_g, phi_g\n",
    "\n",
    "def get_transmitted_tally(spfile='statepoint.10.h5'):\n",
    "    with openmc.StatePoint(spfile) as sp:\n",
    "        tally = sp.get_tally(name='transmitted spectrum')\n",
    "        df = tally.get_pandas_dataframe()\n",
    "        phi_g = df['mean'].values\n",
    "        E_g = df['energy high [eV]'].values\n",
    "        return E_g, phi_g"
   ]
  },
  {
   "cell_type": "markdown",
   "id": "540a00e7",
   "metadata": {},
   "source": [
    "We can now apply this to the calculation of the transmission in different materials:"
   ]
  },
  {
   "cell_type": "code",
   "execution_count": 5,
   "id": "391ce28d",
   "metadata": {},
   "outputs": [],
   "source": [
    "dx = 0.2 # cm\n",
    "m1 = openmc.Material()\n",
    "m1.add_elements_from_formula('CH2')\n",
    "m1.set_density('g/cm3', 0.92)\n",
    "m1.add_s_alpha_beta('c_H_in_CH2')\n",
    "\n",
    "model = create_model(m1, slab_thickness=dx)\n",
    "model.export_to_xml()"
   ]
  },
  {
   "cell_type": "code",
   "execution_count": 6,
   "id": "aa86a3b2",
   "metadata": {},
   "outputs": [
    {
     "name": "stdout",
     "output_type": "stream",
     "text": [
      "                                %%%%%%%%%%%%%%%\n",
      "                           %%%%%%%%%%%%%%%%%%%%%%%%\n",
      "                        %%%%%%%%%%%%%%%%%%%%%%%%%%%%%%\n",
      "                      %%%%%%%%%%%%%%%%%%%%%%%%%%%%%%%%%%\n",
      "                    %%%%%%%%%%%%%%%%%%%%%%%%%%%%%%%%%%%%%%\n",
      "                   %%%%%%%%%%%%%%%%%%%%%%%%%%%%%%%%%%%%%%%%\n",
      "                                    %%%%%%%%%%%%%%%%%%%%%%%%\n",
      "                                     %%%%%%%%%%%%%%%%%%%%%%%%\n",
      "                 ###############      %%%%%%%%%%%%%%%%%%%%%%%%\n",
      "                ##################     %%%%%%%%%%%%%%%%%%%%%%%\n",
      "                ###################     %%%%%%%%%%%%%%%%%%%%%%%\n",
      "                ####################     %%%%%%%%%%%%%%%%%%%%%%\n",
      "                #####################     %%%%%%%%%%%%%%%%%%%%%\n",
      "                ######################     %%%%%%%%%%%%%%%%%%%%\n",
      "                #######################     %%%%%%%%%%%%%%%%%%\n",
      "                 #######################     %%%%%%%%%%%%%%%%%\n",
      "                 ######################     %%%%%%%%%%%%%%%%%\n",
      "                  ####################     %%%%%%%%%%%%%%%%%\n",
      "                    #################     %%%%%%%%%%%%%%%%%\n",
      "                     ###############     %%%%%%%%%%%%%%%%\n",
      "                       ############     %%%%%%%%%%%%%%%\n",
      "                          ########     %%%%%%%%%%%%%%\n",
      "                                      %%%%%%%%%%%\n",
      "\n",
      "                 | The OpenMC Monte Carlo Code\n",
      "       Copyright | 2011-2023 MIT, UChicago Argonne LLC, and contributors\n",
      "         License | https://docs.openmc.org/en/latest/license.html\n",
      "         Version | 0.13.4-dev\n",
      "        Git SHA1 | 65618384c926d5c047460dac2c83db4a2de17915\n",
      "       Date/Time | 2023-05-24 10:04:00\n",
      "  OpenMP Threads | 4\n",
      "\n",
      " Reading settings XML file...\n",
      " Reading cross sections XML file...\n",
      " Reading materials XML file...\n",
      " Reading geometry XML file...\n",
      " Reading C12 from /home/student/tsl_software/endfb-viii.0-hdf5/neutron/C12.h5\n",
      " Reading C13 from /home/student/tsl_software/endfb-viii.0-hdf5/neutron/C13.h5\n",
      " Reading H1 from /home/student/tsl_software/endfb-viii.0-hdf5/neutron/H1.h5\n",
      " Reading H2 from /home/student/tsl_software/endfb-viii.0-hdf5/neutron/H2.h5\n",
      " Reading c_H_in_CH2 from\n",
      " /home/student/tsl_software/endfb-viii.0-hdf5/neutron/c_H_in_CH2.h5\n",
      " Minimum neutron data temperature: 294 K\n",
      " Maximum neutron data temperature: 294 K\n",
      " Reading tallies XML file...\n",
      " Preparing distributed cell instances...\n",
      " Reading plot XML file...\n",
      " Writing summary.h5 file...\n",
      " Maximum neutron transport energy: 20000000 eV for C13\n",
      "\n",
      " ===============>     FIXED SOURCE TRANSPORT SIMULATION     <===============\n",
      "\n",
      " Simulating batch 1\n",
      " Simulating batch 2\n",
      " Simulating batch 3\n",
      " Simulating batch 4\n",
      " Simulating batch 5\n",
      " Simulating batch 6\n",
      " Simulating batch 7\n",
      " Simulating batch 8\n",
      " Simulating batch 9\n",
      " Simulating batch 10\n",
      " Creating state point statepoint.10.h5...\n",
      "\n",
      " =======================>     TIMING STATISTICS     <=======================\n",
      "\n",
      " Total time for initialization     = 2.0088e-01 seconds\n",
      "   Reading cross sections          = 1.8103e-01 seconds\n",
      " Total time in simulation          = 1.8444e+01 seconds\n",
      "   Time in transport only          = 1.8440e+01 seconds\n",
      "   Time in active batches          = 1.8444e+01 seconds\n",
      "   Time accumulating tallies       = 1.0606e-04 seconds\n",
      "   Time writing statepoints        = 2.9523e-03 seconds\n",
      " Total time for finalization       = 6.6723e-04 seconds\n",
      " Total time elapsed                = 1.8646e+01 seconds\n",
      " Calculation Rate (active)         = 542187 particles/second\n",
      "\n",
      " ============================>     RESULTS     <============================\n",
      "\n",
      " Leakage Fraction            = 0.99733 +/- 0.00001\n",
      "\n"
     ]
    }
   ],
   "source": [
    "!rm summary.h5 statepoint.10.h5\n",
    "openmc.run(output=True)"
   ]
  },
  {
   "cell_type": "code",
   "execution_count": 7,
   "id": "8b6be0a9",
   "metadata": {},
   "outputs": [],
   "source": [
    "E1, phi1 = get_incident_tally('statepoint.10.h5')\n",
    "E2, phi2 = get_transmitted_tally('statepoint.10.h5')"
   ]
  },
  {
   "cell_type": "markdown",
   "id": "b4c79768",
   "metadata": {},
   "source": [
    "We can compare the results of the transmission simulation with the macroscopic total cross section for the material:"
   ]
  },
  {
   "cell_type": "code",
   "execution_count": 8,
   "id": "f68b5237",
   "metadata": {},
   "outputs": [],
   "source": [
    "E, xs = openmc.calculate_cexs(m1, ['total'])"
   ]
  },
  {
   "cell_type": "code",
   "execution_count": 9,
   "id": "8956e10f-f051-40d6-bc0b-a67691247141",
   "metadata": {},
   "outputs": [
    {
     "data": {
      "text/plain": [
       "Text(0, 0.5, 'Macro XS [cm^-1]')"
      ]
     },
     "execution_count": 9,
     "metadata": {},
     "output_type": "execute_result"
    },
    {
     "data": {
      "image/png": "[encoded data removed]",
      "text/plain": [
       "<Figure size 640x480 with 1 Axes>"
      ]
     },
     "metadata": {},
     "output_type": "display_data"
    }
   ],
   "source": [
    "plt.semilogx(E, xs[0])\n",
    "plt.semilogx(E1,-1/dx*np.log(phi2/phi1), '.')\n",
    "plt.xlabel('Energy [ev]')\n",
    "plt.ylabel('Macro XS [cm^-1]')"
   ]
  },
  {
   "cell_type": "markdown",
   "id": "e9d2b6c9-3d0a-46d9-a16d-2cb9a8dcf4fa",
   "metadata": {},
   "source": [
    "Well, while doing this exercise I realized the data for polyethylene in the LANL ENDF/B-VIII.0 data libraries is wrong. We can quickly check that by comparing with NCrystal results and experimental data:"
   ]
  },
  {
   "cell_type": "code",
   "execution_count": 10,
   "id": "68e64dd8-46bf-413c-8b9d-4f132f309143",
   "metadata": {},
   "outputs": [],
   "source": [
    "m1_nc = openmc.Material.from_ncrystal('Polyethylene_CH2.ncmat')\n",
    "E_nc, xs_nc = openmc.calculate_cexs(m1_nc, ['total'])"
   ]
  },
  {
   "cell_type": "code",
   "execution_count": 11,
   "id": "4b90a533-33e1-4375-8c8b-52321995527b",
   "metadata": {},
   "outputs": [],
   "source": [
    "txt = \"\"\" 0.001035    223.5       9.6\n",
    " 0.001161    217.6       6.1\n",
    " 0.001303    210.5       5.2\n",
    " 0.001462    213.4       5.6\n",
    " 0.001641    209.1       4.6\n",
    " 0.001841    201.4       5.3\n",
    " 0.002065    195         2.8\n",
    " 0.002317    191.7       2.2\n",
    " 0.0026      183.9       2\n",
    " 0.002917    183.9       2.1\n",
    " 0.003273    179.7       1.7\n",
    " 0.003673    173.2       1.7\n",
    " 0.004121    172.2       1.6\n",
    " 0.004624    168.6       1\n",
    " 0.005188    165.1       1.4\n",
    " 0.005821    161.3       1.1\n",
    " 0.006531    158.7       0.8\n",
    " 0.006918    155.7       0.9\n",
    " 0.007482    153.1       0.8\n",
    " 0.008072    152.8       1.4\n",
    " 0.00871     149         0.9\n",
    " 0.009419    146.4       0.8\n",
    " 0.01007     145         1\n",
    " 0.01067     143.1       1\n",
    " 0.0113      140.3       0.7\n",
    " 0.01197     139.4       0.8\n",
    " 0.01268     138.2       1\n",
    " 0.01343     136.4       0.9\n",
    " 0.01422     135.2       0.9\n",
    " 0.01507     133.2       0.8\n",
    " 0.01596     132.9       0.7\n",
    " 0.0169      130.5       0.7\n",
    " 0.01791     128.6       0.7\n",
    " 0.01897     127.3       0.7\n",
    " 0.02009     125.8       0.7\n",
    " 0.02128     124.1       0.5\n",
    " 0.02254     121.9       0.4\n",
    " 0.02388     120         0.5\n",
    " 0.02529     118.6       0.5\n",
    " 0.02679     117.1       0.5\n",
    " 0.02838     115.2       0.5\n",
    " 0.03006     113.2       0.6\n",
    " 0.03184     111.8       0.5\n",
    " 0.03373     110.3       0.5\n",
    " 0.03573     108.5       0.5\n",
    " 0.03784     105.9       0.4\n",
    " 0.04009     104.6       0.4\n",
    " 0.04246     102.5       0.4\n",
    " 0.04498     100.9       0.4\n",
    " 0.04764     99.7        0.4\n",
    " 0.05047     97.1        0.5\n",
    " 0.05346     95          0.5\n",
    " 0.05662     93.3        0.4\n",
    " 0.05998     91.9        0.6\n",
    " 0.06353     89.9        0.4\n",
    " 0.0673      87.8        0.4\n",
    " 0.07129     85.6        0.5\n",
    " 0.07551     83.4        0.6\n",
    " 0.07998     81.5        0.6\n",
    " 0.08472     79.6        0.3\n",
    " 0.08974     77.6        0.5\n",
    " 0.09506     75.5        0.4\n",
    " 0.1007      74          0.6\n",
    " 0.1067      72.1        0.4\n",
    " 0.113       69.9        0.5\n",
    " 0.1197      68          0.5\n",
    " 0.1268      67.8        0.6\n",
    " 0.1343      65.8        0.5\n",
    " 0.1422      64          0.5\n",
    " 0.1507      63          0.4\n",
    " 0.1596      62.1        0.7\n",
    " 0.169       61.1        0.9\n",
    " 0.1791      60.2        0.6\n",
    " 0.1897      60.4        0.7\n",
    " 0.201       58.9        1\n",
    " 0.2128      59.2        0.6\n",
    " 0.2254      58.1        0.7\n",
    " 0.2388      57.8        0.7\n",
    " 0.2529      56.3        0.6\n",
    " 0.2679      55.8        1.1\n",
    " 0.2838      54.8        0.7\n",
    " 0.3006      53.1        0.6\n",
    " 0.3273      52          0.7\n",
    " 0.3673      51.3        0.5\n",
    " 0.4121      51          0.5\n",
    " 0.4624      50.7        0.6\n",
    " 0.5188      50.6        0.8\n",
    " 0.5821      50.4        0.6\n",
    " 0.6531      49.3        0.8\n",
    " 0.7328      49.2        0.5\n",
    " 0.8222      48.7        0.9\n",
    " 0.9226      47.4        0.7\n",
    " 1.096       47.9        0.5\n",
    " 1.38        46.9        0.5\n",
    " 1.738       47.1        0.5\n",
    " 2.188       47.6        0.5\n",
    " 2.754       46.5        0.7\n",
    " 3.467       46.7        0.8\n",
    " 4.227       45.5        1.3\n",
    " 5.236       46.5        1\n",
    " 6.653       45.2        0.9\n",
    " 8.75        46.4        0.8\n",
    "\"\"\"\n",
    "\n",
    "dawidowski_data = np.fromstring(txt, sep=' ')\n",
    "dawidowski_data = np.reshape(dawidowski_data, (-1, 3))\n",
    "E_exp, xs_exp = dawidowski_data[:,0], dawidowski_data[:,1]\n",
    "N_exp = 0.92*0.6022/14.0"
   ]
  },
  {
   "cell_type": "code",
   "execution_count": 12,
   "id": "181f45a8",
   "metadata": {},
   "outputs": [
    {
     "data": {
      "text/plain": [
       "<matplotlib.legend.Legend at 0x7fc013e441c0>"
      ]
     },
     "execution_count": 12,
     "metadata": {},
     "output_type": "execute_result"
    },
    {
     "data": {
      "image/png": "[encoded data removed]",
      "text/plain": [
       "<Figure size 640x480 with 1 Axes>"
      ]
     },
     "metadata": {},
     "output_type": "display_data"
    }
   ],
   "source": [
    "plt.semilogx(E, xs[0], label='OpenMC')\n",
    "plt.semilogx(E_nc, xs_nc[0], label='NCrystal' )\n",
    "plt.semilogx(E_exp, N_exp*xs_exp, '.', label='Experiment')\n",
    "plt.semilogx(E1,-1/dx*np.log(phi2/phi1), '.', label='Transmission calculation')\n",
    "plt.xlabel('Energy [ev]')\n",
    "plt.ylabel('Macro XS [cm^-1]')\n",
    "plt.legend()"
   ]
  },
  {
   "cell_type": "markdown",
   "id": "349a1726-7d97-4fdf-9df4-d65069f7116a",
   "metadata": {},
   "source": [
    "But, `openmc.data` allows us to open the data file and update it. In particular, there is a problem with the normalization of the incoherent elastic data. We will open the file, update the value and save it again:"
   ]
  },
  {
   "cell_type": "code",
   "execution_count": 13,
   "id": "3e5657be",
   "metadata": {},
   "outputs": [
    {
     "name": "stdout",
     "output_type": "stream",
     "text": [
      "Original sigma_bound: 163.627 -> updated to: 81.8135\n",
      "Original sigma_bound: 163.627 -> updated to: 81.8135\n",
      "Original sigma_bound: 163.627 -> updated to: 81.8135\n",
      "Original sigma_bound: 163.627 -> updated to: 81.8135\n",
      "Original sigma_bound: 163.627 -> updated to: 81.8135\n",
      "Original sigma_bound: 163.627 -> updated to: 81.8135\n",
      "Original sigma_bound: 163.627 -> updated to: 81.8135\n",
      "Original sigma_bound: 163.627 -> updated to: 81.8135\n",
      "Original sigma_bound: 163.627 -> updated to: 81.8135\n",
      "Original sigma_bound: 163.627 -> updated to: 81.8135\n",
      "Original sigma_bound: 163.627 -> updated to: 81.8135\n"
     ]
    }
   ],
   "source": [
    "ch2_path = '/home/student/tsl_software/endfb-viii.0-hdf5/neutron/c_H_in_CH2.h5'\n",
    "data_h5 = openmc.data.ThermalScattering.from_hdf5(ch2_path)\n",
    "\n",
    "for T in data_h5.temperatures:\n",
    "    sigma_bound = data_h5.elastic.xs[T].bound_xs\n",
    "    data_h5.elastic.xs[T].bound_xs = sigma_bound / 2.0\n",
    "    print(f'Original sigma_bound: {sigma_bound} -> updated to: {(sigma_bound/2.0)}')\n",
    "\n",
    "ch2_path_bak = ch2_path + '.bak'\n",
    "os.system(f'mv {ch2_path} {ch2_path_bak}')\n",
    "data_h5.export_to_hdf5(ch2_path)"
   ]
  },
  {
   "cell_type": "markdown",
   "id": "a0878f7c-b08c-4bf4-9c9a-148f7b14975c",
   "metadata": {},
   "source": [
    "And now we can redo the exercise:"
   ]
  },
  {
   "cell_type": "code",
   "execution_count": 14,
   "id": "e0a668fd-17a2-44ba-b0d6-befd5d15fd28",
   "metadata": {},
   "outputs": [],
   "source": [
    "dx = 0.2 # cm\n",
    "m1 = openmc.Material()\n",
    "m1.add_elements_from_formula('CH2')\n",
    "m1.set_density('g/cm3', 0.92)\n",
    "m1.add_s_alpha_beta('c_H_in_CH2')\n",
    "\n",
    "model = create_model(m1, slab_thickness=dx)\n",
    "model.export_to_xml()"
   ]
  },
  {
   "cell_type": "code",
   "execution_count": 15,
   "id": "6b538bb7-02f6-4bb7-8181-d69b3ea7f21a",
   "metadata": {},
   "outputs": [
    {
     "name": "stdout",
     "output_type": "stream",
     "text": [
      "                                %%%%%%%%%%%%%%%\n",
      "                           %%%%%%%%%%%%%%%%%%%%%%%%\n",
      "                        %%%%%%%%%%%%%%%%%%%%%%%%%%%%%%\n",
      "                      %%%%%%%%%%%%%%%%%%%%%%%%%%%%%%%%%%\n",
      "                    %%%%%%%%%%%%%%%%%%%%%%%%%%%%%%%%%%%%%%\n",
      "                   %%%%%%%%%%%%%%%%%%%%%%%%%%%%%%%%%%%%%%%%\n",
      "                                    %%%%%%%%%%%%%%%%%%%%%%%%\n",
      "                                     %%%%%%%%%%%%%%%%%%%%%%%%\n",
      "                 ###############      %%%%%%%%%%%%%%%%%%%%%%%%\n",
      "                ##################     %%%%%%%%%%%%%%%%%%%%%%%\n",
      "                ###################     %%%%%%%%%%%%%%%%%%%%%%%\n",
      "                ####################     %%%%%%%%%%%%%%%%%%%%%%\n",
      "                #####################     %%%%%%%%%%%%%%%%%%%%%\n",
      "                ######################     %%%%%%%%%%%%%%%%%%%%\n",
      "                #######################     %%%%%%%%%%%%%%%%%%\n",
      "                 #######################     %%%%%%%%%%%%%%%%%\n",
      "                 ######################     %%%%%%%%%%%%%%%%%\n",
      "                  ####################     %%%%%%%%%%%%%%%%%\n",
      "                    #################     %%%%%%%%%%%%%%%%%\n",
      "                     ###############     %%%%%%%%%%%%%%%%\n",
      "                       ############     %%%%%%%%%%%%%%%\n",
      "                          ########     %%%%%%%%%%%%%%\n",
      "                                      %%%%%%%%%%%\n",
      "\n",
      "                 | The OpenMC Monte Carlo Code\n",
      "       Copyright | 2011-2023 MIT, UChicago Argonne LLC, and contributors\n",
      "         License | https://docs.openmc.org/en/latest/license.html\n",
      "         Version | 0.13.4-dev\n",
      "        Git SHA1 | 65618384c926d5c047460dac2c83db4a2de17915\n",
      "       Date/Time | 2023-05-24 10:04:49\n",
      "  OpenMP Threads | 4\n",
      "\n",
      " Reading settings XML file...\n",
      " Reading cross sections XML file...\n",
      " Reading materials XML file...\n",
      " Reading geometry XML file...\n",
      " Reading C12 from /home/student/tsl_software/endfb-viii.0-hdf5/neutron/C12.h5\n",
      " Reading C13 from /home/student/tsl_software/endfb-viii.0-hdf5/neutron/C13.h5\n",
      " Reading H1 from /home/student/tsl_software/endfb-viii.0-hdf5/neutron/H1.h5\n",
      " Reading H2 from /home/student/tsl_software/endfb-viii.0-hdf5/neutron/H2.h5\n",
      " Reading c_H_in_CH2 from\n",
      " /home/student/tsl_software/endfb-viii.0-hdf5/neutron/c_H_in_CH2.h5\n",
      " Minimum neutron data temperature: 294 K\n",
      " Maximum neutron data temperature: 294 K\n",
      " Reading tallies XML file...\n",
      " Preparing distributed cell instances...\n",
      " Reading plot XML file...\n",
      " Writing summary.h5 file...\n",
      " Maximum neutron transport energy: 20000000 eV for C13\n",
      "\n",
      " ===============>     FIXED SOURCE TRANSPORT SIMULATION     <===============\n",
      "\n",
      " Simulating batch 1\n",
      " Simulating batch 2\n",
      " Simulating batch 3\n",
      " Simulating batch 4\n",
      " Simulating batch 5\n",
      " Simulating batch 6\n",
      " Simulating batch 7\n",
      " Simulating batch 8\n",
      " Simulating batch 9\n",
      " Simulating batch 10\n",
      " Creating state point statepoint.10.h5...\n",
      "\n",
      " =======================>     TIMING STATISTICS     <=======================\n",
      "\n",
      " Total time for initialization     = 1.1545e-01 seconds\n",
      "   Reading cross sections          = 1.0504e-01 seconds\n",
      " Total time in simulation          = 1.0875e+01 seconds\n",
      "   Time in transport only          = 1.0872e+01 seconds\n",
      "   Time in active batches          = 1.0875e+01 seconds\n",
      "   Time accumulating tallies       = 7.3164e-05 seconds\n",
      "   Time writing statepoints        = 1.8978e-03 seconds\n",
      " Total time for finalization       = 6.3756e-04 seconds\n",
      " Total time elapsed                = 1.0991e+01 seconds\n",
      " Calculation Rate (active)         = 919545 particles/second\n",
      "\n",
      " ============================>     RESULTS     <============================\n",
      "\n",
      " Leakage Fraction            = 0.99737 +/- 0.00001\n",
      "\n"
     ]
    }
   ],
   "source": [
    "!rm summary.h5 statepoint.10.h5\n",
    "openmc.run(output=True)"
   ]
  },
  {
   "cell_type": "code",
   "execution_count": 16,
   "id": "1025ce6d-2a4f-4f6b-afba-5d184a48c556",
   "metadata": {},
   "outputs": [],
   "source": [
    "E1_fix, phi1_fix = get_incident_tally('statepoint.10.h5')\n",
    "E2_fix, phi2_fix = get_transmitted_tally('statepoint.10.h5')"
   ]
  },
  {
   "cell_type": "code",
   "execution_count": 17,
   "id": "c409e525-1d58-4b6e-981b-371b64b35077",
   "metadata": {},
   "outputs": [],
   "source": [
    "E, xs = openmc.calculate_cexs(m1, ['total'])"
   ]
  },
  {
   "cell_type": "code",
   "execution_count": 18,
   "id": "5ab469e5-4380-4fc1-a85e-269405065779",
   "metadata": {},
   "outputs": [
    {
     "data": {
      "text/plain": [
       "<matplotlib.legend.Legend at 0x7fc019687700>"
      ]
     },
     "execution_count": 18,
     "metadata": {},
     "output_type": "execute_result"
    },
    {
     "data": {
      "image/png": "[encoded data removed]",
      "text/plain": [
       "<Figure size 640x480 with 1 Axes>"
      ]
     },
     "metadata": {},
     "output_type": "display_data"
    }
   ],
   "source": [
    "plt.semilogx(E, xs[0], label='OpenMC')\n",
    "plt.semilogx(E_nc, xs_nc[0], label='NCrystal' )\n",
    "plt.semilogx(E_exp, N_exp*xs_exp, '.', label='Experiment')\n",
    "plt.semilogx(E1_fix,-1/dx*np.log(phi2_fix/phi1_fix), '.', label='Transmission calculation')\n",
    "plt.xlabel('Energy [ev]')\n",
    "plt.ylabel('Macro XS [cm^-1]')\n",
    "plt.legend()"
   ]
  },
  {
   "cell_type": "code",
   "execution_count": null,
   "id": "673516c8-5e4b-404a-8126-b7a123edebd8",
   "metadata": {},
   "outputs": [],
   "source": []
  }
 ],
 "metadata": {
  "kernelspec": {
   "display_name": "Python 3 (ipykernel)",
   "language": "python",
   "name": "python3"
  },
  "language_info": {
   "codemirror_mode": {
    "name": "ipython",
    "version": 3
   },
   "file_extension": ".py",
   "mimetype": "text/x-python",
   "name": "python",
   "nbconvert_exporter": "python",
   "pygments_lexer": "ipython3",
   "version": "3.9.16"
  }
 },
 "nbformat": 4,
 "nbformat_minor": 5
}
