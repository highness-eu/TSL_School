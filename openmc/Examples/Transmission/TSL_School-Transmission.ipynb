{
 "cells": [
  {
   "cell_type": "markdown",
   "id": "0c862212",
   "metadata": {},
   "source": [
    "## Energy dependent transmission"
   ]
  },
  {
   "cell_type": "markdown",
   "id": "93d6f260",
   "metadata": {},
   "source": [
    "We will make a simple simulation under to recover the total neutron cross section from the transmission in a slab:"
   ]
  },
  {
   "cell_type": "code",
   "execution_count": 1,
   "id": "3ba189ce",
   "metadata": {},
   "outputs": [],
   "source": [
    "import openmc\n",
    "import numpy as np\n",
    "import matplotlib.pyplot as plt\n",
    "openmc.config['cross_sections'] = '/home/student/openmc_ncrystal_vm/endfb-viii.0-hdf5/cross_sections.xml'"
   ]
  },
  {
   "cell_type": "markdown",
   "id": "631181f7",
   "metadata": {},
   "source": [
    "We start defining a function that returns an OpenMC model for a pencil beam incident perpendicular an slab, with two small spheres to tally the incident and transmitted spectra. The function takes as a parameter an OpenMC material to fill the slab."
   ]
  },
  {
   "cell_type": "code",
   "execution_count": 2,
   "id": "c58c9a73",
   "metadata": {},
   "outputs": [],
   "source": [
    "def create_model(slab_mat, NParticles=1000000, slab_thickness=1):\n",
    "    p1 = openmc.ZPlane(z0=-slab_thickness/2)\n",
    "    p2 = openmc.ZPlane(z0=+slab_thickness/2)\n",
    "    s1 = openmc.Sphere(r=0.1, z0=-(slab_thickness/2+10))\n",
    "    s2 = openmc.Sphere(r=0.1, z0=+(slab_thickness/2+10))\n",
    "    s3 = openmc.Sphere(r=100, boundary_type='vacuum')\n",
    "    c1 = openmc.Cell(region=+p1&-p2&-s3, fill=slab_mat)\n",
    "    c2 = openmc.Cell(region=-s1, fill=None)\n",
    "    c3 = openmc.Cell(region=-s2, fill=None)\n",
    "    c4 = openmc.Cell(region=(-p1|+p2)&+s1&+s2&-s3, fill=None)\n",
    "    u1 = openmc.Universe(cells=[c1, c2, c3, c4])\n",
    "    geometry = openmc.Geometry(root=u1)\n",
    "    \n",
    "    source = openmc.Source()\n",
    "    source.space  = openmc.stats.Point(xyz=[0,0,-(slab_thickness/2+20)])\n",
    "    source.angle  = openmc.stats.Monodirectional(reference_uvw=[0,0,1])\n",
    "    source.energy = openmc.stats.Uniform(1e-4,1)\n",
    "    \n",
    "    settings = openmc.Settings()\n",
    "    settings.source = source\n",
    "    settings.run_mode = 'fixed source'\n",
    "    settings.batches = 10\n",
    "    settings.particles = NParticles\n",
    "    settings.temperature = {'method':'nearest', 'tolerance':1000}\n",
    "\n",
    "    tally1 = openmc.Tally()\n",
    "    filter1 = openmc.CellFilter([c2])\n",
    "    filter2 = openmc.EnergyFilter(np.geomspace(1e-4, 1, 120))\n",
    "    tally1.scores = ['flux']\n",
    "    tally1.name = 'incident spectrum'\n",
    "    tally1.filters = [filter1, filter2]\n",
    "\n",
    "    tally2 = openmc.Tally()\n",
    "    filter3 = openmc.CellFilter([c3])\n",
    "    tally2.scores = ['flux']\n",
    "    tally2.name = 'transmitted spectrum'\n",
    "    tally2.filters = [filter2, filter3]\n",
    "\n",
    "    tallies = openmc.Tallies([tally1, tally2])\n",
    "    \n",
    "    return openmc.model.Model(geometry=geometry, settings=settings, tallies=tallies)"
   ]
  },
  {
   "cell_type": "markdown",
   "id": "2fefb531",
   "metadata": {},
   "source": [
    "We will define a pair of functions to extract the spectra from the statepoint file:"
   ]
  },
  {
   "cell_type": "code",
   "execution_count": 3,
   "id": "7cf0a27f",
   "metadata": {},
   "outputs": [],
   "source": [
    "def get_incident_tally(spfile='statepoint.10.h5'):\n",
    "    with openmc.StatePoint(spfile) as sp:\n",
    "        tally = sp.get_tally(name='incident spectrum')\n",
    "        df = tally.get_pandas_dataframe()\n",
    "        phi_g = df['mean'].values\n",
    "        E_g = df['energy high [eV]'].values\n",
    "        return E_g, phi_g\n",
    "\n",
    "def get_transmitted_tally(spfile='statepoint.10.h5'):\n",
    "    with openmc.StatePoint(spfile) as sp:\n",
    "        tally = sp.get_tally(name='transmitted spectrum')\n",
    "        df = tally.get_pandas_dataframe()\n",
    "        phi_g = df['mean'].values\n",
    "        E_g = df['energy high [eV]'].values\n",
    "        return E_g, phi_g"
   ]
  },
  {
   "cell_type": "markdown",
   "id": "b7999aa2",
   "metadata": {},
   "source": [
    "We can now apply this to the calculation of the transmission in different materials:"
   ]
  },
  {
   "cell_type": "code",
   "execution_count": 4,
   "id": "fb8e6a30",
   "metadata": {},
   "outputs": [],
   "source": [
    "dx = 0.2 # cm\n",
    "m1 = openmc.Material()\n",
    "m1.add_elements_from_formula('CH2')\n",
    "m1.set_density('g/cm3', 0.92)\n",
    "m1.add_s_alpha_beta('c_H_in_CH2')\n",
    "\n",
    "model = create_model(m1, slab_thickness=dx)\n",
    "model.export_to_xml()"
   ]
  },
  {
   "cell_type": "code",
   "execution_count": 5,
   "id": "b58bc585",
   "metadata": {},
   "outputs": [
    {
     "name": "stdout",
     "output_type": "stream",
     "text": [
      "                                %%%%%%%%%%%%%%%\n",
      "                           %%%%%%%%%%%%%%%%%%%%%%%%\n",
      "                        %%%%%%%%%%%%%%%%%%%%%%%%%%%%%%\n",
      "                      %%%%%%%%%%%%%%%%%%%%%%%%%%%%%%%%%%\n",
      "                    %%%%%%%%%%%%%%%%%%%%%%%%%%%%%%%%%%%%%%\n",
      "                   %%%%%%%%%%%%%%%%%%%%%%%%%%%%%%%%%%%%%%%%\n",
      "                                    %%%%%%%%%%%%%%%%%%%%%%%%\n",
      "                                     %%%%%%%%%%%%%%%%%%%%%%%%\n",
      "                 ###############      %%%%%%%%%%%%%%%%%%%%%%%%\n",
      "                ##################     %%%%%%%%%%%%%%%%%%%%%%%\n",
      "                ###################     %%%%%%%%%%%%%%%%%%%%%%%\n",
      "                ####################     %%%%%%%%%%%%%%%%%%%%%%\n",
      "                #####################     %%%%%%%%%%%%%%%%%%%%%\n",
      "                ######################     %%%%%%%%%%%%%%%%%%%%\n",
      "                #######################     %%%%%%%%%%%%%%%%%%\n",
      "                 #######################     %%%%%%%%%%%%%%%%%\n",
      "                 ######################     %%%%%%%%%%%%%%%%%\n",
      "                  ####################     %%%%%%%%%%%%%%%%%\n",
      "                    #################     %%%%%%%%%%%%%%%%%\n",
      "                     ###############     %%%%%%%%%%%%%%%%\n",
      "                       ############     %%%%%%%%%%%%%%%\n",
      "                          ########     %%%%%%%%%%%%%%\n",
      "                                      %%%%%%%%%%%\n",
      "\n",
      "                 | The OpenMC Monte Carlo Code\n",
      "       Copyright | 2011-2023 MIT, UChicago Argonne LLC, and contributors\n",
      "         License | https://docs.openmc.org/en/latest/license.html\n",
      "         Version | 0.13.3-dev\n",
      "        Git SHA1 | 3f5b90042c378f4182ef196ac075dd8cd8cec686\n",
      "       Date/Time | 2023-05-03 15:25:26\n",
      "  OpenMP Threads | 8\n",
      "\n",
      " Reading settings XML file...\n",
      " Reading cross sections XML file...\n",
      " Reading materials XML file...\n",
      " Reading geometry XML file...\n",
      " Reading C12 from\n",
      " /home/nacho/mounts/uqbar_home/ess/2023/openmc_ncrystal_conda/endfb-viii.0-hdf5/n\n",
      " eutron/C12.h5\n",
      " Reading C13 from\n",
      " /home/nacho/mounts/uqbar_home/ess/2023/openmc_ncrystal_conda/endfb-viii.0-hdf5/n\n",
      " eutron/C13.h5\n",
      " Reading H1 from\n",
      " /home/nacho/mounts/uqbar_home/ess/2023/openmc_ncrystal_conda/endfb-viii.0-hdf5/n\n",
      " eutron/H1.h5\n",
      " Reading H2 from\n",
      " /home/nacho/mounts/uqbar_home/ess/2023/openmc_ncrystal_conda/endfb-viii.0-hdf5/n\n",
      " eutron/H2.h5\n",
      " Reading c_H_in_CH2 from\n",
      " /home/nacho/mounts/uqbar_home/ess/2023/openmc_ncrystal_conda/endfb-viii.0-hdf5/n\n",
      " eutron/c_H_in_CH2.h5\n",
      " Minimum neutron data temperature: 294 K\n",
      " Maximum neutron data temperature: 294 K\n",
      " Reading tallies XML file...\n",
      " Preparing distributed cell instances...\n",
      " Reading plot XML file...\n",
      " Writing summary.h5 file...\n",
      " Maximum neutron transport energy: 20000000 eV for C13\n",
      "\n",
      " ===============>     FIXED SOURCE TRANSPORT SIMULATION     <===============\n",
      "\n",
      " Simulating batch 1\n",
      " Simulating batch 2\n",
      " Simulating batch 3\n",
      " Simulating batch 4\n",
      " Simulating batch 5\n",
      " Simulating batch 6\n",
      " Simulating batch 7\n",
      " Simulating batch 8\n",
      " Simulating batch 9\n",
      " Simulating batch 10\n",
      " Creating state point statepoint.10.h5...\n",
      "\n",
      " =======================>     TIMING STATISTICS     <=======================\n",
      "\n",
      " Total time for initialization     = 1.9477e-01 seconds\n",
      "   Reading cross sections          = 1.7077e-01 seconds\n",
      " Total time in simulation          = 1.3453e+01 seconds\n",
      "   Time in transport only          = 1.3448e+01 seconds\n",
      "   Time in active batches          = 1.3453e+01 seconds\n",
      "   Time accumulating tallies       = 2.0466e-04 seconds\n",
      "   Time writing statepoints        = 2.9766e-03 seconds\n",
      " Total time for finalization       = 5.3760e-04 seconds\n",
      " Total time elapsed                = 1.3650e+01 seconds\n",
      " Calculation Rate (active)         = 743336 particles/second\n",
      "\n",
      " ============================>     RESULTS     <============================\n",
      "\n",
      " Leakage Fraction            = 0.99733 +/- 0.00001\n",
      "\n"
     ]
    }
   ],
   "source": [
    "!rm summary.h5 statepoint.10.h5\n",
    "openmc.run(output=True)"
   ]
  },
  {
   "cell_type": "code",
   "execution_count": 6,
   "id": "7643911a",
   "metadata": {},
   "outputs": [],
   "source": [
    "E1, phi1 = get_incident_tally('statepoint.10.h5')\n",
    "E2, phi2 = get_transmitted_tally('statepoint.10.h5')"
   ]
  },
  {
   "cell_type": "markdown",
   "id": "e00925c4",
   "metadata": {},
   "source": [
    "We can compare the results of the transmission simulation with the macroscopic total cross section for the material:"
   ]
  },
  {
   "cell_type": "code",
   "execution_count": 7,
   "id": "5144a40e",
   "metadata": {},
   "outputs": [],
   "source": [
    "E, xs = openmc.calculate_cexs(m1, ['total'])"
   ]
  },
  {
   "cell_type": "code",
   "execution_count": 8,
   "id": "1bdf4e7f",
   "metadata": {},
   "outputs": [
    {
     "data": {
      "text/plain": [
       "Text(0, 0.5, 'Macro XS [cm^-1]')"
      ]
     },
     "execution_count": 8,
     "metadata": {},
     "output_type": "execute_result"
    },
    {
     "data": {
      "image/png": "[encoded data removed]",
      "text/plain": [
       "<Figure size 640x480 with 1 Axes>"
      ]
     },
     "metadata": {},
     "output_type": "display_data"
    }
   ],
   "source": [
    "plt.semilogx(E, xs[0])\n",
    "plt.semilogx(E1,-1/dx*np.log(phi2/phi1), '.')\n",
    "plt.xlabel('Energy [ev]')\n",
    "plt.ylabel('Macro XS [cm^-1]')"
   ]
  },
  {
   "cell_type": "code",
   "execution_count": null,
   "id": "4c1186d4",
   "metadata": {},
   "outputs": [],
   "source": []
  }
 ],
 "metadata": {
  "kernelspec": {
   "display_name": "Python 3 (ipykernel)",
   "language": "python",
   "name": "python3"
  },
  "language_info": {
   "codemirror_mode": {
    "name": "ipython",
    "version": 3
   },
   "file_extension": ".py",
   "mimetype": "text/x-python",
   "name": "python",
   "nbconvert_exporter": "python",
   "pygments_lexer": "ipython3",
   "version": "3.9.16"
  }
 },
 "nbformat": 4,
 "nbformat_minor": 5
}
