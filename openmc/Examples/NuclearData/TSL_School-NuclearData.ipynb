{
 "cells": [
  {
   "cell_type": "code",
   "execution_count": 1,
   "id": "99098fdb-aad7-4232-adf4-6291acafe302",
   "metadata": {},
   "outputs": [],
   "source": [
    "import pathlib, os\n",
    "if 'TSL_SCHOOL_DIR' in os.environ:\n",
    "    assert not any( (p/\".git\").is_dir() for p in (pathlib.Path(\".\").absolute().resolve()/\"dummy\").parents ),\\\n",
    "                     'Please copy notebook to a work directory'"
   ]
  },
  {
   "cell_type": "markdown",
   "id": "fba4b9f8-649a-4acf-800a-59bd26d67144",
   "metadata": {},
   "source": [
    "## Nuclear data analysis with OpenMC"
   ]
  },
  {
   "cell_type": "markdown",
   "id": "7efcbca9-0e3e-4b9e-8843-c0ff76cd1c0f",
   "metadata": {},
   "source": [
    "The `openmc.data` submodule of the Python API provides access to classes that allow to load and inspect nuclear data. You can read more abut in [the documentation](https://docs.openmc.org/en/latest/pythonapi/data.html):"
   ]
  },
  {
   "cell_type": "code",
   "execution_count": 2,
   "id": "8b7f0b34-c975-4881-99f8-40615dde4d70",
   "metadata": {},
   "outputs": [
    {
     "name": "stderr",
     "output_type": "stream",
     "text": [
      "/tmp/ipykernel_22598/2928495047.py:9: DeprecationWarning: Using or importing the ABCs from 'collections' instead of from 'collections.abc' is deprecated since Python 3.3, and in 3.10 it will stop working\n",
      "  import pyne.endf\n"
     ]
    }
   ],
   "source": [
    "import openmc\n",
    "import openmc.data\n",
    "import numpy as np\n",
    "import matplotlib.pyplot as plt\n",
    "openmc.config['cross_sections'] = '/home/student/tsl_software/endfb-viii.0-hdf5/cross_sections.xml'\n",
    "import os\n",
    "import NCrystal as NC\n",
    "import pyne\n",
    "import pyne.endf"
   ]
  },
  {
   "cell_type": "markdown",
   "id": "278f8a42-1a3e-4277-82e2-a74fa14257ef",
   "metadata": {},
   "source": [
    "The `ThermalScattering()` class provides direct access to thermal scattering kernels in ACE format, or in OpenMC's own HDF5 library:"
   ]
  },
  {
   "cell_type": "code",
   "execution_count": 3,
   "id": "6498fff0-a302-41d6-8913-33651f8eb924",
   "metadata": {},
   "outputs": [
    {
     "name": "stdout",
     "output_type": "stream",
     "text": [
      "Help on class ThermalScattering in module openmc.data.thermal:\n",
      "\n",
      "class ThermalScattering(openmc.mixin.EqualityMixin)\n",
      " |  ThermalScattering(name, atomic_weight_ratio, energy_max, kTs)\n",
      " |  \n",
      " |  A ThermalScattering object contains thermal scattering data as represented by\n",
      " |  an S(alpha, beta) table.\n",
      " |  \n",
      " |  Parameters\n",
      " |  ----------\n",
      " |  name : str\n",
      " |      Name of the material using GNDS convention, e.g. c_H_in_H2O\n",
      " |  atomic_weight_ratio : float\n",
      " |      Atomic mass ratio of the target nuclide.\n",
      " |  kTs : Iterable of float\n",
      " |      List of temperatures of the target nuclide in the data set.\n",
      " |      The temperatures have units of eV.\n",
      " |  \n",
      " |  Attributes\n",
      " |  ----------\n",
      " |  atomic_weight_ratio : float\n",
      " |      Atomic mass ratio of the target nuclide.\n",
      " |  energy_max : float\n",
      " |      Maximum energy for thermal scattering data in [eV]\n",
      " |  elastic : openmc.data.ThermalScatteringReaction or None\n",
      " |      Elastic scattering derived in the coherent or incoherent approximation\n",
      " |  inelastic : openmc.data.ThermalScatteringReaction\n",
      " |      Inelastic scattering cross section derived in the incoherent\n",
      " |      approximation\n",
      " |  name : str\n",
      " |      Name of the material using GNDS convention, e.g. c_H_in_H2O\n",
      " |  temperatures : Iterable of str\n",
      " |      List of string representations the temperatures of the target nuclide\n",
      " |      in the data set.  The temperatures are strings of the temperature,\n",
      " |      rounded to the nearest integer; e.g., '294K'\n",
      " |  kTs : Iterable of float\n",
      " |      List of temperatures of the target nuclide in the data set.\n",
      " |      The temperatures have units of eV.\n",
      " |  nuclides : Iterable of str\n",
      " |      Nuclide names that the thermal scattering data applies to\n",
      " |  \n",
      " |  Method resolution order:\n",
      " |      ThermalScattering\n",
      " |      openmc.mixin.EqualityMixin\n",
      " |      builtins.object\n",
      " |  \n",
      " |  Methods defined here:\n",
      " |  \n",
      " |  __init__(self, name, atomic_weight_ratio, energy_max, kTs)\n",
      " |      Initialize self.  See help(type(self)) for accurate signature.\n",
      " |  \n",
      " |  __repr__(self)\n",
      " |      Return repr(self).\n",
      " |  \n",
      " |  add_temperature_from_ace(self, ace_or_filename, name=None)\n",
      " |      Add data to the ThermalScattering object from an ACE file at a\n",
      " |      different temperature.\n",
      " |      \n",
      " |      Parameters\n",
      " |      ----------\n",
      " |      ace_or_filename : openmc.data.ace.Table or str\n",
      " |          ACE table to read from. If given as a string, it is assumed to be\n",
      " |          the filename for the ACE file.\n",
      " |      name : str\n",
      " |          GNDS-conforming name of the material, e.g. c_H_in_H2O. If none is\n",
      " |          passed, the appropriate name is guessed based on the name of the ACE\n",
      " |          table.\n",
      " |      \n",
      " |      Returns\n",
      " |      -------\n",
      " |      openmc.data.ThermalScattering\n",
      " |          Thermal scattering data\n",
      " |  \n",
      " |  export_to_hdf5(self, path, mode='a', libver='earliest')\n",
      " |      Export table to an HDF5 file.\n",
      " |      \n",
      " |      Parameters\n",
      " |      ----------\n",
      " |      path : str\n",
      " |          Path to write HDF5 file to\n",
      " |      mode : {'r+', 'w', 'x', 'a'}\n",
      " |          Mode that is used to open the HDF5 file. This is the second argument\n",
      " |          to the :class:`h5py.File` constructor.\n",
      " |      libver : {'earliest', 'latest'}\n",
      " |          Compatibility mode for the HDF5 file. 'latest' will produce files\n",
      " |          that are less backwards compatible but have performance benefits.\n",
      " |  \n",
      " |  ----------------------------------------------------------------------\n",
      " |  Class methods defined here:\n",
      " |  \n",
      " |  from_ace(ace_or_filename, name=None) from builtins.type\n",
      " |      Generate thermal scattering data from an ACE table\n",
      " |      \n",
      " |      Parameters\n",
      " |      ----------\n",
      " |      ace_or_filename : openmc.data.ace.Table or str\n",
      " |          ACE table to read from. If given as a string, it is assumed to be\n",
      " |          the filename for the ACE file.\n",
      " |      name : str\n",
      " |          GNDS-conforming name of the material, e.g. c_H_in_H2O. If none is\n",
      " |          passed, the appropriate name is guessed based on the name of the ACE\n",
      " |          table.\n",
      " |      \n",
      " |      Returns\n",
      " |      -------\n",
      " |      openmc.data.ThermalScattering\n",
      " |          Thermal scattering data\n",
      " |  \n",
      " |  from_endf(ev_or_filename) from builtins.type\n",
      " |      Generate thermal scattering data from an ENDF file\n",
      " |      \n",
      " |      Parameters\n",
      " |      ----------\n",
      " |      ev_or_filename : openmc.data.endf.Evaluation or str\n",
      " |          ENDF evaluation to read from. If given as a string, it is assumed to\n",
      " |          be the filename for the ENDF file.\n",
      " |      \n",
      " |      Returns\n",
      " |      -------\n",
      " |      openmc.data.ThermalScattering\n",
      " |          Thermal scattering data\n",
      " |  \n",
      " |  from_hdf5(group_or_filename) from builtins.type\n",
      " |      Generate thermal scattering data from HDF5 group\n",
      " |      \n",
      " |      Parameters\n",
      " |      ----------\n",
      " |      group_or_filename : h5py.Group or str\n",
      " |          HDF5 group containing interaction data. If given as a string, it is\n",
      " |          assumed to be the filename for the HDF5 file, and the first group\n",
      " |          is used to read from.\n",
      " |      \n",
      " |      Returns\n",
      " |      -------\n",
      " |      openmc.data.ThermalScattering\n",
      " |          Neutron thermal scattering data\n",
      " |  \n",
      " |  from_njoy(filename, filename_thermal, temperatures=None, evaluation=None, evaluation_thermal=None, use_endf_data=True, **kwargs) from builtins.type\n",
      " |      Generate thermal scattering data by running NJOY.\n",
      " |      \n",
      " |      Parameters\n",
      " |      ----------\n",
      " |      filename : str\n",
      " |          Path to ENDF neutron sublibrary file\n",
      " |      filename_thermal : str\n",
      " |          Path to ENDF thermal scattering sublibrary file\n",
      " |      temperatures : iterable of float\n",
      " |          Temperatures in Kelvin to produce data at. If omitted, data is\n",
      " |          produced at all temperatures in the ENDF thermal scattering\n",
      " |          sublibrary.\n",
      " |      evaluation : openmc.data.endf.Evaluation, optional\n",
      " |          If the ENDF neutron sublibrary file contains multiple material\n",
      " |          evaluations, this argument indicates which evaluation to use.\n",
      " |      evaluation_thermal : openmc.data.endf.Evaluation, optional\n",
      " |          If the ENDF thermal scattering sublibrary file contains multiple\n",
      " |          material evaluations, this argument indicates which evaluation to\n",
      " |          use.\n",
      " |      use_endf_data : bool\n",
      " |          If the material has incoherent elastic scattering, the ENDF data\n",
      " |          will be used rather than the ACE data.\n",
      " |      **kwargs\n",
      " |          Keyword arguments passed to :func:`openmc.data.njoy.make_ace_thermal`\n",
      " |      \n",
      " |      Returns\n",
      " |      -------\n",
      " |      data : openmc.data.ThermalScattering\n",
      " |          Thermal scattering data\n",
      " |  \n",
      " |  ----------------------------------------------------------------------\n",
      " |  Readonly properties defined here:\n",
      " |  \n",
      " |  temperatures\n",
      " |  \n",
      " |  ----------------------------------------------------------------------\n",
      " |  Methods inherited from openmc.mixin.EqualityMixin:\n",
      " |  \n",
      " |  __eq__(self, other)\n",
      " |      Return self==value.\n",
      " |  \n",
      " |  ----------------------------------------------------------------------\n",
      " |  Data descriptors inherited from openmc.mixin.EqualityMixin:\n",
      " |  \n",
      " |  __dict__\n",
      " |      dictionary for instance variables (if defined)\n",
      " |  \n",
      " |  __weakref__\n",
      " |      list of weak references to the object (if defined)\n",
      " |  \n",
      " |  ----------------------------------------------------------------------\n",
      " |  Data and other attributes inherited from openmc.mixin.EqualityMixin:\n",
      " |  \n",
      " |  __hash__ = None\n",
      "\n"
     ]
    }
   ],
   "source": [
    "help(openmc.data.ThermalScattering)"
   ]
  },
  {
   "cell_type": "markdown",
   "id": "4549ed18-e1d0-4fce-9502-7f7b69b0dccf",
   "metadata": {},
   "source": [
    "We can access the data using the `.from_hdf5()` and `.from_ace()` class methods. We will also see how to convert an ENDF file using NJOY to ACE. "
   ]
  },
  {
   "cell_type": "markdown",
   "id": "f9d6a155-2c70-4159-b19f-0c5109d62bcb",
   "metadata": {},
   "source": [
    "### Importing from HDF5 files"
   ]
  },
  {
   "cell_type": "markdown",
   "id": "91d90e44-4a9e-49e3-975d-751c35a82e1f",
   "metadata": {},
   "source": [
    "Let's start with by opening the cross sections for hydrogen in light water contained in the OpenMC data library:"
   ]
  },
  {
   "cell_type": "code",
   "execution_count": null,
   "id": "e8e9b15e-5962-44e4-ad8e-20464fe8f3c1",
   "metadata": {},
   "outputs": [],
   "source": [
    "data_h5 = openmc.data.ThermalScattering.from_hdf5('/home/student/tsl_software/endfb-viii.0-hdf5/neutron/c_H_in_H2O.h5')"
   ]
  },
  {
   "cell_type": "markdown",
   "id": "a6cf5cf5-0373-436f-a8ff-2d4ba422d0bf",
   "metadata": {},
   "source": [
    "Here we are reading an HDF5 formatted file with a format that is described in the [OpenMC documentation](https://docs.openmc.org/en/stable/io_formats/nuclear_data.html#thermal-neutron-scattering-data), and contains a transcription of the [ACE format](https://raw.githubusercontent.com/NuclearData/ACEFormat/master/ACEFormat.pdf) (see Sect. 6). The file was processed from the [ENDF/B-VIII.0](https://www.nndc.bnl.gov/endf-b8.0/) (see also the associated [paper](https://doi.org/10.1016/j.nds.2018.02.001)) evaluation for hydrogen bound in light water, which was based on the [CAB Model for water](https://doi.org/10.1016/j.anucene.2013.11.014)."
   ]
  },
  {
   "cell_type": "markdown",
   "id": "d16b4a66-0811-43eb-88d7-7b02517278fa",
   "metadata": {},
   "source": [
    "Thermal scattering files contain two \"nuclear reactions\" (the quotes here meaning that although they are the same nuclear reaction, there are separated for practical purposes): thermal `.elastic` and thermal `.inelastic`. Thermal elastic includes the interaction of neutrons with atoms in their average equilibrium positions, with an effective infinite mass and no energy transfer. Thermal inelastic includes the excitation of phonons or other modes in the material. Since light water is a liquid, there are no equilibrium positions for its atoms, and all scattering is inelastic:"
   ]
  },
  {
   "cell_type": "code",
   "execution_count": null,
   "id": "66bdd0ef-a407-4caf-a5e5-520b176f0762",
   "metadata": {},
   "outputs": [],
   "source": [
    "print(data_h5.elastic)"
   ]
  },
  {
   "cell_type": "code",
   "execution_count": null,
   "id": "bb63350b-af63-4f35-b38e-c5f1d24c703e",
   "metadata": {},
   "outputs": [],
   "source": [
    "print(data_h5.inelastic)"
   ]
  },
  {
   "cell_type": "markdown",
   "id": "7f7f6f87-925d-4694-a8e6-3aca4cd91177",
   "metadata": {},
   "source": [
    "The inelastic `ThermalScatteringReaction` contains data in two members: `.xs` and `.distribution`. This follows the ACE format for thermal scattering, where the double differential cross section is formatted as:\n",
    "\n",
    "$$ \\mathrm{d}^2\\sigma/\\mathrm{E}\\mathrm{d} = \\sigma(E_i,T)*P_1(E_o | E_i, T)*P_2(\\mu | E_o, E_i, T)$$ \n",
    "\n",
    "Where $\\sigma(E_i,T)$ is the inelastic scattering cross section for a given incident energy $E_i$ and a given temperature $T$, $P_1(E_o | E_i, T)$ is the conditional probability distribution of the neutron emerging with an energy $E_o$ if the incident energy in $E_i$ and the temperature is $T$, and $P_2(\\mu | E_o, E_i, T)$ is the probability distribution for the cosine of the scattering angle $\\mu$ for fixed $T$, $E_i$ and $E_o$.\n",
    "\n",
    "The member `.xs` stores $\\sigma(E_i)$ as a dictionary for a given $T$.\n",
    "\n",
    "The member `.distribution` stores $P_1$ and $P_2$ as a dictionary for a given $T$.\n"
   ]
  },
  {
   "cell_type": "code",
   "execution_count": null,
   "id": "14c4a9ef-78aa-48c7-b784-f18240e7537a",
   "metadata": {},
   "outputs": [],
   "source": [
    "print(data_h5.inelastic.xs.keys())"
   ]
  },
  {
   "cell_type": "code",
   "execution_count": null,
   "id": "2048b6c3-63e6-4b30-a5ac-1ebe5ebf6c9c",
   "metadata": {},
   "outputs": [],
   "source": [
    "for T, table in data_h5.inelastic.xs.items():\n",
    "    plt.loglog(table.x, table.y, label=T)\n",
    "plt.legend()\n",
    "plt.xlabel('Energy [eV]')\n",
    "plt.ylabel('XS [b]')"
   ]
  },
  {
   "cell_type": "markdown",
   "id": "035e50d9-b3f0-45eb-bf9e-4aba42aedaba",
   "metadata": {},
   "source": [
    "We can pick one of the temperatures and incident energies and see the outgoing energy and angle distributions:"
   ]
  },
  {
   "cell_type": "code",
   "execution_count": null,
   "id": "6653b684-c8e7-40c1-85f3-277f7c02eebd",
   "metadata": {},
   "outputs": [],
   "source": [
    "i = 90\n",
    "print(f\"Point {i} corresponds to E_i = {data_h5.inelastic.xs['294K'].x[i]} eV in the cross section table.\")\n",
    "print(f\"Point {i} corresponds to E_i = {data_h5.inelastic.distribution['294K'].energy[i]} eV in the energy/angle distribution.\")"
   ]
  },
  {
   "cell_type": "markdown",
   "id": "1728b527-b41a-429f-9b83-d3d572318f28",
   "metadata": {},
   "source": [
    "This particular nuclear data file is stored using a continous distribution for outgoing energy (see Sect. 6.3.2 in the [ACE Format manual](https://raw.githubusercontent.com/NuclearData/ACEFormat/master/ACEFormat.pdf). Older files might contain probilities using discrete distributions:"
   ]
  },
  {
   "cell_type": "code",
   "execution_count": null,
   "id": "3e552796-a6b9-4159-9e08-2406dc3e0992",
   "metadata": {},
   "outputs": [],
   "source": [
    "incident_energy = data_h5.inelastic.distribution['294K'].energy[i]\n",
    "outgoig_energies = data_h5.inelastic.distribution['294K'].energy_out[i].x\n",
    "outgoing_energy_probabilities = data_h5.inelastic.distribution['294K'].energy_out[i].p\n",
    "outgoing_energy_cumulative_probabilities = data_h5.inelastic.distribution['294K'].energy_out[i].c\n",
    "plt.semilogy(outgoig_energies, outgoing_energy_probabilities)\n",
    "plt.xlabel('Outgoing energy [eV]')\n",
    "plt.ylabel('Probability')\n",
    "plt.title(f'Ei = {incident_energy} eV')\n",
    "plt.figure()\n",
    "plt.plot(outgoig_energies, outgoing_energy_cumulative_probabilities)\n",
    "plt.xlabel('Outgoing energy [eV]')\n",
    "plt.ylabel('Cumulative Probability')\n",
    "plt.title(f'Ei = {incident_energy} eV')"
   ]
  },
  {
   "cell_type": "markdown",
   "id": "ca0b8f8e-8a93-4a61-a924-c076d937ccc7",
   "metadata": {},
   "source": [
    "### Importing from ACE"
   ]
  },
  {
   "cell_type": "markdown",
   "id": "918b93a6-cd0f-458d-870d-9a9071dd047f",
   "metadata": {},
   "source": [
    "Let's use now the `from_ace()` class method to compare with a different scattering kernel. The ENDF/B-VI.3 scattering kernels distributed with MCNP in ACE format are available in the [LANL Nuclear Data website](https://nucleardata.lanl.gov/):"
   ]
  },
  {
   "cell_type": "code",
   "execution_count": null,
   "id": "2e049921-8049-420f-a6cf-7af2d772eeaa",
   "metadata": {},
   "outputs": [],
   "source": [
    "!wget https://nucleardata.lanl.gov/lib/sab2002.zip\n",
    "!unzip -o sab2002.zip"
   ]
  },
  {
   "cell_type": "markdown",
   "id": "376d0479-ba23-4c07-a4c4-def36f76e01a",
   "metadata": {},
   "source": [
    "This file contains several scattering kernels, for different materials at different temperatures. In particular, the scattering kernels for light water are called  \"lwtr.60t\" to \"lwtr.64t\":"
   ]
  },
  {
   "cell_type": "code",
   "execution_count": null,
   "id": "a7874dea-6809-4683-b320-74411bbde6f3",
   "metadata": {},
   "outputs": [],
   "source": [
    "!cat sab2002/xsdir | grep lwtr"
   ]
  },
  {
   "cell_type": "markdown",
   "id": "0973a407-f01d-4dac-8c4a-f94aa05b09ea",
   "metadata": {},
   "source": [
    "Since this file contains more than one ACE table, we need to open it using the `openmc.data.Library()` class:"
   ]
  },
  {
   "cell_type": "code",
   "execution_count": null,
   "id": "a8c2a159-d5fb-43e1-87a2-a9241430eed8",
   "metadata": {},
   "outputs": [],
   "source": [
    "temp = openmc.data.Library('sab2002/sab2002/sab2002', table_names='lwtr.60t').tables[0]\n",
    "data_ace = openmc.data.ThermalScattering.from_ace(temp)"
   ]
  },
  {
   "cell_type": "markdown",
   "id": "f9062632-74ad-4811-8d56-b6f4cc8cab72",
   "metadata": {},
   "source": [
    "This file contains data for light water at room temperature:"
   ]
  },
  {
   "cell_type": "code",
   "execution_count": null,
   "id": "c35e9244-7d19-4426-9af6-1f7b693d8368",
   "metadata": {},
   "outputs": [],
   "source": [
    "data_ace.temperatures"
   ]
  },
  {
   "cell_type": "markdown",
   "id": "3fe31bf1-f30a-438f-ae46-966550ea808a",
   "metadata": {},
   "source": [
    "We can compare this with the cross section accessed above:"
   ]
  },
  {
   "cell_type": "code",
   "execution_count": null,
   "id": "2fe33ae3-883b-435e-9ba8-57cda588b67e",
   "metadata": {},
   "outputs": [],
   "source": [
    "plt.loglog(data_h5.inelastic.xs['294K'].x,data_h5.inelastic.xs['294K'].y, label='ENDF/B-VIII (HDF5)')\n",
    "plt.loglog(data_ace.inelastic.xs['294K'].x,data_ace.inelastic.xs['294K'].y, label='ENDF/B-VI.3 (ACE)')\n",
    "plt.legend()\n",
    "plt.xlabel('Energy [eV]')\n",
    "plt.ylabel('XS [b]')"
   ]
  },
  {
   "cell_type": "markdown",
   "id": "4da32369-cf4c-49ac-98c0-50e85c39180d",
   "metadata": {},
   "source": [
    "This file is an older ACE format, and the outgoing energy distribution is discrete, and the `energy_out` object is just a numpy array containing the outgoing energies:"
   ]
  },
  {
   "cell_type": "code",
   "execution_count": null,
   "id": "cc833f96-2b71-43d9-a0fe-ea77e89f3d96",
   "metadata": {},
   "outputs": [],
   "source": [
    "i = 42\n",
    "Ei = data_ace.inelastic.xs['294K'].x[i]\n",
    "print(f\"Point {i} corresponds to E_i = {Ei} eV in the cross section table.\")\n",
    "print(type(data_ace.inelastic.distribution['294K'].energy_out[i]))"
   ]
  },
  {
   "cell_type": "markdown",
   "id": "f62caefb-d5e4-483d-a890-dc5c0baa7ffd",
   "metadata": {},
   "source": [
    "Each of these points have assigned a probability. If the `skewed` probability is set, the border points have lower probability. Otherwise, all outgoing energies are equiprobable:"
   ]
  },
  {
   "cell_type": "code",
   "execution_count": null,
   "id": "0020eeee-a773-43b7-8813-7f00e93b5588",
   "metadata": {},
   "outputs": [],
   "source": [
    "data_ace.inelastic.distribution['294K'].skewed"
   ]
  },
  {
   "cell_type": "code",
   "execution_count": null,
   "id": "8d024e68-0889-4bb8-a417-8c53eb647abf",
   "metadata": {},
   "outputs": [],
   "source": [
    "Ef = data_ace.inelastic.distribution['294K'].energy_out[i]\n",
    "p = np.ones(len(Ef))\n",
    "if data_ace.inelastic.distribution['294K'].skewed:\n",
    "    p[0] = .1\n",
    "    p[1] = .4\n",
    "    p[-2] = .4\n",
    "    p[-1] = .1\n",
    "p = p/sum(p)"
   ]
  },
  {
   "cell_type": "markdown",
   "id": "93d7c185-0d92-44bf-9572-472834981e7e",
   "metadata": {},
   "source": [
    "If we plot these values we can see there are more points near $E_i$, corresponding to the quasielastic scattering peak:"
   ]
  },
  {
   "cell_type": "code",
   "execution_count": null,
   "id": "5adf7650-144f-43e3-ac91-edc73372d54a",
   "metadata": {},
   "outputs": [],
   "source": [
    "plt.plot(Ef, p, '.', label=f'Ei = {Ei:.2e} eV')\n",
    "plt.vlines(Ef, 0, p)\n",
    "plt.xlabel('Outgoing Energy [eV]')\n",
    "plt.ylabel('Probability')\n",
    "plt.xlim(0, 1.6)\n",
    "plt.ylim(0, 1.1*max((p)))\n",
    "linewidth_value=0.5\n",
    "marker_size_value=2"
   ]
  },
  {
   "cell_type": "markdown",
   "id": "44b82079-05aa-429e-b22b-061488502b17",
   "metadata": {},
   "source": [
    "At first sight this distribution looks very different from the one plotted above. But, if we find the cumulative sum of the array we can compare with the cumulative continuous distribution:"
   ]
  },
  {
   "cell_type": "code",
   "execution_count": null,
   "id": "0c1a4e8c-c65b-47d1-a78b-cdaf5d4709a2",
   "metadata": {},
   "outputs": [],
   "source": [
    "c = np.cumsum(p)\n",
    "plt.plot(Ef, c, label='ENDF/B-VI.3 (ACE, discrete)')\n",
    "plt.plot(outgoig_energies, outgoing_energy_cumulative_probabilities, label='ENDF/B-VIII (HDF5, continuous)')\n",
    "plt.xlabel('Outgoing Energy [eV]')\n",
    "plt.ylabel('Cumulative Probability')\n",
    "plt.legend()\n",
    "plt.xlim(0, 1.6)"
   ]
  },
  {
   "cell_type": "markdown",
   "id": "ed2c598f-8949-474d-a632-81c3dbd6b949",
   "metadata": {},
   "source": [
    "### Importing from ENDF-6 files using NJOY"
   ]
  },
  {
   "cell_type": "markdown",
   "id": "3e634d73-8ba2-4833-9b65-397b576cf27d",
   "metadata": {},
   "source": [
    "We will get TSL evaluation for the light water from [JEFF 3.3](https://www.oecd-nea.org/dbdata/jeff/jeff33/index.html).We will retrieve the TSL ENDF file from the [IAEA Nuclear Data Section archive](https://www-nds.iaea.org/public/download-endf):"
   ]
  },
  {
   "cell_type": "code",
   "execution_count": null,
   "id": "1ad0c526-efab-4e81-956d-3a1dffc6ef39",
   "metadata": {},
   "outputs": [],
   "source": [
    "url = 'https://www-nds.iaea.org/public/download-endf/JEFF-3.3/tsl/tsl_0001_H(H2O).zip'\n",
    "user_agent = '--user-agent=\"Mozilla/5.0 (X11; Fedora; Linux x86_64; rv:52.0) Gecko/20100101 Firefox/52.0\"'\n",
    "zipfile = 'file.zip'\n",
    "file = url.split('/')[-1].replace('zip', 'dat')\n",
    "cleanfile = file.replace('(','_').replace(')','_')\n",
    "acefile = cleanfile.replace('dat', 'ace')\n",
    "\n",
    "os.system(f'wget --quiet -O {zipfile} {user_agent} \"{url}\"')\n",
    "os.system(f'unzip -o {zipfile}')\n",
    "if file != cleanfile:\n",
    "    os.system(f'mv \"{file}\" \"{cleanfile}\"')\n",
    "print(f'Created {cleanfile}')"
   ]
  },
  {
   "cell_type": "markdown",
   "id": "95ab05b5-62f8-46e7-b781-70cd697a24c7",
   "metadata": {},
   "source": [
    "We will also need the associated neutron sublibrary evaluation. In this case, for H-1."
   ]
  },
  {
   "cell_type": "code",
   "execution_count": null,
   "id": "94fff372-26c6-4f18-98b0-39af8cfb20af",
   "metadata": {},
   "outputs": [],
   "source": [
    "url = 'https://www-nds.iaea.org/public/download-endf/JEFF-3.3/n/n_0125_1-H-1.zip'\n",
    "user_agent = '--user-agent=\"Mozilla/5.0 (X11; Fedora; Linux x86_64; rv:52.0) Gecko/20100101 Firefox/52.0\"'\n",
    "zipfile = 'file.zip'\n",
    "endffile = url.split('/')[-1].replace('zip', 'dat')\n",
    "\n",
    "os.system(f'wget --quiet -O {zipfile} {user_agent} \"{url}\"')\n",
    "os.system(f'unzip -o {zipfile}')"
   ]
  },
  {
   "cell_type": "markdown",
   "id": "e87061ea-f417-42ec-9c27-44c814664481",
   "metadata": {},
   "source": [
    "We will open the files with [PyNE](https://pyne.io/) to obtain some of the parameters needed for the processing:"
   ]
  },
  {
   "cell_type": "code",
   "execution_count": null,
   "id": "1b329137-cbf7-4499-9888-df7701d9cdf5",
   "metadata": {},
   "outputs": [],
   "source": [
    "tsl_endf = pyne.endf.Evaluation(cleanfile)\n",
    "tsl_endf.read()\n",
    "\n",
    "endf = pyne.endf.Evaluation(endffile)"
   ]
  },
  {
   "cell_type": "code",
   "execution_count": null,
   "id": "7f5ee496-66b5-443b-a260-03990f576666",
   "metadata": {},
   "outputs": [],
   "source": [
    "tsl_mat = tsl_endf.material\n",
    "endf_mat = endf.material\n",
    "\n",
    "temperature = 293.6\n",
    "assert temperature in tsl_endf.thermal_inelastic['temperature'], 'Temperature not available in the ENDF-6 file'\n",
    "\n",
    "proc_mat = 237\n",
    "ielas = 0\n",
    "proc_mat_elas = 0\n",
    "if tsl_endf.thermal_elastic != {}:\n",
    "    proc_mat_elas = proc_mat + 1    \n",
    "    if tsl_endf.thermal_elastic['type'] == 'incoherent':\n",
    "        ielas = 1"
   ]
  },
  {
   "cell_type": "markdown",
   "id": "3752f171-dabb-4898-af90-a394069e6c86",
   "metadata": {},
   "source": [
    "The following parameters are more difficult to guess, and we will provide explicitly: the ZAIDs to which the TSL library will be assiged, the number of atoms in the TSL inelastic file, and the name that will be given to the TSL ACE material:"
   ]
  },
  {
   "cell_type": "code",
   "execution_count": null,
   "id": "fb9968f5-2968-47f0-be35-002149b38839",
   "metadata": {},
   "outputs": [],
   "source": [
    "zaids = '1001 0 0'\n",
    "natom = 2\n",
    "ace_name = 'hh2o'\n",
    "\n",
    "print('Scattering XS is {} b'.format(tsl_endf.thermal_inelastic['B'][0]/natom))"
   ]
  },
  {
   "cell_type": "markdown",
   "id": "19ff7914-9534-4097-986b-f2da732203b6",
   "metadata": {},
   "source": [
    "We need to check that the above value corresponds to the free gas limit of the scattering nuclide. We can compare with the values from the NCrystal library:"
   ]
  },
  {
   "cell_type": "code",
   "execution_count": null,
   "id": "5dff172c-09a1-4a77-b79b-e2efc77e94c8",
   "metadata": {},
   "outputs": [],
   "source": [
    "nuclide = 'H1'\n",
    "print(f\"The free atom scattering XS for f{nuclide} is {NC.atomDB('H1').freeScatteringXS()} b in the NCrystal AtomDB.\")"
   ]
  },
  {
   "cell_type": "markdown",
   "id": "9038b5fb-f84a-4cf9-a7ec-01efd4c09145",
   "metadata": {},
   "source": [
    "We will now create an NJOY input file with these parameters. We will use the modules `MODER`, `RECONR` and `BROADER` to process the neutron data for H1, and `THERMR` and `ACER` to process the light water thermal scattering evaluation and produce the ACE file. For more details on the syntaxis please read the [NJOY 2016 manual](https://github.com/njoy/NJOY2016-manual/raw/master/njoy16.pdf):"
   ]
  },
  {
   "cell_type": "code",
   "execution_count": null,
   "id": "4fd31e87-1ac2-4596-8170-e55c23e70c74",
   "metadata": {},
   "outputs": [],
   "source": [
    "txt = f\"\"\"\n",
    "moder\n",
    "20 -21 /\n",
    "reconr \n",
    "-21 -22\n",
    "'temp'/\n",
    "{endf_mat} 1/\n",
    "0.001 0. 0 /\n",
    "'temp'/\n",
    "0/\n",
    "broadr\n",
    "-21 -22 -23\n",
    " {endf_mat} 1 / 0  0 /\n",
    ".001/\n",
    "{temperature} /\n",
    "0/\n",
    "thermr\n",
    "24 -23 -25 /\n",
    "{tsl_mat} {endf_mat} 16 1 2 1 0 {natom} {proc_mat}  1 /\n",
    "{temperature} /\n",
    "0.005 10.0 /\n",
    "acer\n",
    "-21 -25 0 30 31\n",
    "2  1  1  .80  0 /\n",
    "'Temp'/\n",
    "{endf_mat} {temperature} {ace_name} /\n",
    "{zaids} /\n",
    "237 100 {proc_mat_elas} {ielas} 1 1.0 2 /\n",
    "stop\n",
    "\"\"\"\n",
    "with open('input', mode='w') as f:\n",
    "    f.write(txt)"
   ]
  },
  {
   "cell_type": "markdown",
   "id": "c7edb526-5742-4472-b809-319cd3f6fb2d",
   "metadata": {},
   "source": [
    "And run NJOY to generate the ACE file:"
   ]
  },
  {
   "cell_type": "code",
   "execution_count": null,
   "id": "2c3d59fa-e384-4a8e-ab4b-c48ce14d6cef",
   "metadata": {},
   "outputs": [],
   "source": [
    "os.system(f'cp {endffile} tape20')\n",
    "os.system(f'cp {cleanfile} tape24')\n",
    "os.system(f'njoy < input')\n",
    "os.system(f'cp tape30 {acefile}')"
   ]
  },
  {
   "cell_type": "markdown",
   "id": "73ce0282-5d60-467d-b7c2-cb49203326d7",
   "metadata": {},
   "source": [
    "This file can now be imported into OpenMC to plot and compare with the other evaluations:"
   ]
  },
  {
   "cell_type": "code",
   "execution_count": null,
   "id": "ba30cb4c-644a-4cbf-ae69-b8191688e2df",
   "metadata": {},
   "outputs": [],
   "source": [
    "data_endf = openmc.data.ThermalScattering.from_ace(acefile)"
   ]
  },
  {
   "cell_type": "code",
   "execution_count": null,
   "id": "91a434be-be98-487c-abdc-c1786c117048",
   "metadata": {},
   "outputs": [],
   "source": [
    "plt.loglog(data_h5.inelastic.xs['294K'].x,data_h5.inelastic.xs['294K'].y, label='ENDF/B-VIII (HDF5)')\n",
    "plt.loglog(data_ace.inelastic.xs['294K'].x,data_ace.inelastic.xs['294K'].y, label='ENDF/B-VI.3 (ACE)')\n",
    "plt.loglog(data_endf.inelastic.xs['294K'].x,data_endf.inelastic.xs['294K'].y, label='JEFF 3.3 (ENDF -> ACE)')\n",
    "plt.legend()\n",
    "plt.xlabel('Energy [eV]')\n",
    "plt.ylabel('XS [b]')"
   ]
  },
  {
   "cell_type": "markdown",
   "id": "2a15ab7a-9e1e-4d1d-9da7-e50be99555a3",
   "metadata": {},
   "source": [
    "The class `openmc.data.ThermalScattering` also contains a `from_njoy()` class method which automates this process, but it only works for materials for which it can safely estimate the input parameters."
   ]
  },
  {
   "cell_type": "code",
   "execution_count": null,
   "id": "1f3d2e44-aa32-4956-bd86-031856bd91a8",
   "metadata": {},
   "outputs": [],
   "source": []
  }
 ],
 "metadata": {
  "kernelspec": {
   "display_name": "Python 3 (ipykernel)",
   "language": "python",
   "name": "python3"
  },
  "language_info": {
   "codemirror_mode": {
    "name": "ipython",
    "version": 3
   },
   "file_extension": ".py",
   "mimetype": "text/x-python",
   "name": "python",
   "nbconvert_exporter": "python",
   "pygments_lexer": "ipython3",
   "version": "3.9.16"
  }
 },
 "nbformat": 4,
 "nbformat_minor": 5
}
