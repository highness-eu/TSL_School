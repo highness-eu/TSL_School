{
 "cells": [
  {
   "cell_type": "markdown",
   "id": "0c862212",
   "metadata": {},
   "source": [
    "## Broomstick Problem - Angular distribution"
   ]
  },
  {
   "cell_type": "markdown",
   "id": "93d6f260",
   "metadata": {},
   "source": [
    "A \"broomstick\" problem is a long narrow cylinder with a pencil beam along its axis. After one collission, neutrons exit the cylinder and we can tally the outgoing energy or angle distribution."
   ]
  },
  {
   "cell_type": "code",
   "execution_count": 1,
   "id": "3ba189ce",
   "metadata": {},
   "outputs": [],
   "source": [
    "import openmc\n",
    "import numpy as np\n",
    "import matplotlib.pyplot as plt\n",
    "openmc.config['cross_sections'] = '/home/student/openmc_ncrystal_vm/endfb-viii.0-hdf5/cross_sections.xml'"
   ]
  },
  {
   "cell_type": "markdown",
   "id": "631181f7",
   "metadata": {},
   "source": [
    "We start defining a function that returns an OpenMC model for a the broomstick, with a monoenergetic pencil beam and an angular segmented current tally on its surface."
   ]
  },
  {
   "cell_type": "code",
   "execution_count": 2,
   "id": "c58c9a73",
   "metadata": {},
   "outputs": [],
   "source": [
    "def create_model(broomstick_mat, E0=0.95, Emin=0, Emax=20e6, NParticles=1000000, broomstick_diameter=0.001, broomstick_length=10000):\n",
    "    p1 = openmc.ZPlane(z0=-broomstick_length/2)\n",
    "    p2 = openmc.ZPlane(z0=+broomstick_length/2)\n",
    "    c1 = openmc.ZCylinder(r=broomstick_diameter)\n",
    "    s1 = openmc.Sphere(r=broomstick_length*1.5, boundary_type='vacuum')\n",
    "    cell1 = openmc.Cell(region=+p1&-p2&-c1, fill=broomstick_mat)\n",
    "    cell2 = openmc.Cell(region=~(+p1&-p2&-c1)&-s1, fill=None)\n",
    "    u1 = openmc.Universe(cells=[cell1, cell2])\n",
    "    geometry = openmc.Geometry(root=u1)\n",
    "    \n",
    "    source = openmc.Source()\n",
    "    source.space  = openmc.stats.Point(xyz=[0,0,0])\n",
    "    source.angle  = openmc.stats.Monodirectional(reference_uvw=[0,0,1])\n",
    "    source.energy = openmc.stats.Discrete([E0], [1.0])\n",
    "    \n",
    "    settings = openmc.Settings()\n",
    "    settings.source = source\n",
    "    settings.run_mode = 'fixed source'\n",
    "    settings.batches = 10\n",
    "    settings.particles = NParticles\n",
    "    settings.temperature = {'method':'nearest', 'tolerance':1000}\n",
    "\n",
    "    tally1 = openmc.Tally()\n",
    "    filter1 = openmc.SurfaceFilter([c1])\n",
    "    filter2 = openmc.EnergyFilter([Emin, Emax])\n",
    "    filter3 = openmc.PolarFilter(np.arccos(np.linspace(1,-1,101)))\n",
    "    tally1.scores = ['current']\n",
    "    tally1.name = 'angdist'\n",
    "    tally1.filters = [filter1, filter2, filter3]\n",
    "    tallies = openmc.Tallies([tally1])\n",
    "    \n",
    "    return openmc.model.Model(geometry=geometry, settings=settings, tallies=tallies)"
   ]
  },
  {
   "cell_type": "markdown",
   "id": "2fefb531",
   "metadata": {},
   "source": [
    "We will define a pair of functions to extract the spectra from the statepoint file:"
   ]
  },
  {
   "cell_type": "code",
   "execution_count": 3,
   "id": "7cf0a27f",
   "metadata": {},
   "outputs": [],
   "source": [
    "def get_angular_tally(spfile='statepoint.10.h5'):\n",
    "    with openmc.StatePoint(spfile) as sp:\n",
    "        tally = sp.get_tally(name='angdist')\n",
    "        df = tally.get_pandas_dataframe()\n",
    "        phi = df['mean'].values\n",
    "        mu = np.cos(df['polar high [rad]'].values)\n",
    "        return mu, phi"
   ]
  },
  {
   "cell_type": "markdown",
   "id": "b7999aa2",
   "metadata": {},
   "source": [
    "We can now apply this to the calculation of the angular distribution in different materials:"
   ]
  },
  {
   "cell_type": "code",
   "execution_count": 4,
   "id": "fb8e6a30",
   "metadata": {},
   "outputs": [],
   "source": [
    "m1 = openmc.Material()\n",
    "m1.add_elements_from_formula('CH2')\n",
    "m1.set_density('g/cm3', 0.92)\n",
    "m1.add_s_alpha_beta('c_H_in_CH2')\n",
    "\n",
    "model = create_model(m1, E0=0.95, Emin=2.73e-1, Emax=3.01e-1)\n",
    "model.export_to_xml()"
   ]
  },
  {
   "cell_type": "code",
   "execution_count": 5,
   "id": "b58bc585",
   "metadata": {},
   "outputs": [
    {
     "name": "stdout",
     "output_type": "stream",
     "text": [
      "                                %%%%%%%%%%%%%%%\n",
      "                           %%%%%%%%%%%%%%%%%%%%%%%%\n",
      "                        %%%%%%%%%%%%%%%%%%%%%%%%%%%%%%\n",
      "                      %%%%%%%%%%%%%%%%%%%%%%%%%%%%%%%%%%\n",
      "                    %%%%%%%%%%%%%%%%%%%%%%%%%%%%%%%%%%%%%%\n",
      "                   %%%%%%%%%%%%%%%%%%%%%%%%%%%%%%%%%%%%%%%%\n",
      "                                    %%%%%%%%%%%%%%%%%%%%%%%%\n",
      "                                     %%%%%%%%%%%%%%%%%%%%%%%%\n",
      "                 ###############      %%%%%%%%%%%%%%%%%%%%%%%%\n",
      "                ##################     %%%%%%%%%%%%%%%%%%%%%%%\n",
      "                ###################     %%%%%%%%%%%%%%%%%%%%%%%\n",
      "                ####################     %%%%%%%%%%%%%%%%%%%%%%\n",
      "                #####################     %%%%%%%%%%%%%%%%%%%%%\n",
      "                ######################     %%%%%%%%%%%%%%%%%%%%\n",
      "                #######################     %%%%%%%%%%%%%%%%%%\n",
      "                 #######################     %%%%%%%%%%%%%%%%%\n",
      "                 ######################     %%%%%%%%%%%%%%%%%\n",
      "                  ####################     %%%%%%%%%%%%%%%%%\n",
      "                    #################     %%%%%%%%%%%%%%%%%\n",
      "                     ###############     %%%%%%%%%%%%%%%%\n",
      "                       ############     %%%%%%%%%%%%%%%\n",
      "                          ########     %%%%%%%%%%%%%%\n",
      "                                      %%%%%%%%%%%\n",
      "\n",
      "                 | The OpenMC Monte Carlo Code\n",
      "       Copyright | 2011-2023 MIT, UChicago Argonne LLC, and contributors\n",
      "         License | https://docs.openmc.org/en/latest/license.html\n",
      "         Version | 0.13.3-dev\n",
      "        Git SHA1 | 3f5b90042c378f4182ef196ac075dd8cd8cec686\n",
      "       Date/Time | 2023-05-04 09:06:00\n",
      "  OpenMP Threads | 8\n",
      "\n",
      " Reading settings XML file...\n",
      " Reading cross sections XML file...\n",
      " Reading materials XML file...\n",
      " Reading geometry XML file...\n",
      " Reading C12 from\n",
      " /home/nacho/mounts/uqbar_home/ess/2023/openmc_ncrystal_conda/endfb-viii.0-hdf5/n\n",
      " eutron/C12.h5\n",
      " Reading C13 from\n",
      " /home/nacho/mounts/uqbar_home/ess/2023/openmc_ncrystal_conda/endfb-viii.0-hdf5/n\n",
      " eutron/C13.h5\n",
      " Reading H1 from\n",
      " /home/nacho/mounts/uqbar_home/ess/2023/openmc_ncrystal_conda/endfb-viii.0-hdf5/n\n",
      " eutron/H1.h5\n",
      " Reading H2 from\n",
      " /home/nacho/mounts/uqbar_home/ess/2023/openmc_ncrystal_conda/endfb-viii.0-hdf5/n\n",
      " eutron/H2.h5\n",
      " Reading c_H_in_CH2 from\n",
      " /home/nacho/mounts/uqbar_home/ess/2023/openmc_ncrystal_conda/endfb-viii.0-hdf5/n\n",
      " eutron/c_H_in_CH2.h5\n",
      " Minimum neutron data temperature: 294 K\n",
      " Maximum neutron data temperature: 294 K\n",
      " Reading tallies XML file...\n",
      " Preparing distributed cell instances...\n",
      " Reading plot XML file...\n",
      " Writing summary.h5 file...\n",
      " Maximum neutron transport energy: 20000000 eV for C13\n",
      "\n",
      " ===============>     FIXED SOURCE TRANSPORT SIMULATION     <===============\n",
      "\n",
      " Simulating batch 1\n",
      " Simulating batch 2\n",
      " Simulating batch 3\n",
      " Simulating batch 4\n",
      " Simulating batch 5\n",
      " Simulating batch 6\n",
      " Simulating batch 7\n",
      " Simulating batch 8\n",
      " Simulating batch 9\n",
      " Simulating batch 10\n",
      " Creating state point statepoint.10.h5...\n",
      "\n",
      " =======================>     TIMING STATISTICS     <=======================\n",
      "\n",
      " Total time for initialization     = 2.3566e-01 seconds\n",
      "   Reading cross sections          = 1.7306e-01 seconds\n",
      " Total time in simulation          = 1.0471e+01 seconds\n",
      "   Time in transport only          = 1.0463e+01 seconds\n",
      "   Time in active batches          = 1.0471e+01 seconds\n",
      "   Time accumulating tallies       = 2.0914e-03 seconds\n",
      "   Time writing statepoints        = 4.0331e-03 seconds\n",
      " Total time for finalization       = 4.1088e-04 seconds\n",
      " Total time elapsed                = 1.0709e+01 seconds\n",
      " Calculation Rate (active)         = 955036 particles/second\n",
      "\n",
      " ============================>     RESULTS     <============================\n",
      "\n",
      " Leakage Fraction            = 0.99778 +/- 0.00002\n",
      "\n"
     ]
    }
   ],
   "source": [
    "!rm summary.h5 statepoint.10.h5\n",
    "openmc.run(output=True)"
   ]
  },
  {
   "cell_type": "code",
   "execution_count": 6,
   "id": "7643911a",
   "metadata": {},
   "outputs": [
    {
     "data": {
      "text/plain": [
       "[<matplotlib.lines.Line2D at 0x7f3c18a05dc0>]"
      ]
     },
     "execution_count": 6,
     "metadata": {},
     "output_type": "execute_result"
    },
    {
     "data": {
      "image/png": "[encoded data removed]",
      "text/plain": [
       "<Figure size 640x480 with 1 Axes>"
      ]
     },
     "metadata": {},
     "output_type": "display_data"
    }
   ],
   "source": [
    "mu1, phi1 = get_angular_tally('statepoint.10.h5')\n",
    "plt.step(mu1,phi1)"
   ]
  },
  {
   "cell_type": "markdown",
   "id": "e00925c4",
   "metadata": {},
   "source": [
    "We can compare the results of the transmission simulation with the macroscopic total cross section for the material:"
   ]
  },
  {
   "cell_type": "code",
   "execution_count": 7,
   "id": "5144a40e",
   "metadata": {},
   "outputs": [
    {
     "name": "stdout",
     "output_type": "stream",
     "text": [
      "                                %%%%%%%%%%%%%%%\n",
      "                           %%%%%%%%%%%%%%%%%%%%%%%%\n",
      "                        %%%%%%%%%%%%%%%%%%%%%%%%%%%%%%\n",
      "                      %%%%%%%%%%%%%%%%%%%%%%%%%%%%%%%%%%\n",
      "                    %%%%%%%%%%%%%%%%%%%%%%%%%%%%%%%%%%%%%%\n",
      "                   %%%%%%%%%%%%%%%%%%%%%%%%%%%%%%%%%%%%%%%%\n",
      "                                    %%%%%%%%%%%%%%%%%%%%%%%%\n",
      "                                     %%%%%%%%%%%%%%%%%%%%%%%%\n",
      "                 ###############      %%%%%%%%%%%%%%%%%%%%%%%%\n",
      "                ##################     %%%%%%%%%%%%%%%%%%%%%%%\n",
      "                ###################     %%%%%%%%%%%%%%%%%%%%%%%\n",
      "                ####################     %%%%%%%%%%%%%%%%%%%%%%\n",
      "                #####################     %%%%%%%%%%%%%%%%%%%%%\n",
      "                ######################     %%%%%%%%%%%%%%%%%%%%\n",
      "                #######################     %%%%%%%%%%%%%%%%%%\n",
      "                 #######################     %%%%%%%%%%%%%%%%%\n",
      "                 ######################     %%%%%%%%%%%%%%%%%\n",
      "                  ####################     %%%%%%%%%%%%%%%%%\n",
      "                    #################     %%%%%%%%%%%%%%%%%\n",
      "                     ###############     %%%%%%%%%%%%%%%%\n",
      "                       ############     %%%%%%%%%%%%%%%\n",
      "                          ########     %%%%%%%%%%%%%%\n",
      "                                      %%%%%%%%%%%\n",
      "\n",
      "                 | The OpenMC Monte Carlo Code\n",
      "       Copyright | 2011-2023 MIT, UChicago Argonne LLC, and contributors\n",
      "         License | https://docs.openmc.org/en/latest/license.html\n",
      "         Version | 0.13.3-dev\n",
      "        Git SHA1 | 3f5b90042c378f4182ef196ac075dd8cd8cec686\n",
      "       Date/Time | 2023-05-04 09:06:12\n",
      "  OpenMP Threads | 8\n",
      "\n",
      " Reading settings XML file...\n",
      " Reading cross sections XML file...\n",
      " Reading materials XML file...\n",
      " NCrystal config string for material #2: 'Polyethylene_CH2.ncmat'\n",
      " Reading geometry XML file...\n",
      " Reading H1 from\n",
      " /home/nacho/mounts/uqbar_home/ess/2023/openmc_ncrystal_conda/endfb-viii.0-hdf5/n\n",
      " eutron/H1.h5\n",
      " Reading H2 from\n",
      " /home/nacho/mounts/uqbar_home/ess/2023/openmc_ncrystal_conda/endfb-viii.0-hdf5/n\n",
      " eutron/H2.h5\n",
      " Reading C12 from\n",
      " /home/nacho/mounts/uqbar_home/ess/2023/openmc_ncrystal_conda/endfb-viii.0-hdf5/n\n",
      " eutron/C12.h5\n",
      " Reading C13 from\n",
      " /home/nacho/mounts/uqbar_home/ess/2023/openmc_ncrystal_conda/endfb-viii.0-hdf5/n\n",
      " eutron/C13.h5\n",
      " Minimum neutron data temperature: 294 K\n",
      " Maximum neutron data temperature: 294 K\n",
      " Reading tallies XML file...\n",
      " Preparing distributed cell instances...\n",
      " Reading plot XML file...\n",
      " Writing summary.h5 file...\n",
      " Maximum neutron transport energy: 20000000 eV for H1\n",
      "\n",
      " ===============>     FIXED SOURCE TRANSPORT SIMULATION     <===============\n",
      "\n",
      " Simulating batch 1\n",
      " Simulating batch 2\n",
      " Simulating batch 3\n",
      " Simulating batch 4\n",
      " Simulating batch 5\n",
      " Simulating batch 6\n",
      " Simulating batch 7\n",
      " Simulating batch 8\n",
      " Simulating batch 9\n",
      " Simulating batch 10\n",
      " Creating state point statepoint.10.h5...\n",
      "\n",
      " =======================>     TIMING STATISTICS     <=======================\n",
      "\n",
      " Total time for initialization     = 1.0553e+00 seconds\n",
      "   Reading cross sections          = 4.0710e-02 seconds\n",
      " Total time in simulation          = 1.2892e+01 seconds\n",
      "   Time in transport only          = 1.2886e+01 seconds\n",
      "   Time in active batches          = 1.2892e+01 seconds\n",
      "   Time accumulating tallies       = 1.3696e-03 seconds\n",
      "   Time writing statepoints        = 2.8512e-03 seconds\n",
      " Total time for finalization       = 2.7799e-04 seconds\n",
      " Total time elapsed                = 1.3949e+01 seconds\n",
      " Calculation Rate (active)         = 775682 particles/second\n",
      "\n",
      " ============================>     RESULTS     <============================\n",
      "\n",
      " Leakage Fraction            = 0.99773 +/- 0.00002\n",
      "\n"
     ]
    }
   ],
   "source": [
    "m1 = openmc.Material.from_ncrystal('Polyethylene_CH2.ncmat')\n",
    "model = create_model(m1, E0=0.95, Emin=2.73e-1, Emax=3.01e-1)\n",
    "model.export_to_xml()\n",
    "\n",
    "!rm summary.h5 statepoint.10.h5\n",
    "openmc.run(output=True)\n",
    "\n",
    "mu2, phi2 = get_angular_tally('statepoint.10.h5')"
   ]
  },
  {
   "cell_type": "code",
   "execution_count": 8,
   "id": "1bdf4e7f",
   "metadata": {},
   "outputs": [
    {
     "data": {
      "text/plain": [
       "[<matplotlib.lines.Line2D at 0x7f3c183292e0>]"
      ]
     },
     "execution_count": 8,
     "metadata": {},
     "output_type": "execute_result"
    },
    {
     "data": {
      "image/png": "[encoded data removed]",
      "text/plain": [
       "<Figure size 640x480 with 1 Axes>"
      ]
     },
     "metadata": {},
     "output_type": "display_data"
    }
   ],
   "source": [
    "plt.step(mu1,phi1)\n",
    "plt.step(mu2,phi2)"
   ]
  },
  {
   "cell_type": "code",
   "execution_count": null,
   "id": "4c1186d4",
   "metadata": {},
   "outputs": [],
   "source": []
  }
 ],
 "metadata": {
  "kernelspec": {
   "display_name": "Python 3 (ipykernel)",
   "language": "python",
   "name": "python3"
  },
  "language_info": {
   "codemirror_mode": {
    "name": "ipython",
    "version": 3
   },
   "file_extension": ".py",
   "mimetype": "text/x-python",
   "name": "python",
   "nbconvert_exporter": "python",
   "pygments_lexer": "ipython3",
   "version": "3.9.16"
  }
 },
 "nbformat": 4,
 "nbformat_minor": 5
}
