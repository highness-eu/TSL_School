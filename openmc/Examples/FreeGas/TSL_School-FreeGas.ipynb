{
 "cells": [
  {
   "cell_type": "code",
   "execution_count": 1,
   "id": "99098fdb-aad7-4232-adf4-6291acafe302",
   "metadata": {},
   "outputs": [],
   "source": [
    "import pathlib, os\n",
    "if 'TSL_SCHOOL_DIR' in os.environ:\n",
    "    assert not any( (p/\".git\").is_dir() for p in (pathlib.Path(\".\").absolute().resolve()/\"dummy\").parents ),\\\n",
    "                     'Please copy notebook to a work directory'"
   ]
  },
  {
   "cell_type": "markdown",
   "id": "fba4b9f8-649a-4acf-800a-59bd26d67144",
   "metadata": {},
   "source": [
    "## How accurately can we calculate thermal systems?"
   ]
  },
  {
   "cell_type": "markdown",
   "id": "ee4823f6-c8a2-4c23-a357-b671baddd6e9",
   "metadata": {},
   "source": [
    "This question was presented almost two decades ago by Red Cullen and led to a very interesting exercise to compare thermal treatment in different radiation transport codes, using as numerical benchmark a simplified reactor fuel pin cell and [published by the IAEA](https://nds.iaea.org/publications/indc/indc-usa-0107.pdf). This study was continued with an analysis of thermalization of point sources in water (published [here](https://doi.org/10.2172/889442)) which resulted in a improvement of the thermal treatment in Monte Carlo codes."
   ]
  },
  {
   "cell_type": "markdown",
   "id": "dff88e5f-723f-43ee-af14-a81d904f76be",
   "metadata": {},
   "source": [
    "For this example we will continue studying this question by making a numerical exercise, similar to the second analysis:\n",
    "\n",
    "- A 30 cm-radius sphere.\n",
    "\n",
    "- Filled with water defined as 2 atoms of H-1 and 1 atom of O16, at room temperature (T = 293.6 K), with density 1 g/cm3.\n",
    "\n",
    "- Use ENDF/B-VIII.0 data (OpenMC nuclear data libraries).\n",
    "\n",
    "- Use TART 616 energy bins (50 bins per decade, from 1e-5 eV to 20 MeV).\n",
    "\n",
    "- Tally both scalar flux within the sphere, and leakage (scalar current) leaking from the surface of the sphere.\n",
    "\n"
   ]
  },
  {
   "cell_type": "markdown",
   "id": "811192cd-b352-441f-8ec2-82b708f0ef3a",
   "metadata": {},
   "source": [
    "We will use this example to make a self-consistency test. If we approximate both H1 and O16 with a free gas model, we can benchmark the results against the simulations using the collision kinematics model included in Monte Carlo. So, we will define the following cases:\n",
    "\n",
    "1) H1 and O16 modelled with the internal collision kinematics model (OpenMC material without $S(\\alpha, \\beta)$).\n",
    "\n",
    "2) H1 and O16 modelled with the free gas model in NCrystal (NCrystal sampling the $S(\\alpha, \\beta)$ for a free gas computed with NCrystal).\n",
    "\n",
    "3) H1 scattering kernel for a free gas computed with NJOY using LEAPR / THERMR / ACER and imported into OpenMC. O16 modelled with the internal collision kinematics model.\n",
    "\n",
    "4) H1 scattering kernel for a free gas computed with LEAPR, and imported into NCrystal using `set_dyninfo_scatknl()` (NCrystal sampling the $S(\\alpha, \\beta)$ for a free gas computed with LEAPR).\n"
   ]
  },
  {
   "cell_type": "code",
   "execution_count": 2,
   "id": "351f7f66-1bd0-4220-a913-462124022168",
   "metadata": {},
   "outputs": [],
   "source": [
    "import openmc\n",
    "import openmc.data\n",
    "import numpy as np\n",
    "import matplotlib.pyplot as plt\n",
    "import NCrystal as NC\n",
    "\n",
    "openmc.config['cross_sections'] = '/home/student/tsl_software/endfb-viii.0-hdf5/cross_sections.xml'"
   ]
  },
  {
   "cell_type": "markdown",
   "id": "da99dfbc-3509-4091-9814-085a2b7fa20c",
   "metadata": {},
   "source": [
    "### Defic"
   ]
  },
  {
   "cell_type": "markdown",
   "id": "537a1a81-b101-428b-b4e9-340e6c495a38",
   "metadata": {},
   "source": [
    "Define the TART 616 energy group structure."
   ]
  },
  {
   "cell_type": "code",
   "execution_count": 3,
   "id": "e9d9d6f4-16df-4150-bbc3-46d414a65a6a",
   "metadata": {},
   "outputs": [],
   "source": [
    "txt = \"\"\"\n",
    "1.000000e-05 1.047130e-05 1.096480e-05 1.148150e-05 1.202260e-05 1.258930e-05 1.318260e-05 1.380380e-05 \n",
    "1.445440e-05 1.513560e-05 1.584890e-05 1.659590e-05 1.737800e-05 1.819700e-05 1.905460e-05 1.995260e-05 \n",
    "2.089300e-05 2.187760e-05 2.290870e-05 2.398830e-05 2.511890e-05 2.630270e-05 2.754230e-05 2.884030e-05 \n",
    "3.019950e-05 3.162280e-05 3.311310e-05 3.467370e-05 3.630780e-05 3.801890e-05 3.981070e-05 4.168690e-05 \n",
    "4.365160e-05 4.570880e-05 4.786300e-05 5.011870e-05 5.248070e-05 5.495410e-05 5.754400e-05 6.025600e-05 \n",
    "6.309570e-05 6.606930e-05 6.918310e-05 7.244360e-05 7.585780e-05 7.943280e-05 8.317640e-05 8.709640e-05 \n",
    "9.120110e-05 9.549930e-05 1.000000e-04 1.047130e-04 1.096480e-04 1.148150e-04 1.202260e-04 1.258930e-04 \n",
    "1.318260e-04 1.380380e-04 1.445440e-04 1.513560e-04 1.584890e-04 1.659590e-04 1.737800e-04 1.819700e-04 \n",
    "1.905460e-04 1.995260e-04 2.089300e-04 2.187760e-04 2.290870e-04 2.398830e-04 2.511890e-04 2.630270e-04 \n",
    "2.754230e-04 2.884030e-04 3.019950e-04 3.162280e-04 3.311310e-04 3.467370e-04 3.630780e-04 3.801890e-04 \n",
    "3.981070e-04 4.168690e-04 4.365160e-04 4.570880e-04 4.786300e-04 5.011870e-04 5.248070e-04 5.495410e-04 \n",
    "5.754400e-04 6.025600e-04 6.309570e-04 6.606930e-04 6.918310e-04 7.244360e-04 7.585780e-04 7.943280e-04 \n",
    "8.317640e-04 8.709640e-04 9.120110e-04 9.549930e-04 1.000000e-03 1.047130e-03 1.096480e-03 1.148150e-03 \n",
    "1.202260e-03 1.258930e-03 1.318260e-03 1.380380e-03 1.445440e-03 1.513560e-03 1.584890e-03 1.659590e-03 \n",
    "1.737800e-03 1.819700e-03 1.905460e-03 1.995260e-03 2.089300e-03 2.187760e-03 2.290870e-03 2.398830e-03 \n",
    "2.511890e-03 2.630270e-03 2.754230e-03 2.884030e-03 3.019950e-03 3.162280e-03 3.311310e-03 3.467370e-03 \n",
    "3.630780e-03 3.801890e-03 3.981070e-03 4.168690e-03 4.365160e-03 4.570880e-03 4.786300e-03 5.011870e-03 \n",
    "5.248070e-03 5.495410e-03 5.754400e-03 6.025600e-03 6.309570e-03 6.606930e-03 6.918310e-03 7.244360e-03 \n",
    "7.585780e-03 7.943280e-03 8.317640e-03 8.709640e-03 9.120110e-03 9.549930e-03 1.000000e-02 1.047130e-02 \n",
    "1.096480e-02 1.148150e-02 1.202260e-02 1.258930e-02 1.318260e-02 1.380380e-02 1.445440e-02 1.513560e-02 \n",
    "1.584890e-02 1.659590e-02 1.737800e-02 1.819700e-02 1.905460e-02 1.995260e-02 2.089300e-02 2.187760e-02 \n",
    "2.290870e-02 2.398830e-02 2.511890e-02 2.630270e-02 2.754230e-02 2.884030e-02 3.019950e-02 3.162280e-02 \n",
    "3.311310e-02 3.467370e-02 3.630780e-02 3.801890e-02 3.981070e-02 4.168690e-02 4.365160e-02 4.570880e-02 \n",
    "4.786300e-02 5.011870e-02 5.248070e-02 5.495410e-02 5.754400e-02 6.025600e-02 6.309570e-02 6.606930e-02 \n",
    "6.918310e-02 7.244360e-02 7.585780e-02 7.943280e-02 8.317640e-02 8.709640e-02 9.120110e-02 9.549930e-02 \n",
    "1.000000e-01 1.047130e-01 1.096480e-01 1.148150e-01 1.202260e-01 1.258930e-01 1.318260e-01 1.380380e-01 \n",
    "1.445440e-01 1.513560e-01 1.584890e-01 1.659590e-01 1.737800e-01 1.819700e-01 1.905460e-01 1.995260e-01 \n",
    "2.089300e-01 2.187760e-01 2.290870e-01 2.398830e-01 2.511890e-01 2.630270e-01 2.754230e-01 2.884030e-01 \n",
    "3.019950e-01 3.162280e-01 3.311310e-01 3.467370e-01 3.630780e-01 3.801890e-01 3.981070e-01 4.168690e-01 \n",
    "4.365160e-01 4.570880e-01 4.786300e-01 5.011870e-01 5.248070e-01 5.495410e-01 5.754400e-01 6.025600e-01 \n",
    "6.309570e-01 6.606930e-01 6.918310e-01 7.244360e-01 7.585780e-01 7.943280e-01 8.317640e-01 8.709640e-01 \n",
    "9.120110e-01 9.549930e-01 1.000000e+00 1.047130e+00 1.096480e+00 1.148150e+00 1.202260e+00 1.258930e+00 \n",
    "1.318260e+00 1.380380e+00 1.445440e+00 1.513560e+00 1.584890e+00 1.659590e+00 1.737800e+00 1.819700e+00 \n",
    "1.905460e+00 1.995260e+00 2.089300e+00 2.187760e+00 2.290870e+00 2.398830e+00 2.511890e+00 2.630270e+00 \n",
    "2.754230e+00 2.884030e+00 3.019950e+00 3.162280e+00 3.311310e+00 3.467370e+00 3.630780e+00 3.801890e+00 \n",
    "3.981070e+00 4.168690e+00 4.365160e+00 4.570880e+00 4.786300e+00 5.011870e+00 5.248070e+00 5.495410e+00 \n",
    "5.754400e+00 6.025600e+00 6.309570e+00 6.606930e+00 6.918310e+00 7.244360e+00 7.585780e+00 7.943280e+00 \n",
    "8.317640e+00 8.709640e+00 9.120110e+00 9.549930e+00 1.000000e+01 1.047130e+01 1.096480e+01 1.148150e+01 \n",
    "1.202260e+01 1.258930e+01 1.318260e+01 1.380380e+01 1.445440e+01 1.513560e+01 1.584890e+01 1.659590e+01 \n",
    "1.737800e+01 1.819700e+01 1.905460e+01 1.995260e+01 2.089300e+01 2.187760e+01 2.290870e+01 2.398830e+01 \n",
    "2.511890e+01 2.630270e+01 2.754230e+01 2.884030e+01 3.019950e+01 3.162280e+01 3.311310e+01 3.467370e+01 \n",
    "3.630780e+01 3.801890e+01 3.981070e+01 4.168690e+01 4.365160e+01 4.570880e+01 4.786300e+01 5.011870e+01 \n",
    "5.248070e+01 5.495410e+01 5.754400e+01 6.025600e+01 6.309570e+01 6.606930e+01 6.918310e+01 7.244360e+01 \n",
    "7.585780e+01 7.943280e+01 8.317640e+01 8.709640e+01 9.120110e+01 9.549930e+01 1.000000e+02 1.047130e+02 \n",
    "1.096480e+02 1.148150e+02 1.202260e+02 1.258930e+02 1.318260e+02 1.380380e+02 1.445440e+02 1.513560e+02 \n",
    "1.584890e+02 1.659590e+02 1.737800e+02 1.819700e+02 1.905460e+02 1.995260e+02 2.089300e+02 2.187760e+02 \n",
    "2.290870e+02 2.398830e+02 2.511890e+02 2.630270e+02 2.754230e+02 2.884030e+02 3.019950e+02 3.162280e+02 \n",
    "3.311310e+02 3.467370e+02 3.630780e+02 3.801890e+02 3.981070e+02 4.168690e+02 4.365160e+02 4.570880e+02 \n",
    "4.786300e+02 5.011870e+02 5.248070e+02 5.495410e+02 5.754400e+02 6.025600e+02 6.309570e+02 6.606930e+02 \n",
    "6.918310e+02 7.244360e+02 7.585780e+02 7.943280e+02 8.317640e+02 8.709640e+02 9.120110e+02 9.549930e+02 \n",
    "1.000000e+03 1.047130e+03 1.096480e+03 1.148150e+03 1.202260e+03 1.258930e+03 1.318260e+03 1.380380e+03 \n",
    "1.445440e+03 1.513560e+03 1.584890e+03 1.659590e+03 1.737800e+03 1.819700e+03 1.905460e+03 1.995260e+03 \n",
    "2.089300e+03 2.187760e+03 2.290870e+03 2.398830e+03 2.511890e+03 2.630270e+03 2.754230e+03 2.884030e+03 \n",
    "3.019950e+03 3.162280e+03 3.311310e+03 3.467370e+03 3.630780e+03 3.801890e+03 3.981070e+03 4.168690e+03 \n",
    "4.365160e+03 4.570880e+03 4.786300e+03 5.011870e+03 5.248070e+03 5.495410e+03 5.754400e+03 6.025600e+03 \n",
    "6.309570e+03 6.606930e+03 6.918310e+03 7.244360e+03 7.585780e+03 7.943280e+03 8.317640e+03 8.709640e+03 \n",
    "9.120110e+03 9.549930e+03 1.000000e+04 1.047130e+04 1.096480e+04 1.148150e+04 1.202260e+04 1.258930e+04 \n",
    "1.318260e+04 1.380380e+04 1.445440e+04 1.513560e+04 1.584890e+04 1.659590e+04 1.737800e+04 1.819700e+04 \n",
    "1.905460e+04 1.995260e+04 2.089300e+04 2.187760e+04 2.290870e+04 2.398830e+04 2.511890e+04 2.630270e+04 \n",
    "2.754230e+04 2.884030e+04 3.019950e+04 3.162280e+04 3.311310e+04 3.467370e+04 3.630780e+04 3.801890e+04 \n",
    "3.981070e+04 4.168690e+04 4.365160e+04 4.570880e+04 4.786300e+04 5.011870e+04 5.248070e+04 5.495410e+04 \n",
    "5.754400e+04 6.025600e+04 6.309570e+04 6.606930e+04 6.918310e+04 7.244360e+04 7.585780e+04 7.943280e+04 \n",
    "8.317640e+04 8.709640e+04 9.120110e+04 9.549930e+04 1.000000e+05 1.047130e+05 1.096480e+05 1.148150e+05 \n",
    "1.202260e+05 1.258930e+05 1.318260e+05 1.380380e+05 1.445440e+05 1.513560e+05 1.584890e+05 1.659590e+05 \n",
    "1.737800e+05 1.819700e+05 1.905460e+05 1.995260e+05 2.089300e+05 2.187760e+05 2.290870e+05 2.398830e+05 \n",
    "2.511890e+05 2.630270e+05 2.754230e+05 2.884030e+05 3.019950e+05 3.162280e+05 3.311310e+05 3.467370e+05 \n",
    "3.630780e+05 3.801890e+05 3.981070e+05 4.168690e+05 4.365160e+05 4.570880e+05 4.786300e+05 5.011870e+05 \n",
    "5.248070e+05 5.495410e+05 5.754400e+05 6.025600e+05 6.309570e+05 6.606930e+05 6.918310e+05 7.244360e+05 \n",
    "7.585780e+05 7.943280e+05 8.317640e+05 8.709640e+05 9.120110e+05 9.549930e+05 1.000000e+06 1.047130e+06 \n",
    "1.096480e+06 1.148150e+06 1.202260e+06 1.258930e+06 1.318260e+06 1.380380e+06 1.445440e+06 1.513560e+06 \n",
    "1.584890e+06 1.659590e+06 1.737800e+06 1.819700e+06 1.905460e+06 1.995260e+06 2.089300e+06 2.187760e+06 \n",
    "2.290870e+06 2.398830e+06 2.511890e+06 2.630270e+06 2.754230e+06 2.884030e+06 3.019950e+06 3.162280e+06 \n",
    "3.311310e+06 3.467370e+06 3.630780e+06 3.801890e+06 3.981070e+06 4.168690e+06 4.365160e+06 4.570880e+06 \n",
    "4.786300e+06 5.011870e+06 5.248070e+06 5.495410e+06 5.754400e+06 6.025600e+06 6.309570e+06 6.606930e+06 \n",
    "6.918310e+06 7.244360e+06 7.585780e+06 7.943280e+06 8.317640e+06 8.709640e+06 9.120110e+06 9.549930e+06 \n",
    "1.000000e+07 1.047130e+07 1.096480e+07 1.148150e+07 1.202260e+07 1.258930e+07 1.318260e+07 1.380380e+07 \n",
    "1.445440e+07 1.513560e+07 1.584890e+07 1.659590e+07 1.737800e+07 1.819700e+07 1.905460e+07 1.995260e+07 \n",
    "2.000000e+07 \n",
    "\"\"\"\n",
    "tart_groups = np.fromstring(txt, sep=' ')"
   ]
  },
  {
   "cell_type": "markdown",
   "id": "c7de07ea-0bc1-414d-bcfc-94ce9f3eecd9",
   "metadata": {},
   "source": [
    "Define a function to create a model: 30 cm sphere with an isotropic, 14.1 MeV source, and functions to extract the tallies:"
   ]
  },
  {
   "cell_type": "code",
   "execution_count": 4,
   "id": "6ec2d926-71aa-426f-83a6-8d58a65ce524",
   "metadata": {},
   "outputs": [],
   "source": [
    "def create_model(mod_mat, NParticles=100000, E0=14.1e+6):\n",
    "    s1 = openmc.Sphere(r=30)\n",
    "    s99 = openmc.Sphere(r=100, boundary_type='vacuum')\n",
    "    c1 = openmc.Cell(region=-s1, fill=mod_mat)\n",
    "    c99 = openmc.Cell(region=+s1&-s99, fill=None)\n",
    "    u1 = openmc.Universe(cells=[c1, c99])\n",
    "    geometry = openmc.Geometry(root=u1)\n",
    "    \n",
    "    source = openmc.Source()\n",
    "    source.energy = openmc.stats.Discrete([E0], [1.0])\n",
    "    \n",
    "    settings = openmc.Settings()\n",
    "    settings.source = source\n",
    "    settings.run_mode = 'fixed source'\n",
    "    settings.batches = 10\n",
    "    settings.particles = NParticles\n",
    "    settings.temperature = {'method':'nearest', 'tolerance':1000}\n",
    "\n",
    "    tally1 = openmc.Tally()\n",
    "    filter11 = openmc.CellFilter([c1])\n",
    "    filter12 = openmc.EnergyFilter(tart_groups)\n",
    "    tally1.scores = ['flux']\n",
    "    tally1.name = 'spectrum'\n",
    "    tally1.filters = [filter11, filter12]\n",
    "    \n",
    "    tally2 = openmc.Tally()\n",
    "    filter21 = openmc.SurfaceFilter([s1])\n",
    "    filter22 = openmc.CellFromFilter([c1])\n",
    "    filter23 = openmc.CellFilter([c99])\n",
    "    tally2.scores = ['current']\n",
    "    tally2.name = 'leakage spectrum'\n",
    "    tally2.filters = [filter21, filter22, filter23, filter12]\n",
    "\n",
    "    tallies = openmc.Tallies([tally1, tally2])\n",
    "    \n",
    "    return openmc.model.Model(geometry=geometry, settings=settings, tallies=tallies)\n",
    "\n",
    "def get_tally(spfile='statepoint.10.h5'):\n",
    "    sp = openmc.StatePoint(spfile)\n",
    "    tally = sp.get_tally(name='spectrum')\n",
    "    df = tally.get_pandas_dataframe()\n",
    "    phi_g = df['mean'].values\n",
    "    E_g = df['energy high [eV]'].values\n",
    "    return E_g, phi_g\n",
    "\n",
    "def get_surface_tally(spfile='statepoint.10.h5'):\n",
    "    sp = openmc.StatePoint(spfile)\n",
    "    tally = sp.get_tally(name='leakage spectrum')\n",
    "    df = tally.get_pandas_dataframe()\n",
    "    phi_g = df['mean'].values\n",
    "    E_g = df['energy high [eV]'].values\n",
    "    return E_g, phi_g"
   ]
  },
  {
   "cell_type": "markdown",
   "id": "7c2c26e3-299a-47c3-81c4-c7dc6996e778",
   "metadata": {},
   "source": [
    "### Case 1: OpenMC material without $S(\\alpha, \\beta)$ table:"
   ]
  },
  {
   "cell_type": "code",
   "execution_count": 5,
   "id": "abcf6d05-1efd-40be-b5c6-47eb61310939",
   "metadata": {},
   "outputs": [],
   "source": [
    "mat_openmc = openmc.Material()\n",
    "mat_openmc.add_nuclide('H1', 2.0, 'ao')\n",
    "mat_openmc.add_nuclide('O16', 1.0, 'ao')\n",
    "mat_openmc.set_density('g/cm3', 1.0)\n",
    "mat_openmc.temperature = 293.6 # K\n",
    "\n",
    "model = create_model(mat_openmc)\n",
    "model.export_to_xml()"
   ]
  },
  {
   "cell_type": "code",
   "execution_count": 6,
   "id": "a371fe42-f2f5-451c-b0e0-daf6e5d73d0f",
   "metadata": {},
   "outputs": [
    {
     "name": "stdout",
     "output_type": "stream",
     "text": [
      "                                %%%%%%%%%%%%%%%\n",
      "                           %%%%%%%%%%%%%%%%%%%%%%%%\n",
      "                        %%%%%%%%%%%%%%%%%%%%%%%%%%%%%%\n",
      "                      %%%%%%%%%%%%%%%%%%%%%%%%%%%%%%%%%%\n",
      "                    %%%%%%%%%%%%%%%%%%%%%%%%%%%%%%%%%%%%%%\n",
      "                   %%%%%%%%%%%%%%%%%%%%%%%%%%%%%%%%%%%%%%%%\n",
      "                                    %%%%%%%%%%%%%%%%%%%%%%%%\n",
      "                                     %%%%%%%%%%%%%%%%%%%%%%%%\n",
      "                 ###############      %%%%%%%%%%%%%%%%%%%%%%%%\n",
      "                ##################     %%%%%%%%%%%%%%%%%%%%%%%\n",
      "                ###################     %%%%%%%%%%%%%%%%%%%%%%%\n",
      "                ####################     %%%%%%%%%%%%%%%%%%%%%%\n",
      "                #####################     %%%%%%%%%%%%%%%%%%%%%\n",
      "                ######################     %%%%%%%%%%%%%%%%%%%%\n",
      "                #######################     %%%%%%%%%%%%%%%%%%\n",
      "                 #######################     %%%%%%%%%%%%%%%%%\n",
      "                 ######################     %%%%%%%%%%%%%%%%%\n",
      "                  ####################     %%%%%%%%%%%%%%%%%\n",
      "                    #################     %%%%%%%%%%%%%%%%%\n",
      "                     ###############     %%%%%%%%%%%%%%%%\n",
      "                       ############     %%%%%%%%%%%%%%%\n",
      "                          ########     %%%%%%%%%%%%%%\n",
      "                                      %%%%%%%%%%%\n",
      "\n",
      "                 | The OpenMC Monte Carlo Code\n",
      "       Copyright | 2011-2023 MIT, UChicago Argonne LLC, and contributors\n",
      "         License | https://docs.openmc.org/en/latest/license.html\n",
      "         Version | 0.13.4-dev\n",
      "        Git SHA1 | 65618384c926d5c047460dac2c83db4a2de17915\n",
      "       Date/Time | 2023-05-21 22:30:39\n",
      "  OpenMP Threads | 4\n",
      "\n",
      " Reading settings XML file...\n",
      " Reading cross sections XML file...\n",
      " Reading materials XML file...\n",
      " Reading geometry XML file...\n",
      " Reading H1 from\n",
      " /home/student/work/old.work/nuclear_data/../../../tsl_software/endfb-viii.0-hdf5\n",
      " /neutron/H1.h5\n",
      " Reading O16 from\n",
      " /home/student/work/old.work/nuclear_data/../../../tsl_software/endfb-viii.0-hdf5\n",
      " /neutron/O16.h5\n",
      " Minimum neutron data temperature: 294 K\n",
      " Maximum neutron data temperature: 294 K\n",
      " Reading tallies XML file...\n",
      " Preparing distributed cell instances...\n",
      " Reading plot XML file...\n",
      " Writing summary.h5 file...\n",
      " Maximum neutron transport energy: 20000000 eV for H1\n",
      "\n",
      " ===============>     FIXED SOURCE TRANSPORT SIMULATION     <===============\n",
      "\n",
      " Simulating batch 1\n",
      " Simulating batch 2\n",
      " Simulating batch 3\n",
      " Simulating batch 4\n",
      " Simulating batch 5\n",
      " Simulating batch 6\n",
      " Simulating batch 7\n",
      " Simulating batch 8\n",
      " Simulating batch 9\n",
      " Simulating batch 10\n",
      " Creating state point statepoint.10.h5...\n",
      "\n",
      " =======================>     TIMING STATISTICS     <=======================\n",
      "\n",
      " Total time for initialization     = 9.0797e-02 seconds\n",
      "   Reading cross sections          = 7.7935e-02 seconds\n",
      " Total time in simulation          = 1.5888e+01 seconds\n",
      "   Time in transport only          = 1.5878e+01 seconds\n",
      "   Time in active batches          = 1.5888e+01 seconds\n",
      "   Time accumulating tallies       = 6.9614e-03 seconds\n",
      "   Time writing statepoints        = 2.2922e-03 seconds\n",
      " Total time for finalization       = 1.4670e-03 seconds\n",
      " Total time elapsed                = 1.5980e+01 seconds\n",
      " Calculation Rate (active)         = 62941.9 particles/second\n",
      "\n",
      " ============================>     RESULTS     <============================\n",
      "\n",
      " Leakage Fraction            = 0.39784 +/- 0.00048\n",
      "\n"
     ]
    }
   ],
   "source": [
    "!rm summary.h5 statepoint.10.h5\n",
    "openmc.run()\n",
    "E1, phi1 = get_tally()"
   ]
  },
  {
   "cell_type": "code",
   "execution_count": 7,
   "id": "9a3a95c9-69f4-41a7-9aea-b6ca8ceafb25",
   "metadata": {},
   "outputs": [],
   "source": [
    "Es1, phis1 = get_surface_tally()"
   ]
  },
  {
   "cell_type": "markdown",
   "id": "e6b603cb-69ab-4084-b32c-792ce701e58c",
   "metadata": {},
   "source": [
    "### Case 2: NCrystal material. "
   ]
  },
  {
   "cell_type": "markdown",
   "id": "73e7e59b-da4f-455f-8706-e11da5f383f7",
   "metadata": {},
   "source": [
    "We save it as an NCMAT file to later replace the dynamical information."
   ]
  },
  {
   "cell_type": "code",
   "execution_count": 8,
   "id": "fed9789f-8cff-41c1-a655-83829d967b51",
   "metadata": {},
   "outputs": [],
   "source": [
    "c=NC.NCMATComposer('freegas::H2O/1.0gcm3/H_is_H1/O_is_O16;temp=293.6K')\n",
    "c.write('free_h2o.ncmat')\n",
    "mat_ncrystal = openmc.Material.from_ncrystal('free_h2o.ncmat')\n",
    "model = create_model(mat_ncrystal)\n",
    "model.export_to_xml()"
   ]
  },
  {
   "cell_type": "code",
   "execution_count": 9,
   "id": "249b06d4-4086-4556-b239-20f5be069fe0",
   "metadata": {},
   "outputs": [
    {
     "name": "stdout",
     "output_type": "stream",
     "text": [
      "                                %%%%%%%%%%%%%%%\n",
      "                           %%%%%%%%%%%%%%%%%%%%%%%%\n",
      "                        %%%%%%%%%%%%%%%%%%%%%%%%%%%%%%\n",
      "                      %%%%%%%%%%%%%%%%%%%%%%%%%%%%%%%%%%\n",
      "                    %%%%%%%%%%%%%%%%%%%%%%%%%%%%%%%%%%%%%%\n",
      "                   %%%%%%%%%%%%%%%%%%%%%%%%%%%%%%%%%%%%%%%%\n",
      "                                    %%%%%%%%%%%%%%%%%%%%%%%%\n",
      "                                     %%%%%%%%%%%%%%%%%%%%%%%%\n",
      "                 ###############      %%%%%%%%%%%%%%%%%%%%%%%%\n",
      "                ##################     %%%%%%%%%%%%%%%%%%%%%%%\n",
      "                ###################     %%%%%%%%%%%%%%%%%%%%%%%\n",
      "                ####################     %%%%%%%%%%%%%%%%%%%%%%\n",
      "                #####################     %%%%%%%%%%%%%%%%%%%%%\n",
      "                ######################     %%%%%%%%%%%%%%%%%%%%\n",
      "                #######################     %%%%%%%%%%%%%%%%%%\n",
      "                 #######################     %%%%%%%%%%%%%%%%%\n",
      "                 ######################     %%%%%%%%%%%%%%%%%\n",
      "                  ####################     %%%%%%%%%%%%%%%%%\n",
      "                    #################     %%%%%%%%%%%%%%%%%\n",
      "                     ###############     %%%%%%%%%%%%%%%%\n",
      "                       ############     %%%%%%%%%%%%%%%\n",
      "                          ########     %%%%%%%%%%%%%%\n",
      "                                      %%%%%%%%%%%\n",
      "\n",
      "                 | The OpenMC Monte Carlo Code\n",
      "       Copyright | 2011-2023 MIT, UChicago Argonne LLC, and contributors\n",
      "         License | https://docs.openmc.org/en/latest/license.html\n",
      "         Version | 0.13.4-dev\n",
      "        Git SHA1 | 65618384c926d5c047460dac2c83db4a2de17915\n",
      "       Date/Time | 2023-05-21 22:30:57\n",
      "  OpenMP Threads | 4\n",
      "\n",
      " Reading settings XML file...\n",
      " Reading cross sections XML file...\n",
      " Reading materials XML file...\n",
      " NCrystal config string for material #2: 'free_h2o.ncmat'\n",
      " Reading geometry XML file...\n",
      " Reading H1 from\n",
      " /home/student/work/old.work/nuclear_data/../../../tsl_software/endfb-viii.0-hdf5\n",
      " /neutron/H1.h5\n",
      " Reading O16 from\n",
      " /home/student/work/old.work/nuclear_data/../../../tsl_software/endfb-viii.0-hdf5\n",
      " /neutron/O16.h5\n",
      " Minimum neutron data temperature: 294 K\n",
      " Maximum neutron data temperature: 294 K\n",
      " Reading tallies XML file...\n",
      " Preparing distributed cell instances...\n",
      " Reading plot XML file...\n",
      " Writing summary.h5 file...\n",
      " Maximum neutron transport energy: 20000000 eV for H1\n",
      "\n",
      " ===============>     FIXED SOURCE TRANSPORT SIMULATION     <===============\n",
      "\n",
      " Simulating batch 1\n",
      " Simulating batch 2\n",
      " Simulating batch 3\n",
      " Simulating batch 4\n",
      " Simulating batch 5\n",
      " Simulating batch 6\n",
      " Simulating batch 7\n",
      " Simulating batch 8\n",
      " Simulating batch 9\n",
      " Simulating batch 10\n",
      " Creating state point statepoint.10.h5...\n",
      "\n",
      " =======================>     TIMING STATISTICS     <=======================\n",
      "\n",
      " Total time for initialization     = 7.8794e-02 seconds\n",
      "   Reading cross sections          = 6.4508e-02 seconds\n",
      " Total time in simulation          = 3.0475e+01 seconds\n",
      "   Time in transport only          = 3.0466e+01 seconds\n",
      "   Time in active batches          = 3.0475e+01 seconds\n",
      "   Time accumulating tallies       = 6.5951e-03 seconds\n",
      "   Time writing statepoints        = 2.1822e-03 seconds\n",
      " Total time for finalization       = 1.4200e-03 seconds\n",
      " Total time elapsed                = 3.0556e+01 seconds\n",
      " Calculation Rate (active)         = 32813.5 particles/second\n",
      "\n",
      " ============================>     RESULTS     <============================\n",
      "\n",
      " Leakage Fraction            = 0.39755 +/- 0.00056\n",
      "\n"
     ]
    }
   ],
   "source": [
    "!rm summary.h5 statepoint.10.h5\n",
    "openmc.run()\n",
    "E2, phi2 = get_tally()"
   ]
  },
  {
   "cell_type": "markdown",
   "id": "daec802d-f6b1-474b-8623-1f202efebe99",
   "metadata": {},
   "source": [
    "### Case 3: scattering kernel for a free gas model, computed with NJOY and imported into OpenMC."
   ]
  },
  {
   "cell_type": "markdown",
   "id": "82fa17bc-cdc3-4f76-88fe-b979f34b90f5",
   "metadata": {},
   "source": [
    "We start by downloading the ENDF file for H-1 from the [IAEA Nuclear Data Section archive](https://www-nds.iaea.org/public/download-endf):"
   ]
  },
  {
   "cell_type": "code",
   "execution_count": 10,
   "id": "90379d1f-160d-496e-b69e-f9310187bc3f",
   "metadata": {},
   "outputs": [
    {
     "name": "stdout",
     "output_type": "stream",
     "text": [
      "Archive:  file.zip\n",
      "  inflating: n_0125_1-H-1.dat        \n"
     ]
    }
   ],
   "source": [
    "url = 'https://www-nds.iaea.org/public/download-endf/JEFF-3.3/n/n_0125_1-H-1.zip'\n",
    "user_agent = '--user-agent=\"Mozilla/5.0 (X11; Fedora; Linux x86_64; rv:52.0) Gecko/20100101 Firefox/52.0\"'\n",
    "zipfile = 'file.zip'\n",
    "endffile = url.split('/')[-1].replace('zip', 'dat')\n",
    "acefile = url.split('/')[-1].replace('zip', 'ace')\n",
    "\n",
    "a = os.system(f'wget --quiet -O {zipfile} {user_agent} \"{url}\"')\n",
    "a = os.system(f'unzip -o {zipfile}')"
   ]
  },
  {
   "cell_type": "markdown",
   "id": "6adefe7b-48a0-4aca-9576-4c3ed2c3fcb3",
   "metadata": {},
   "source": [
    "Define NJOY input:"
   ]
  },
  {
   "cell_type": "code",
   "execution_count": 11,
   "id": "0a73654d-0c65-4628-b0be-5128c159092b",
   "metadata": {},
   "outputs": [],
   "source": [
    "txt = f\"\"\"\n",
    " moder\n",
    " 30 -31\n",
    " reconr\n",
    " -31 -32\n",
    " 'pendf tape for h-1 from jeff-3.3'/\n",
    " 125 3/\n",
    " .001/\n",
    " '1-h-1 from jeff-3.3'/\n",
    " ''/\n",
    " ''/\n",
    " 0/\n",
    " broadr\n",
    " -31 -32 -33\n",
    " 125 1/\n",
    " .001/\n",
    " 293.6\n",
    " 0/\n",
    "leapr\n",
    "34  /NOUT\n",
    "H as free gas / TITLE\n",
    "1 2 200  / NTEMPR IPRINT IPHON\n",
    "1 1001 0 0 1.00e-300 -600.00 / MAT ZA ISABT ILOG\n",
    "0.9991673 20.43608 1 0 0 0  / AWR SPR NPR IEL NCOLD NSK\n",
    "0 / NSS B7 AWS SPS MSS\n",
    "182 259 0 / NALPHA NBETA LAT\n",
    "4.9958e-04 9.9915e-04 4.9958e-03 9.9915e-03 2.4979e-02 \n",
    "4.9958e-02 7.4936e-02 9.9915e-02 1.2489e-01 1.4987e-01 \n",
    "1.9983e-01 2.4979e-01 2.9974e-01 3.2472e-01 3.4970e-01 \n",
    "3.7468e-01 3.9966e-01 4.2464e-01 4.4962e-01 4.7460e-01 \n",
    "4.9957e-01 5.2455e-01 5.4953e-01 5.7951e-01 6.0948e-01 \n",
    "6.4945e-01 6.8941e-01 7.2938e-01 7.7934e-01 8.2930e-01 \n",
    "8.7925e-01 9.3920e-01 9.9915e-01 1.0791e+00 1.1590e+00 \n",
    "1.2389e+00 1.3289e+00 1.4288e+00 1.5387e+00 1.6586e+00 \n",
    "1.7885e+00 1.9384e+00 2.0882e+00 2.2581e+00 2.4779e+00 \n",
    "2.7104e+00 2.8876e+00 3.1074e+00 3.3771e+00 3.6669e+00 \n",
    "3.9766e+00 4.3163e+00 4.6460e+00 4.9958e+00 5.4209e+00 \n",
    "5.9949e+00 6.5544e+00 7.1239e+00 7.5935e+00 8.0957e+00 \n",
    "8.7925e+00 9.4919e+00 1.0191e+01 1.0806e+01 1.1690e+01 \n",
    "1.2589e+01 1.3517e+01 1.4388e+01 1.5287e+01 1.6191e+01 \n",
    "1.7218e+01 1.8184e+01 1.8904e+01 2.0283e+01 2.1612e+01 \n",
    "2.2881e+01 2.4287e+01 2.5578e+01 2.6997e+01 2.8376e+01 \n",
    "2.9705e+01 3.0974e+01 3.2383e+01 3.3412e+01 3.4437e+01 \n",
    "3.6119e+01 3.7148e+01 3.8767e+01 4.0479e+01 4.1505e+01 \n",
    "4.2534e+01 4.4163e+01 4.5961e+01 4.6960e+01 4.8574e+01 \n",
    "4.9558e+01 5.1157e+01 5.2455e+01 5.4364e+01 5.5153e+01 \n",
    "5.6672e+01 5.8350e+01 5.9749e+01 6.1148e+01 6.2457e+01 \n",
    "6.3746e+01 6.5175e+01 6.6444e+01 6.7842e+01 6.8871e+01 \n",
    "7.0550e+01 7.1579e+01 7.2858e+01 7.5836e+01 7.9932e+01 \n",
    "8.3929e+01 8.8924e+01 9.3920e+01 9.9915e+01 1.0491e+02 \n",
    "1.1290e+02 1.2053e+02 1.2589e+02 1.3189e+02 1.3988e+02 \n",
    "1.4688e+02 1.5387e+02 1.6186e+02 1.6986e+02 1.7685e+02 \n",
    "1.8384e+02 1.9084e+02 1.9883e+02 2.0782e+02 2.1781e+02 \n",
    "2.2681e+02 2.3680e+02 2.4579e+02 2.5478e+02 2.6477e+02 \n",
    "2.7549e+02 2.8376e+02 2.9333e+02 3.0174e+02 3.1074e+02 \n",
    "3.1973e+02 3.2872e+02 3.3771e+02 3.4670e+02 3.5570e+02 \n",
    "3.6469e+02 3.7368e+02 3.8268e+02 3.9167e+02 4.0066e+02 \n",
    "4.0965e+02 4.1864e+02 4.2764e+02 4.3663e+02 4.4562e+02 \n",
    "4.5461e+02 4.6361e+02 4.7260e+02 4.8159e+02 4.9058e+02 \n",
    "4.9957e+02 5.0857e+02 5.1756e+02 5.2655e+02 5.3554e+02 \n",
    "5.4454e+02 5.5353e+02 5.6252e+02 5.7151e+02 5.8051e+02 \n",
    "5.8950e+02 5.9649e+02 6.0349e+02 6.1048e+02 6.1748e+02 \n",
    "6.2447e+02 6.3236e+02   /   end of alpha grid\n",
    "0.0000e+00 4.9999e-03 9.9998e-03 2.5000e-02 4.9999e-02 \n",
    "7.4999e-02 9.9998e-02 1.5000e-01 2.0000e-01 2.4999e-01 \n",
    "2.9999e-01 3.4999e-01 3.9999e-01 4.4999e-01 4.9999e-01 \n",
    "5.4999e-01 5.9999e-01 6.4999e-01 6.9999e-01 7.4999e-01 \n",
    "7.9998e-01 8.4998e-01 8.9998e-01 9.4998e-01 9.9998e-01 \n",
    "1.0500e+00 1.1000e+00 1.1500e+00 1.2000e+00 1.2500e+00 \n",
    "1.3000e+00 1.3500e+00 1.4000e+00 1.4500e+00 1.5000e+00 \n",
    "1.5500e+00 1.6000e+00 1.6500e+00 1.7000e+00 1.7500e+00 \n",
    "1.8000e+00 1.8500e+00 1.9000e+00 1.9500e+00 2.0000e+00 \n",
    "2.0500e+00 2.1000e+00 2.1500e+00 2.2000e+00 2.2500e+00 \n",
    "2.3000e+00 2.3500e+00 2.4000e+00 2.4499e+00 2.5000e+00 \n",
    "2.5499e+00 2.6000e+00 2.6500e+00 2.7127e+00 2.7700e+00 \n",
    "2.8300e+00 2.8999e+00 2.9599e+00 3.0299e+00 3.1099e+00 \n",
    "3.1799e+00 3.2599e+00 3.3399e+00 3.4299e+00 3.5199e+00 \n",
    "3.6099e+00 3.7099e+00 3.8099e+00 3.9199e+00 4.0299e+00 \n",
    "4.1399e+00 4.2599e+00 4.3899e+00 4.5199e+00 4.6499e+00 \n",
    "4.7999e+00 4.9399e+00 5.0999e+00 5.2599e+00 5.4254e+00 \n",
    "5.5999e+00 5.7799e+00 5.9699e+00 6.1699e+00 6.3699e+00 \n",
    "6.5899e+00 6.8099e+00 7.0399e+00 7.2899e+00 7.5399e+00 \n",
    "7.8098e+00 8.1029e+00 8.3698e+00 8.6698e+00 8.9798e+00 \n",
    "9.2998e+00 9.6398e+00 9.9998e+00 1.0400e+01 1.0815e+01 \n",
    "1.1160e+01 1.1570e+01 1.2000e+01 1.2460e+01 1.2980e+01 \n",
    "1.3528e+01 1.3940e+01 1.4480e+01 1.5030e+01 1.5620e+01 \n",
    "1.6205e+01 1.6800e+01 1.7233e+01 1.8200e+01 1.8920e+01 \n",
    "1.9400e+01 1.9950e+01 2.0700e+01 2.1630e+01 2.2100e+01 \n",
    "2.2660e+01 2.3500e+01 2.4308e+01 2.4799e+01 2.5340e+01 \n",
    "2.6200e+01 2.7020e+01 2.7500e+01 2.8049e+01 2.8899e+01 \n",
    "2.9729e+01 3.0199e+01 3.0759e+01 3.1499e+01 3.2409e+01 \n",
    "3.2899e+01 3.3439e+01 3.3999e+01 3.4465e+01 3.5299e+01 \n",
    "3.6149e+01 3.6599e+01 3.7179e+01 3.7899e+01 3.8799e+01 \n",
    "3.9889e+01 4.0199e+01 4.0512e+01 4.0999e+01 4.1539e+01 \n",
    "4.1999e+01 4.2569e+01 4.3199e+01 4.4199e+01 4.5279e+01 \n",
    "4.5999e+01 4.6999e+01 4.7989e+01 4.8299e+01 4.8614e+01 \n",
    "4.9599e+01 5.0669e+01 5.1199e+01 5.1699e+01 5.2499e+01 \n",
    "5.3379e+01 5.3899e+01 5.4409e+01 5.5199e+01 5.5999e+01 \n",
    "5.6719e+01 5.7119e+01 5.8399e+01 5.9799e+01 6.1199e+01 \n",
    "6.2509e+01 6.3799e+01 6.5229e+01 6.6499e+01 6.7899e+01 \n",
    "6.8399e+01 6.8929e+01 6.9799e+01 7.0609e+01 7.1099e+01 \n",
    "7.1639e+01 7.2199e+01 7.2919e+01 7.3333e+01 7.3999e+01 \n",
    "7.4799e+01 7.5599e+01 7.6398e+01 7.7198e+01 7.7999e+01 \n",
    "7.8898e+01 7.9799e+01 8.0698e+01 8.1598e+01 8.2498e+01 \n",
    "8.3398e+01 8.4298e+01 8.5198e+01 8.6098e+01 8.6998e+01 \n",
    "8.7998e+01 8.8998e+01 8.9998e+01 9.0998e+01 9.1998e+01 \n",
    "9.2998e+01 9.3998e+01 9.4998e+01 9.5998e+01 9.6998e+01 \n",
    "9.7998e+01 9.8998e+01 9.9998e+01 1.0120e+02 1.0240e+02 \n",
    "1.0360e+02 1.0480e+02 1.0600e+02 1.0720e+02 1.0840e+02 \n",
    "1.0960e+02 1.1080e+02 1.1200e+02 1.1350e+02 1.1500e+02 \n",
    "1.1650e+02 1.1800e+02 1.1950e+02 1.2100e+02 1.2250e+02 \n",
    "1.2400e+02 1.2550e+02 1.2700e+02 1.2850e+02 1.3000e+02 \n",
    "1.3200e+02 1.3400e+02 1.3600e+02 1.3800e+02 1.4000e+02 \n",
    "1.4200e+02 1.4400e+02 1.4600e+02 1.4800e+02 1.5000e+02 \n",
    "1.5200e+02 1.5400e+02 1.5600e+02 1.5810e+02  / end of beta grid\n",
    "293.6  /    temperature (K)   \n",
    "0.001 2 /    frequency distribution: DELTA NI  \n",
    "0.0000e+00 1e-20  / end of spectrum\n",
    "1.0 0.0 1e-20/ TWT C TBETA  \n",
    "0 / ND      \n",
    "'H FREE GAS  ESS      EVAL-                                      '\n",
    "'                      DIST-                                       '\n",
    "'----ENDF/B-VIII.beta  MATERIAL 1                                  '\n",
    "'-----THERMAL NEUTRON SCATTERING DATA                              '\n",
    "'------ENDF-6 FORMAT                                               '\n",
    "'                                                                  '\n",
    "'******************************************************************'\n",
    "'*                                                                *'\n",
    "'* Temperatures = 293.6 K                                         *'\n",
    "'*                                                                *'\n",
    "'******************************************************************'\n",
    "'                                                                  '\n",
    "\n",
    "/ end leapr\n",
    " thermr\n",
    " 34 -33 -35\n",
    " 1 125 32 1 2 0 2 1 221 2\n",
    " 293.6\n",
    " 0.001 5.0 -600\n",
    " acer\n",
    " -31 -35 0 60 61  \n",
    " 2 1 1 .01 0\n",
    "'* H as free gas *'/\n",
    " 125  293.6 hfree 3\n",
    " 1001 0 0\n",
    " 221 500 0 0 1 5.0 2\n",
    " stop\n",
    "\"\"\"\n",
    "with open('input', mode='w') as f:\n",
    "    f.write(txt)"
   ]
  },
  {
   "cell_type": "markdown",
   "id": "90b6a77f-45d5-45b8-ab1c-7f2450bdf4e2",
   "metadata": {},
   "source": [
    "Run NJOY model:"
   ]
  },
  {
   "cell_type": "code",
   "execution_count": 12,
   "id": "a218d789-21c1-4c91-afac-4541ef6f7870",
   "metadata": {},
   "outputs": [
    {
     "name": "stdout",
     "output_type": "stream",
     "text": [
      "\n",
      " njoy 2016.62  09Mar21                                       05/21/23 22:31:28\n",
      " *****************************************************************************\n",
      "\n",
      " moder...                                                                 0.0s\n",
      "\n",
      " reconr...                                                                0.0s\n",
      "\n",
      " broadr...                                                                0.0s\n",
      "\n",
      " leapr...                                                                 0.2s\n",
      "\n",
      " thermr...                                                                0.8s\n",
      "\n",
      " ***warning***maximum value of beta limits the allowed energy transfer\n",
      " the sct approx. will be used for transfers larger than  4.000 ev.\n",
      "\n",
      " wrote thermal data for temp = 2.9360E+02                                22.3s\n",
      "\n",
      " acer...                                                                 22.3s\n",
      "                                                                         24.9s\n",
      " *****************************************************************************\n"
     ]
    }
   ],
   "source": [
    "a = os.system(f'cp {endffile} tape30')\n",
    "a = os.system(f'njoy < input')\n",
    "a = os.system(f'cp tape60 {acefile}')\n",
    "a = os.system(f'cp tape34 tsl-H_free.endf')"
   ]
  },
  {
   "cell_type": "markdown",
   "id": "8f44611f-8f0e-4d96-bc86-629fdf102cc4",
   "metadata": {},
   "source": [
    "Convert ACE file to HDF5 format for OpenMC:"
   ]
  },
  {
   "cell_type": "code",
   "execution_count": 13,
   "id": "5db4993e-a9a3-4b8b-bbc9-4f0cab5455be",
   "metadata": {},
   "outputs": [],
   "source": [
    "!rm c_H_free.h5\n",
    "data = openmc.data.ThermalScattering.from_ace(acefile, name='c_H_free')\n",
    "data.export_to_hdf5('c_H_free.h5')"
   ]
  },
  {
   "cell_type": "markdown",
   "id": "978c2ae9-7ba0-4540-8efa-1ab9d6beceee",
   "metadata": {},
   "source": [
    "Copy to OpenMC library directory:"
   ]
  },
  {
   "cell_type": "code",
   "execution_count": 14,
   "id": "2bf44488-90ad-4fee-9c25-ba9107769cc3",
   "metadata": {},
   "outputs": [
    {
     "name": "stdout",
     "output_type": "stream",
     "text": [
      "Adding HDF5 to the nuclear data library...\n"
     ]
    }
   ],
   "source": [
    "print (\"Adding HDF5 to the nuclear data library...\")\n",
    "!cp c_H_free.h5 /home/student/tsl_software/endfb-viii.0-hdf5/"
   ]
  },
  {
   "cell_type": "markdown",
   "id": "e4d5ac94-8f60-4a70-9417-ebd26abb6d4d",
   "metadata": {},
   "source": [
    "Add entry in `cross_sections.xml` (this is only needed once, if the file exists it will not be added again):"
   ]
  },
  {
   "cell_type": "code",
   "execution_count": 15,
   "id": "b37deeb2-521c-4772-8207-e0894db4960d",
   "metadata": {},
   "outputs": [],
   "source": [
    "data_library = openmc.data.DataLibrary().from_xml(openmc.config['cross_sections'])\n",
    "if not data_library.get_by_material('c_H_free', data_type='thermal'):\n",
    "    print('Registering material..')\n",
    "    data_library.register_file(\"./c_H_free.h5\")\n",
    "    data_library.export_to_xml(openmc.config['cross_sections'])"
   ]
  },
  {
   "cell_type": "markdown",
   "id": "48297488-e082-4fa8-809b-699cc1e3fda1",
   "metadata": {},
   "source": [
    "Create the model. Compare with case 1): the difference is `.add_s_alpha_beta('c_H_free')`."
   ]
  },
  {
   "cell_type": "code",
   "execution_count": 16,
   "id": "f1522a95-5a4c-4755-b74a-11148e554682",
   "metadata": {},
   "outputs": [],
   "source": [
    "mat_njoy = openmc.Material()\n",
    "mat_njoy.add_nuclide('H1', 2.0, 'ao')\n",
    "mat_njoy.add_nuclide('O16', 1.0, 'ao')\n",
    "mat_njoy.set_density('g/cm3', 1.0)\n",
    "mat_njoy.add_s_alpha_beta('c_H_free')\n",
    "mat_njoy.temperature = 293.6 # K\n",
    "\n",
    "model = create_model(mat_njoy)\n",
    "model.export_to_xml()"
   ]
  },
  {
   "cell_type": "code",
   "execution_count": 17,
   "id": "b8079b48-72f6-4a03-95a3-a57b1af28295",
   "metadata": {},
   "outputs": [
    {
     "name": "stdout",
     "output_type": "stream",
     "text": [
      "                                %%%%%%%%%%%%%%%\n",
      "                           %%%%%%%%%%%%%%%%%%%%%%%%\n",
      "                        %%%%%%%%%%%%%%%%%%%%%%%%%%%%%%\n",
      "                      %%%%%%%%%%%%%%%%%%%%%%%%%%%%%%%%%%\n",
      "                    %%%%%%%%%%%%%%%%%%%%%%%%%%%%%%%%%%%%%%\n",
      "                   %%%%%%%%%%%%%%%%%%%%%%%%%%%%%%%%%%%%%%%%\n",
      "                                    %%%%%%%%%%%%%%%%%%%%%%%%\n",
      "                                     %%%%%%%%%%%%%%%%%%%%%%%%\n",
      "                 ###############      %%%%%%%%%%%%%%%%%%%%%%%%\n",
      "                ##################     %%%%%%%%%%%%%%%%%%%%%%%\n",
      "                ###################     %%%%%%%%%%%%%%%%%%%%%%%\n",
      "                ####################     %%%%%%%%%%%%%%%%%%%%%%\n",
      "                #####################     %%%%%%%%%%%%%%%%%%%%%\n",
      "                ######################     %%%%%%%%%%%%%%%%%%%%\n",
      "                #######################     %%%%%%%%%%%%%%%%%%\n",
      "                 #######################     %%%%%%%%%%%%%%%%%\n",
      "                 ######################     %%%%%%%%%%%%%%%%%\n",
      "                  ####################     %%%%%%%%%%%%%%%%%\n",
      "                    #################     %%%%%%%%%%%%%%%%%\n",
      "                     ###############     %%%%%%%%%%%%%%%%\n",
      "                       ############     %%%%%%%%%%%%%%%\n",
      "                          ########     %%%%%%%%%%%%%%\n",
      "                                      %%%%%%%%%%%\n",
      "\n",
      "                 | The OpenMC Monte Carlo Code\n",
      "       Copyright | 2011-2023 MIT, UChicago Argonne LLC, and contributors\n",
      "         License | https://docs.openmc.org/en/latest/license.html\n",
      "         Version | 0.13.4-dev\n",
      "        Git SHA1 | 65618384c926d5c047460dac2c83db4a2de17915\n",
      "       Date/Time | 2023-05-21 22:31:57\n",
      "  OpenMP Threads | 4\n",
      "\n",
      " Reading settings XML file...\n",
      " Reading cross sections XML file...\n",
      " Reading materials XML file...\n",
      " Reading geometry XML file...\n",
      " Reading H1 from\n",
      " /home/student/work/old.work/nuclear_data/../../../tsl_software/endfb-viii.0-hdf5\n",
      " /neutron/H1.h5\n",
      " Reading O16 from\n",
      " /home/student/work/old.work/nuclear_data/../../../tsl_software/endfb-viii.0-hdf5\n",
      " /neutron/O16.h5\n",
      " Reading c_H_free from /home/student/work/old.work/nuclear_data/c_H_free.h5\n",
      " Minimum neutron data temperature: 294 K\n",
      " Maximum neutron data temperature: 294 K\n",
      " Reading tallies XML file...\n",
      " Preparing distributed cell instances...\n",
      " Reading plot XML file...\n",
      " Writing summary.h5 file...\n",
      " Maximum neutron transport energy: 20000000 eV for H1\n",
      "\n",
      " ===============>     FIXED SOURCE TRANSPORT SIMULATION     <===============\n",
      "\n",
      " Simulating batch 1\n",
      " Simulating batch 2\n",
      " Simulating batch 3\n",
      " Simulating batch 4\n",
      " Simulating batch 5\n",
      " Simulating batch 6\n",
      " Simulating batch 7\n",
      " Simulating batch 8\n",
      " Simulating batch 9\n",
      " Simulating batch 10\n",
      " Creating state point statepoint.10.h5...\n",
      "\n",
      " =======================>     TIMING STATISTICS     <=======================\n",
      "\n",
      " Total time for initialization     = 1.6380e-01 seconds\n",
      "   Reading cross sections          = 1.4931e-01 seconds\n",
      " Total time in simulation          = 1.6932e+01 seconds\n",
      "   Time in transport only          = 1.6921e+01 seconds\n",
      "   Time in active batches          = 1.6932e+01 seconds\n",
      "   Time accumulating tallies       = 8.2240e-03 seconds\n",
      "   Time writing statepoints        = 2.2329e-03 seconds\n",
      " Total time for finalization       = 1.6330e-03 seconds\n",
      " Total time elapsed                = 1.7097e+01 seconds\n",
      " Calculation Rate (active)         = 59061.4 particles/second\n",
      "\n",
      " ============================>     RESULTS     <============================\n",
      "\n",
      " Leakage Fraction            = 0.39795 +/- 0.00059\n",
      "\n"
     ]
    }
   ],
   "source": [
    "!rm summary.h5 statepoint.10.h5\n",
    "openmc.run()\n",
    "E3, phi3 = get_tally()"
   ]
  },
  {
   "cell_type": "markdown",
   "id": "f0d7f8a5-1496-4ce7-99cb-86e250ab6737",
   "metadata": {},
   "source": [
    "### Case 4: scattering kernel for a free gas computed in NJOY and imported into NCrystal:"
   ]
  },
  {
   "cell_type": "markdown",
   "id": "db36ed56-2e7a-4ccb-a443-2f68a66147de",
   "metadata": {},
   "source": [
    "First: convert the ACE file for H1."
   ]
  },
  {
   "cell_type": "code",
   "execution_count": 18,
   "id": "7e64ec58-4621-44a6-8b56-1feb79078ba8",
   "metadata": {},
   "outputs": [
    {
     "name": "stdout",
     "output_type": "stream",
     "text": [
      "Attempting to load ENDF file tsl-H_free.endf...\n",
      "Reading MF=1, MT=451 Descriptive Data\n",
      "Reading MF=7, MT=4 (z,n)\n",
      "Performing a few sanity checks...\n",
      "Guessing mass=0.9991673u is element H\n",
      "   -> Writing tsl-H_free_T293.6K.ncmat\n",
      "   -> Testing that NCrystal can load this file\n",
      "All done.\n"
     ]
    }
   ],
   "source": [
    "a = os.system(f'ncrystal_endf2ncmat tsl-H_free.endf')"
   ]
  },
  {
   "cell_type": "markdown",
   "id": "c8c6d61d-0b55-4bd2-8f0e-3c77756adc09",
   "metadata": {},
   "source": [
    "Second: extract the scattering kernel for H1."
   ]
  },
  {
   "cell_type": "code",
   "execution_count": 19,
   "id": "2f05613a-fcb7-4871-beb5-0a2a5e0a7631",
   "metadata": {},
   "outputs": [],
   "source": [
    "info = NC.createInfo('tsl-H_free_T293.6K.ncmat')\n",
    "di = info.dyninfos[0]\n",
    "sctknl = di.loadKernel()"
   ]
  },
  {
   "cell_type": "markdown",
   "id": "764a4c3a-2d51-4f85-a670-2ddd93802e1b",
   "metadata": {},
   "source": [
    "Third: open the NCMAT file created for case 2)..."
   ]
  },
  {
   "cell_type": "code",
   "execution_count": 20,
   "id": "4b6af5c1-53ad-44c7-a318-4dc02fd4d567",
   "metadata": {},
   "outputs": [],
   "source": [
    "c=NC.NCMATComposer('free_h2o.ncmat')"
   ]
  },
  {
   "cell_type": "code",
   "execution_count": 21,
   "id": "c97cac18-aa58-47de-94d5-200f834417fd",
   "metadata": {
    "tags": []
   },
   "outputs": [
    {
     "name": "stdout",
     "output_type": "stream",
     "text": [
      "NCMAT v7\n",
      "# Autogenerated by NCMATComposer\n",
      "#\n",
      "# {H1}2{O16}\n",
      "#\n",
      "@DENSITY\n",
      "  1.0 g_per_cm3\n",
      "@STATEOFMATTER\n",
      "  gas\n",
      "@TEMPERATURE\n",
      "  293.6\n",
      "@DYNINFO\n",
      "  # Transferred from \"H1\" in existing NCrystal.DynamicInfo object\n",
      "  element H1\n",
      "  fraction 2/3\n",
      "  type freegas\n",
      "@DYNINFO\n",
      "  # Transferred from \"O16\" in existing NCrystal.DynamicInfo object\n",
      "  element O16\n",
      "  fraction 1/3\n",
      "  type freegas\n",
      "\n"
     ]
    }
   ],
   "source": [
    "print(c())"
   ]
  },
  {
   "cell_type": "markdown",
   "id": "ba7988ed-e328-4191-9526-1f9bd7a54978",
   "metadata": {},
   "source": [
    "...replace the scattering kernel with the one generated with NJOY..."
   ]
  },
  {
   "cell_type": "code",
   "execution_count": 22,
   "id": "e88e4977-523d-4f98-81d2-423a80f823a0",
   "metadata": {},
   "outputs": [],
   "source": [
    "c.set_dyninfo_scatknl(c.find_label('H1'), alphagrid=sctknl['alpha'], betagrid=sctknl['beta'], temperature=293.6, sab=sctknl['sab'])"
   ]
  },
  {
   "cell_type": "markdown",
   "id": "f6bec81d-45b2-43e2-aaaa-0f0757be0332",
   "metadata": {},
   "source": [
    "...and save the file."
   ]
  },
  {
   "cell_type": "code",
   "execution_count": 23,
   "id": "76eafcbb-27a4-4dd4-b9b4-b7d4e7c8ccdc",
   "metadata": {},
   "outputs": [
    {
     "data": {
      "text/plain": [
       "PosixPath('free_h2o_with_h_from_leapr.ncmat')"
      ]
     },
     "execution_count": 23,
     "metadata": {},
     "output_type": "execute_result"
    }
   ],
   "source": [
    "c.write('free_h2o_with_h_from_leapr.ncmat')"
   ]
  },
  {
   "cell_type": "markdown",
   "id": "7699df85-7e7d-4fb0-bff7-213aa9b63068",
   "metadata": {},
   "source": [
    "With ths new file, we can create the OpenMC model and run it:"
   ]
  },
  {
   "cell_type": "code",
   "execution_count": 24,
   "id": "1bb3353d-9436-4783-ad04-673bd86691b7",
   "metadata": {},
   "outputs": [],
   "source": [
    "mat_ncrystal = openmc.Material.from_ncrystal('free_h2o_with_h_from_leapr.ncmat')\n",
    "model = create_model(mat_ncrystal)\n",
    "model.export_to_xml()\n",
    "E4, phi4 = get_tally()"
   ]
  },
  {
   "cell_type": "code",
   "execution_count": 25,
   "id": "5ada56ef-5f5f-464e-b960-fffacdeb8e1c",
   "metadata": {
    "jupyter": {
     "source_hidden": true
    },
    "tags": []
   },
   "outputs": [
    {
     "name": "stdout",
     "output_type": "stream",
     "text": [
      "                                %%%%%%%%%%%%%%%\n",
      "                           %%%%%%%%%%%%%%%%%%%%%%%%\n",
      "                        %%%%%%%%%%%%%%%%%%%%%%%%%%%%%%\n",
      "                      %%%%%%%%%%%%%%%%%%%%%%%%%%%%%%%%%%\n",
      "                    %%%%%%%%%%%%%%%%%%%%%%%%%%%%%%%%%%%%%%\n",
      "                   %%%%%%%%%%%%%%%%%%%%%%%%%%%%%%%%%%%%%%%%\n",
      "                                    %%%%%%%%%%%%%%%%%%%%%%%%\n",
      "                                     %%%%%%%%%%%%%%%%%%%%%%%%\n",
      "                 ###############      %%%%%%%%%%%%%%%%%%%%%%%%\n",
      "                ##################     %%%%%%%%%%%%%%%%%%%%%%%\n",
      "                ###################     %%%%%%%%%%%%%%%%%%%%%%%\n",
      "                ####################     %%%%%%%%%%%%%%%%%%%%%%\n",
      "                #####################     %%%%%%%%%%%%%%%%%%%%%\n",
      "                ######################     %%%%%%%%%%%%%%%%%%%%\n",
      "                #######################     %%%%%%%%%%%%%%%%%%\n",
      "                 #######################     %%%%%%%%%%%%%%%%%\n",
      "                 ######################     %%%%%%%%%%%%%%%%%\n",
      "                  ####################     %%%%%%%%%%%%%%%%%\n",
      "                    #################     %%%%%%%%%%%%%%%%%\n",
      "                     ###############     %%%%%%%%%%%%%%%%\n",
      "                       ############     %%%%%%%%%%%%%%%\n",
      "                          ########     %%%%%%%%%%%%%%\n",
      "                                      %%%%%%%%%%%\n",
      "\n",
      "                 | The OpenMC Monte Carlo Code\n",
      "       Copyright | 2011-2023 MIT, UChicago Argonne LLC, and contributors\n",
      "         License | https://docs.openmc.org/en/latest/license.html\n",
      "         Version | 0.13.4-dev\n",
      "        Git SHA1 | 65618384c926d5c047460dac2c83db4a2de17915\n",
      "       Date/Time | 2023-05-21 22:32:17\n",
      "  OpenMP Threads | 4\n",
      "\n",
      " Reading settings XML file...\n",
      " Reading cross sections XML file...\n",
      " Reading materials XML file...\n",
      " NCrystal config string for material #4: 'free_h2o_with_h_from_leapr.ncmat'\n",
      " Reading geometry XML file...\n",
      " Reading H1 from\n",
      " /home/student/work/old.work/nuclear_data/../../../tsl_software/endfb-viii.0-hdf5\n",
      " /neutron/H1.h5\n",
      " Reading O16 from\n",
      " /home/student/work/old.work/nuclear_data/../../../tsl_software/endfb-viii.0-hdf5\n",
      " /neutron/O16.h5\n",
      " Minimum neutron data temperature: 294 K\n",
      " Maximum neutron data temperature: 294 K\n",
      " Reading tallies XML file...\n",
      " Preparing distributed cell instances...\n",
      " Reading plot XML file...\n",
      " Writing summary.h5 file...\n",
      " Maximum neutron transport energy: 20000000 eV for H1\n",
      "\n",
      " ===============>     FIXED SOURCE TRANSPORT SIMULATION     <===============\n",
      "\n",
      " Simulating batch 1\n",
      " Simulating batch 2\n",
      " Simulating batch 3\n",
      " Simulating batch 4\n",
      " Simulating batch 5\n",
      " Simulating batch 6\n",
      " Simulating batch 7\n",
      " Simulating batch 8\n",
      " Simulating batch 9\n",
      " Simulating batch 10\n",
      " Creating state point statepoint.10.h5...\n",
      "\n",
      " =======================>     TIMING STATISTICS     <=======================\n",
      "\n",
      " Total time for initialization     = 1.6952e-01 seconds\n",
      "   Reading cross sections          = 7.5296e-02 seconds\n",
      " Total time in simulation          = 3.1614e+01 seconds\n",
      "   Time in transport only          = 3.1604e+01 seconds\n",
      "   Time in active batches          = 3.1614e+01 seconds\n",
      "   Time accumulating tallies       = 6.6077e-03 seconds\n",
      "   Time writing statepoints        = 2.5147e-03 seconds\n",
      " Total time for finalization       = 1.4427e-03 seconds\n",
      " Total time elapsed                = 3.1785e+01 seconds\n",
      " Calculation Rate (active)         = 31631.6 particles/second\n",
      "\n",
      " ============================>     RESULTS     <============================\n",
      "\n",
      " Leakage Fraction            = 0.39756 +/- 0.00058\n",
      "\n"
     ]
    }
   ],
   "source": [
    "!rm summary.h5 statepoint.10.h5\n",
    "openmc.run()"
   ]
  },
  {
   "cell_type": "markdown",
   "id": "6e10a7a1-ed12-431e-a883-9cfc2e7fc818",
   "metadata": {},
   "source": [
    "### Compare and analyze the results:"
   ]
  },
  {
   "cell_type": "code",
   "execution_count": 26,
   "id": "c76a27f0-f164-4ccb-8d09-41753f44a1a8",
   "metadata": {},
   "outputs": [
    {
     "name": "stderr",
     "output_type": "stream",
     "text": [
      "/tmp/ipykernel_28441/3902160682.py:9: RuntimeWarning: invalid value encountered in divide\n",
      "  plt.semilogx(E1, phi2/phi1, label='NC free gas')\n",
      "/tmp/ipykernel_28441/3902160682.py:15: RuntimeWarning: invalid value encountered in divide\n",
      "  plt.semilogx(E1, phi3/phi1, label='LEAPR / THERMR')\n",
      "/tmp/ipykernel_28441/3902160682.py:21: RuntimeWarning: invalid value encountered in divide\n",
      "  plt.semilogx(E1, phi4/phi1, label='LEAPR / NCrystal')\n"
     ]
    },
    {
     "data": {
      "text/plain": [
       "(0.95, 1.05)"
      ]
     },
     "execution_count": 26,
     "metadata": {},
     "output_type": "execute_result"
    },
    {
     "data": {
      "image/png": "[encoded data removed]",
      "text/plain": [
       "<Figure size 640x480 with 1 Axes>"
      ]
     },
     "metadata": {},
     "output_type": "display_data"
    },
    {
     "data": {
      "text/plain": [
       "<Figure size 640x480 with 0 Axes>"
      ]
     },
     "metadata": {},
     "output_type": "display_data"
    },
    {
     "data": {
      "image/png": "[encoded data removed]",
      "text/plain": [
       "<Figure size 640x480 with 1 Axes>"
      ]
     },
     "metadata": {},
     "output_type": "display_data"
    },
    {
     "data": {
      "image/png": "[encoded data removed]",
      "text/plain": [
       "<Figure size 640x480 with 1 Axes>"
      ]
     },
     "metadata": {},
     "output_type": "display_data"
    },
    {
     "data": {
      "image/png": "[encoded data removed]",
      "text/plain": [
       "<Figure size 640x480 with 1 Axes>"
      ]
     },
     "metadata": {},
     "output_type": "display_data"
    }
   ],
   "source": [
    "plt.loglog(E1,phi1)\n",
    "plt.loglog(E2,phi2)\n",
    "plt.loglog(E3,phi3)\n",
    "plt.loglog(E4,phi4)\n",
    "plt.xlabel('Energy [eV]')\n",
    "plt.ylabel('Spectrum [au]')\n",
    "plt.figure()\n",
    "plt.figure()\n",
    "plt.semilogx(E1, phi2/phi1, label='NC free gas')\n",
    "plt.xlabel('Energy [eV]')\n",
    "plt.ylabel('Ratio to kinematics case')\n",
    "plt.legend()\n",
    "plt.ylim(0.95, 1.05)\n",
    "plt.figure()\n",
    "plt.semilogx(E1, phi3/phi1, label='LEAPR / THERMR')\n",
    "plt.xlabel('Energy [eV]')\n",
    "plt.ylabel('Ratio to kinematics case')\n",
    "plt.legend()\n",
    "plt.ylim(0.95, 1.05)\n",
    "plt.figure()\n",
    "plt.semilogx(E1, phi4/phi1, label='LEAPR / NCrystal')\n",
    "plt.xlabel('Energy [eV]')\n",
    "plt.ylabel('Ratio to kinematics case')\n",
    "plt.legend()\n",
    "plt.ylim(0.95, 1.05)"
   ]
  },
  {
   "cell_type": "code",
   "execution_count": null,
   "id": "0d4bdccb-c7e6-45f0-a022-917b2efe3125",
   "metadata": {},
   "outputs": [],
   "source": []
  }
 ],
 "metadata": {
  "kernelspec": {
   "display_name": "Python 3 (ipykernel)",
   "language": "python",
   "name": "python3"
  },
  "language_info": {
   "codemirror_mode": {
    "name": "ipython",
    "version": 3
   },
   "file_extension": ".py",
   "mimetype": "text/x-python",
   "name": "python",
   "nbconvert_exporter": "python",
   "pygments_lexer": "ipython3",
   "version": "3.9.16"
  }
 },
 "nbformat": 4,
 "nbformat_minor": 5
}
