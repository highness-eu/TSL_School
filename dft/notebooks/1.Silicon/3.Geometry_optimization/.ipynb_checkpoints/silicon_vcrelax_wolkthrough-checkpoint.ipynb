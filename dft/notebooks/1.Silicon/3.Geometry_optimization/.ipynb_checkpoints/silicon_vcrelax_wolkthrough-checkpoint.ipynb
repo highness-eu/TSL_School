{
 "cells": [
  {
   "cell_type": "code",
   "execution_count": null,
   "metadata": {},
   "outputs": [],
   "source": [
    "import pathlib\n",
    "import os\n",
    "if 'TSL_SCHOOL_DIR' in os.environ:\n",
    "     if any( (p/\".git\").is_dir() for p in\n",
    "(pathlib.Path(\".\").absolute().resolve()/\"dummy\").parents ):\n",
    "         raise RuntimeError('Please copy notebook to a work directory')"
   ]
  },
  {
   "cell_type": "markdown",
   "metadata": {},
   "source": [
    "# Structural Optimization  \n",
    "\n"
   ]
  },
  {
   "cell_type": "markdown",
   "metadata": {},
   "source": [
    "The equilibrium positions and cell size in DFT might be slightly different than the experimental ones. Those coordinates that represent the true minimum for the DFT calculation are usually referred to as theoretical lattice parameters. It is particularly important that the system sits in its theoretical minimum if you want to compute the phonons afterwards because the phonons are computed as perturbations around an equilibrium minimum.   \n",
    "\n",
    "In Quantum ESPRESSO it is possible to automatically optimize the internal atomic positions and cell vectors by changing the calculation type. There are two possible options 'relax' it will keep the cell fix and optimize the internal coordinates and 'vc-relax' that will optimize both the internal coordinates and the cell. \n",
    "\n",
    "These two calculations require additional NAMELISTS namely: &IONS and &CELLS, in which you can specify details on the algorithm used for the minimization. \n"
   ]
  },
  {
   "cell_type": "markdown",
   "metadata": {},
   "source": [
    "      Let's see how this slightly more complicated input file looks like:"
   ]
  },
  {
   "cell_type": "code",
   "execution_count": 1,
   "metadata": {
    "scrolled": false
   },
   "outputs": [
    {
     "name": "stdout",
     "output_type": "stream",
     "text": [
      "&CONTROL\r\n",
      "  ! vc-relax stands for variable-cell relaxation, it will change the lattice parameters and internal position to find the minimum\r\n",
      "  calculation = 'vc-relax'\r\n",
      "  prefix = 'si'\r\n",
      "  outdir = './'\r\n",
      "  pseudo_dir = './pseudo/'\r\n",
      "  verbosity = 'high'  \r\n",
      "  ! you may want to specify the convergence threshold on the forces \r\n",
      "  forc_conv_thr=1.0d-4\r\n",
      "  ! and you may want to specify the convergence threshold on the total energy\r\n",
      "  etot_conv_thr=1.0d-6\r\n",
      "/\r\n",
      "&SYSTEM\r\n",
      "  ecutwfc =   30\r\n",
      "  ecutrho =   240\r\n",
      "  ibrav = 0\r\n",
      "  nat = 2\r\n",
      "  ntyp = 1\r\n",
      "/\r\n",
      "&ELECTRONS\r\n",
      "  conv_thr =   4.0000000000d-10\r\n",
      "  electron_maxstep = 100\r\n",
      "  mixing_beta =   0.4\r\n",
      "/\r\n",
      "&IONS\r\n",
      "! here you can specify details on the minimuzation algorithm for the internal positions\r\n",
      "/\r\n",
      "&CELL\r\n",
      "! here you can specify details on the minimuzation algorithm for the lattice parameters\r\n",
      "/\r\n",
      "ATOMIC_SPECIES\r\n",
      "Si     28.0855 Si.pbe-n-rrkjus_psl.1.0.0.UPF\r\n",
      "K_POINTS automatic\r\n",
      "8 8 8 0 0 0\r\n",
      "ATOMIC_POSITIONS angstrom\r\n",
      "Si      0.0000000   0.0000000   0.0000000\r\n",
      "Si      1.3452500   1.3452500   1.3452500\r\n",
      "CELL_PARAMETERS angstrom\r\n",
      "  2.6905000   2.6905000   0.0000000 \r\n",
      "  2.6905000   0.0000000   2.6905000 \r\n",
      "  0.0000000   2.6905000   2.6905000 \r\n"
     ]
    }
   ],
   "source": [
    "cat pw.vcrelax.silicon.in"
   ]
  },
  {
   "cell_type": "markdown",
   "metadata": {},
   "source": [
    "Now you can run QUANTUM-Espresso from the terminal \n",
    "\n",
    "     pw.x < pw.vcrelax.silicon.in > pw.vcrelax.silicon.out\n",
    "For parallel execution\n",
    "\n",
    "     mpirun -np 4 pw.x -inp pw.vcrelax.silicon.in > pw.vcrelax.silicon.out"
   ]
  },
  {
   "cell_type": "markdown",
   "metadata": {},
   "source": [
    "The code will converge the SCF cycle, compute forces and stresses and change the coordinates and cell parameters accordingly. We can see the converged energy for each ionic step by doing"
   ]
  },
  {
   "cell_type": "code",
   "execution_count": 4,
   "metadata": {},
   "outputs": [
    {
     "name": "stdout",
     "output_type": "stream",
     "text": [
      "!    total energy              =     -22.83762230 Ry\r\n",
      "!    total energy              =     -22.83917601 Ry\r\n",
      "!    total energy              =     -22.83967228 Ry\r\n",
      "!    total energy              =     -22.83967501 Ry\r\n",
      "!    total energy              =     -22.83967501 Ry\r\n",
      "!    total energy              =     -22.83971503 Ry\r\n"
     ]
    }
   ],
   "source": [
    "! grep ! pw.vcrelax.silicon.out"
   ]
  },
  {
   "cell_type": "markdown",
   "metadata": {},
   "source": [
    "as you can see the code performed 6 steps of geometry optimization converging the SCF cycle for each step"
   ]
  },
  {
   "cell_type": "markdown",
   "metadata": {},
   "source": [
    "Now we can compare the original and final coordinates, the original coordinates are:"
   ]
  },
  {
   "cell_type": "code",
   "execution_count": 5,
   "metadata": {},
   "outputs": [
    {
     "name": "stdout",
     "output_type": "stream",
     "text": [
      "ATOMIC_POSITIONS angstrom\r\n",
      "Si      0.0000000   0.0000000   0.0000000\r\n",
      "Si      1.3452500   1.3452500   1.3452500\r\n",
      "CELL_PARAMETERS angstrom\r\n",
      "  2.6905000   2.6905000   0.0000000 \r\n",
      "  2.6905000   0.0000000   2.6905000 \r\n",
      "  0.0000000   2.6905000   2.6905000 \r\n"
     ]
    }
   ],
   "source": [
    "! grep -A6 \"ATOMIC_POSITIONS\" pw.vcrelax.silicon.in"
   ]
  },
  {
   "cell_type": "markdown",
   "metadata": {},
   "source": [
    "The optimized atomic positions are:"
   ]
  },
  {
   "cell_type": "code",
   "execution_count": 6,
   "metadata": {},
   "outputs": [
    {
     "name": "stdout",
     "output_type": "stream",
     "text": [
      "ATOMIC_POSITIONS (angstrom)\r\n",
      "Si            0.0000000000       -0.0000000000        0.0000000000\r\n",
      "Si            1.3672162898        1.3672162898        1.3672162898\r\n"
     ]
    }
   ],
   "source": [
    "! grep -A2 \"ATOMIC_POSITIONS\" pw.vcrelax.silicon.out | tail -3"
   ]
  },
  {
   "cell_type": "markdown",
   "metadata": {},
   "source": [
    "while the optimized cell is:"
   ]
  },
  {
   "cell_type": "code",
   "execution_count": 7,
   "metadata": {},
   "outputs": [
    {
     "name": "stdout",
     "output_type": "stream",
     "text": [
      "CELL_PARAMETERS (angstrom)\r\n",
      "   2.734432580   2.734432580   0.000000000\r\n",
      "   2.734432580   0.000000000   2.734432580\r\n",
      "   0.000000000   2.734432580   2.734432580\r\n"
     ]
    }
   ],
   "source": [
    "! grep -A3 \"CELL_PARAMETERS\" pw.vcrelax.silicon.out | tail -4"
   ]
  },
  {
   "cell_type": "markdown",
   "metadata": {},
   "source": [
    "The cell is slightly larger than the experimental one and the atomic positions changed to reflect this expansion but they relative position remained the same because it is fixed by symmetry. In a general case where there are no symmetries constraining the position they will also change relative to each other."
   ]
  },
  {
   "cell_type": "markdown",
   "metadata": {},
   "source": [
    "We can have a look at the evolution of the structure using Xcrysden \n",
    "\n",
    "     xcrysden --pwo pw.vcrelax.silicon.out"
   ]
  },
  {
   "cell_type": "code",
   "execution_count": null,
   "metadata": {},
   "outputs": [],
   "source": []
  }
 ],
 "metadata": {
  "kernelspec": {
   "display_name": "Python 3",
   "language": "python",
   "name": "python3"
  },
  "language_info": {
   "codemirror_mode": {
    "name": "ipython",
    "version": 3
   },
   "file_extension": ".py",
   "mimetype": "text/x-python",
   "name": "python",
   "nbconvert_exporter": "python",
   "pygments_lexer": "ipython3",
   "version": "3.7.3"
  }
 },
 "nbformat": 4,
 "nbformat_minor": 2
}
