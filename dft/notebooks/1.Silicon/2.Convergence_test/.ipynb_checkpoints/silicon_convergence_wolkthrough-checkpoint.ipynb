{
 "cells": [
  {
   "cell_type": "code",
   "execution_count": null,
   "metadata": {},
   "outputs": [],
   "source": [
    "import pathlib\n",
    "import os\n",
    "if 'TSL_SCHOOL_DIR' in os.environ:\n",
    "     if any( (p/\".git\").is_dir() for p in\n",
    "(pathlib.Path(\".\").absolute().resolve()/\"dummy\").parents ):\n",
    "         raise RuntimeError('Please copy notebook to a work directory')"
   ]
  },
  {
   "cell_type": "markdown",
   "metadata": {},
   "source": [
    "# Convergence tests for Self Consistent Calculations \n",
    "\n"
   ]
  },
  {
   "cell_type": "markdown",
   "metadata": {},
   "source": [
    "All the parameters in DFT calculation need to be carefully checked and converged. Two of the most important parameters to check are the cutoff on the plain waves and the number of points we use to sample the Brillouin Zone.\n",
    "\n",
    "Both these parameters are material dependent, the plane wave and charge density cutoff in particular depends directly from the pseudopotential used. Even for the same element different pseudopotentials might have different cutoffs if they have generated with different approximations. \n",
    "\n",
    "Both these parameters are directly proportional to the computational cost thus a trade-off has to be chosen among accuracy and time to solution."
   ]
  },
  {
   "cell_type": "markdown",
   "metadata": {},
   "source": [
    "We will use a simple script to perform the convergence test, it is written in bash but the same can be done with an y scripting language, for example python. \n",
    "\n",
    "    Let's see how the script looks like:"
   ]
  },
  {
   "cell_type": "code",
   "execution_count": 2,
   "metadata": {
    "scrolled": false
   },
   "outputs": [
    {
     "name": "stdout",
     "output_type": "stream",
     "text": [
      "#!/bin/sh\r\n",
      "NAME=\"ecut\"\r\n",
      "\r\n",
      "for CUTOFF in  10 15 20 25 30 35 40\r\n",
      "do\r\n",
      "CUTOFFRHO=$((8*$CUTOFF))\r\n",
      "cat > ${NAME}_${CUTOFF}.in << EOF\r\n",
      " &control\r\n",
      "  calculation = 'scf'\r\n",
      "  prefix = 'si'\r\n",
      "  outdir = './'\r\n",
      "  pseudo_dir = './pseudo/'\r\n",
      "  verbosity = 'high' \r\n",
      " /\r\n",
      " &system\r\n",
      "  ecutwfc = $CUTOFF\r\n",
      "  ecutrho = $CUTOFFRHO\r\n",
      "  ibrav = 0\r\n",
      "  nat = 2\r\n",
      "  ntyp = 1\r\n",
      "\r\n",
      " /\r\n",
      " &electrons\r\n",
      "  conv_thr =   4.0000000000d-10\r\n",
      "  electron_maxstep = 100\r\n",
      "  mixing_beta =   0.4\r\n",
      " /\r\n",
      "ATOMIC_SPECIES\r\n",
      "Si     28.0855 Si.pbe-n-rrkjus_psl.1.0.0.UPF\r\n",
      "K_POINTS automatic\r\n",
      "8 8 8 0 0 0\r\n",
      "ATOMIC_POSITIONS angstrom\r\n",
      "Si      0.0000000   0.0000000   0.0000000\r\n",
      "Si      1.3452500   1.3452500   1.3452500\r\n",
      "CELL_PARAMETERS angstrom\r\n",
      "  2.6905000   2.6905000   0.0000000 \r\n",
      "  2.6905000   0.0000000   2.6905000 \r\n",
      "  0.0000000   2.6905000   2.6905000 \r\n",
      "EOF\r\n",
      "\r\n",
      "pw.x -inp ${NAME}_${CUTOFF}.in > ${NAME}_${CUTOFF}.out\r\n",
      "echo ${NAME}_${CUTOFF}\r\n",
      "E=`grep ! ${NAME}_${CUTOFF}.out | awk '{print $5}'`\r\n",
      "echo $CUTOFF $E  >> convergence_cutoff.dat\r\n",
      "\r\n",
      "done\r\n"
     ]
    }
   ],
   "source": [
    "cat cutoff_convergence_script.sh"
   ]
  },
  {
   "cell_type": "markdown",
   "metadata": {},
   "source": [
    "To execute it we need to run in the shell the following command:\n",
    "\n",
    "                          bash cutoff_convergence_script.sh\n",
    "                          \n",
    "The script will automatically produce a file with the total energy at the end of the SCF cycle vs the cutoff"
   ]
  },
  {
   "cell_type": "code",
   "execution_count": 1,
   "metadata": {},
   "outputs": [
    {
     "ename": "ModuleNotFoundError",
     "evalue": "No module named 'matplotlib'",
     "output_type": "error",
     "traceback": [
      "\u001b[0;31m---------------------------------------------------------------------------\u001b[0m",
      "\u001b[0;31mModuleNotFoundError\u001b[0m                       Traceback (most recent call last)",
      "\u001b[0;32m<ipython-input-1-4e101f383f78>\u001b[0m in \u001b[0;36m<module>\u001b[0;34m\u001b[0m\n\u001b[1;32m      1\u001b[0m \u001b[0;32mimport\u001b[0m \u001b[0mnumpy\u001b[0m \u001b[0;32mas\u001b[0m \u001b[0mnp\u001b[0m\u001b[0;34m\u001b[0m\u001b[0;34m\u001b[0m\u001b[0m\n\u001b[0;32m----> 2\u001b[0;31m \u001b[0;32mimport\u001b[0m \u001b[0mmatplotlib\u001b[0m\u001b[0;34m.\u001b[0m\u001b[0mpyplot\u001b[0m \u001b[0;32mas\u001b[0m \u001b[0mplt\u001b[0m\u001b[0;34m\u001b[0m\u001b[0;34m\u001b[0m\u001b[0m\n\u001b[0m\u001b[1;32m      3\u001b[0m \u001b[0mx\u001b[0m\u001b[0;34m,\u001b[0m \u001b[0my\u001b[0m \u001b[0;34m=\u001b[0m \u001b[0mnp\u001b[0m\u001b[0;34m.\u001b[0m\u001b[0mloadtxt\u001b[0m\u001b[0;34m(\u001b[0m\u001b[0;34m'./convergence_cutoff.dat'\u001b[0m\u001b[0;34m,\u001b[0m \u001b[0mdelimiter\u001b[0m\u001b[0;34m=\u001b[0m\u001b[0;34m' '\u001b[0m\u001b[0;34m,\u001b[0m \u001b[0munpack\u001b[0m\u001b[0;34m=\u001b[0m\u001b[0;32mTrue\u001b[0m\u001b[0;34m)\u001b[0m\u001b[0;34m\u001b[0m\u001b[0;34m\u001b[0m\u001b[0m\n\u001b[1;32m      4\u001b[0m \u001b[0mplt\u001b[0m\u001b[0;34m.\u001b[0m\u001b[0mplot\u001b[0m\u001b[0;34m(\u001b[0m\u001b[0mx\u001b[0m\u001b[0;34m,\u001b[0m \u001b[0my\u001b[0m\u001b[0;34m,\u001b[0m \u001b[0;34m\"o-\"\u001b[0m\u001b[0;34m,\u001b[0m \u001b[0mmarkersize\u001b[0m\u001b[0;34m=\u001b[0m\u001b[0;36m5\u001b[0m\u001b[0;34m,\u001b[0m \u001b[0mlabel\u001b[0m\u001b[0;34m=\u001b[0m\u001b[0;34m'Etot vs cutoff'\u001b[0m\u001b[0;34m)\u001b[0m\u001b[0;34m\u001b[0m\u001b[0;34m\u001b[0m\u001b[0m\n\u001b[1;32m      5\u001b[0m \u001b[0mplt\u001b[0m\u001b[0;34m.\u001b[0m\u001b[0mxlabel\u001b[0m\u001b[0;34m(\u001b[0m\u001b[0;34m'Cutoff (Ry)'\u001b[0m\u001b[0;34m)\u001b[0m\u001b[0;34m\u001b[0m\u001b[0;34m\u001b[0m\u001b[0m\n",
      "\u001b[0;31mModuleNotFoundError\u001b[0m: No module named 'matplotlib'"
     ]
    }
   ],
   "source": [
    "import numpy as np\n",
    "import matplotlib.pyplot as plt\n",
    "x, y = np.loadtxt('./convergence_cutoff.dat', delimiter=' ', unpack=True)\n",
    "plt.plot(x, y, \"o-\", markersize=5, label='Etot vs cutoff')\n",
    "plt.xlabel('Cutoff (Ry)')\n",
    "plt.ylabel('Etot (Ry)')\n",
    "plt.legend(frameon=False)\n",
    "plt.show()"
   ]
  },
  {
   "cell_type": "markdown",
   "metadata": {},
   "source": [
    "We now need to do the same convergence test for the sampling of the Brillouin Zone, we fix the cutoff on the wave-functions at 30 Ry and we change the k-points grid. For simplicity we use a non-shifted uniform grid. Usually the mesh is chosen in such a way that the density of k-points in all direction of the Brillouin Zone is the same. Since here we are dealing with cubic systems with similar lengths in all directions of reciprocal space the mesh will be something NxNxN where N is the same. If we are dealing with systems presenting different cell lengths in different directions the mesh shape must be adapted to it. For example if we have a system where the cell along z is twice as long as the other two in real space, it means that it's length is 1/2 in reciprocal space and an appropriate mesh shape would be something like NxNx(N/2).\n",
    "\n",
    "To run the test for our simple case we use a similar script that can be executed like:\n",
    "\n",
    "    bash kpoints_convergence_script.sh"
   ]
  },
  {
   "cell_type": "markdown",
   "metadata": {},
   "source": [
    "After running the script we can visualize the results"
   ]
  },
  {
   "cell_type": "code",
   "execution_count": null,
   "metadata": {},
   "outputs": [],
   "source": [
    "import numpy as np\n",
    "import matplotlib.pyplot as plt\n",
    "x, y = np.loadtxt('./convergence_kpoints.dat', delimiter=' ', unpack=True)\n",
    "plt.plot(x, y, \"o-\", markersize=5, label='Etot vs kpoints')\n",
    "plt.xlabel('K-grid')\n",
    "plt.ylabel('Etot (Ry)')\n",
    "plt.legend(frameon=False)\n",
    "plt.show()"
   ]
  },
  {
   "cell_type": "code",
   "execution_count": null,
   "metadata": {},
   "outputs": [],
   "source": []
  }
 ],
 "metadata": {
  "kernelspec": {
   "display_name": "Python 3",
   "language": "python",
   "name": "python3"
  },
  "language_info": {
   "codemirror_mode": {
    "name": "ipython",
    "version": 3
   },
   "file_extension": ".py",
   "mimetype": "text/x-python",
   "name": "python",
   "nbconvert_exporter": "python",
   "pygments_lexer": "ipython3",
   "version": "3.7.3"
  }
 },
 "nbformat": 4,
 "nbformat_minor": 2
}
