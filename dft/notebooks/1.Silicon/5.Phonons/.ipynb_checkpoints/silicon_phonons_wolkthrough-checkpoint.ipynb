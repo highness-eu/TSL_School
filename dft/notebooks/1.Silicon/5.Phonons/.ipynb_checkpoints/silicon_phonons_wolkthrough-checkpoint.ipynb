{
 "cells": [
  {
   "cell_type": "code",
   "execution_count": null,
   "metadata": {},
   "outputs": [],
   "source": [
    "import pathlib\n",
    "import os\n",
    "if 'TSL_SCHOOL_DIR' in os.environ:\n",
    "     if any( (p/\".git\").is_dir() for p in\n",
    "(pathlib.Path(\".\").absolute().resolve()/\"dummy\").parents ):\n",
    "         raise RuntimeError('Please copy notebook to a work directory')"
   ]
  },
  {
   "cell_type": "markdown",
   "metadata": {},
   "source": [
    "# Phonons\n",
    "\n"
   ]
  },
  {
   "cell_type": "markdown",
   "metadata": {},
   "source": [
    "The calculation of phonons is a longer and more complex process with respect to the simple examples we have seen so far. The calculation require multiple steps executed by different codes with the Quantum ESPRESSO package. The first step is to compute the ground state charge density with a self consistent calculation of pw.x"
   ]
  },
  {
   "cell_type": "markdown",
   "metadata": {},
   "source": [
    "In our case we can take the equilibrium geometry from our previous exercise, copy the position and the cell in file pw.scf.silicon.in in this directory and then execute from the shell pw.x \n",
    " \n",
    "     pw.x -inp pw.scf.silicon.in >> pw.scf.silicon.out"
   ]
  },
  {
   "cell_type": "markdown",
   "metadata": {
    "scrolled": false
   },
   "source": [
    "Once the SCF calculation is converged comes the most expensive part, the calculation of the dynamical matrices in certain points of the reciprocal space using the Density Functional Perturbation Theory (DFPT). This part is done by the ph.x code. Despite the complexity of the calculation the input is rather simple:"
   ]
  },
  {
   "cell_type": "code",
   "execution_count": 6,
   "metadata": {},
   "outputs": [
    {
     "name": "stdout",
     "output_type": "stream",
     "text": [
      "phonons of Si mesh\r\n",
      " &inputph\r\n",
      "  ! the threshold on the self consistent cycle for each perturbation\r\n",
      "  tr2_ph=1.0d-16,\r\n",
      "\r\n",
      "  ! the name needs to be same of the scf calculation\r\n",
      "  prefix='si',\r\n",
      "\r\n",
      "  ! the mixing parameter for the scf cycle, smaller it is the higher the chance to converge but the slower the calculation\r\n",
      "  alpha_mix(1)=0.5\r\n",
      "\r\n",
      "  !the name of the dynamical matrices\r\n",
      "  fildyn='si.dyn',\r\n",
      "\r\n",
      "  ! instruct the code to compute the dielectric constant and the born effective charges (not important here but in polar semiconductors\r\n",
      "  epsil=.true.\r\n",
      "\r\n",
      "  ! instruct the code to perform a calculation on an automatic grid and the dimensions of the mesh\r\n",
      "  ldisp=.true.\r\n",
      "  nq1=2,nq2=2,nq3=2,\r\n",
      "\r\n",
      "  !the output directory\r\n",
      "  outdir='./'\r\n",
      " /\r\n"
     ]
    }
   ],
   "source": [
    "cat ./ph.silicon.in"
   ]
  },
  {
   "cell_type": "markdown",
   "metadata": {},
   "source": [
    "Now you can run ph.x from the shell \n",
    "\n",
    "     ph.x < ph.silicon.in > ph.silicon.out &\n",
    "     \n",
    "For parallel execution\n",
    "\n",
    "     mpirun -np 4 ph.x -inp ph.silicon.in > ph.silicon.out &\n",
    "     \n",
    "The calculation will take a long time!! the & at the end of shell command sends the process in background so you can continue to use the shell while the calculation is running. "
   ]
  },
  {
   "cell_type": "markdown",
   "metadata": {},
   "source": [
    "The ph.x calculation will produce a series of files called si.dyn*. These files are the dynamical matrices computed explicitly in each symmetry-independent points of the specified grid. If you are impatient and you don't want to wait while the calculation is finishing you can find the dynamical matrices already computed in the ./DYN folder."
   ]
  },
  {
   "cell_type": "markdown",
   "metadata": {},
   "source": [
    "Just to give you an idea of the difference in computational cost required by a simple SCF and phonon calculation we can have a look at the execution times from the ./results folder, with the code executed in both cases on a single core."
   ]
  },
  {
   "cell_type": "markdown",
   "metadata": {},
   "source": [
    "For the scf we have:"
   ]
  },
  {
   "cell_type": "code",
   "execution_count": 2,
   "metadata": {},
   "outputs": [
    {
     "name": "stdout",
     "output_type": "stream",
     "text": [
      "     PWSCF        :      6.39s CPU      6.94s WALL\r\n"
     ]
    }
   ],
   "source": [
    "! grep \"WALL\" ./results/pw.scf.silicon.out | tail -1"
   ]
  },
  {
   "cell_type": "markdown",
   "metadata": {},
   "source": [
    "for the phonon calculation:"
   ]
  },
  {
   "cell_type": "code",
   "execution_count": 3,
   "metadata": {},
   "outputs": [
    {
     "name": "stdout",
     "output_type": "stream",
     "text": [
      "     PHONON       :   4m12.12s CPU   4m15.25s WALL\r\n"
     ]
    }
   ],
   "source": [
    "! grep \"WALL\" ./results/2x2x2/ph.silicon.out | tail -1"
   ]
  },
  {
   "cell_type": "markdown",
   "metadata": {},
   "source": [
    "Assuming that the calculation is finished we should have some si.dyn* files. The first one si.dyn0 contains only the information on the mesh while all the others contain the dynamical matrices. Our goal now is to Fourier transform of the dynamical matrix to obtain inverse Fourier components in real space. This task is performed by a program called q2r.x "
   ]
  },
  {
   "cell_type": "markdown",
   "metadata": {},
   "source": [
    "Also in this case the input is rather simple:"
   ]
  },
  {
   "cell_type": "code",
   "execution_count": 6,
   "metadata": {},
   "outputs": [
    {
     "name": "stdout",
     "output_type": "stream",
     "text": [
      "&input\r\n",
      "! the type of sum rule to impose\r\n",
      "zasr='simple'\r\n",
      "\r\n",
      "!the name of the dynamical matricies computed by ph.x\r\n",
      "fildyn='si.dyn'\r\n",
      "\r\n",
      "!the name of the file where the real space force constants will be written\r\n",
      "flfrc='si.fc'\r\n",
      "/\r\n"
     ]
    }
   ],
   "source": [
    "cat ./q2r.silicon.in"
   ]
  },
  {
   "cell_type": "markdown",
   "metadata": {},
   "source": [
    "Besides performing the Fourier transform the q2r.x code imposes the sum rules i.e. imposes that the three acoustic modes at the Gamma point (the center of the Brillouin zone) have zero energy. These frequencies are not zero in our ph.x calculation due to the incompleteness of the basis set."
   ]
  },
  {
   "cell_type": "code",
   "execution_count": 7,
   "metadata": {},
   "outputs": [
    {
     "name": "stdout",
     "output_type": "stream",
     "text": [
      "     Diagonalizing the dynamical matrix\r\n",
      "\r\n",
      "     q = (    0.000000000   0.000000000   0.000000000 ) \r\n",
      "\r\n",
      " **************************************************************************\r\n",
      "     freq (    1) =      -0.384769 [THz] =     -12.834502 [cm-1]\r\n",
      "     freq (    2) =      -0.384769 [THz] =     -12.834502 [cm-1]\r\n",
      "     freq (    3) =      -0.384769 [THz] =     -12.834502 [cm-1]\r\n",
      "     freq (    4) =      15.102194 [THz] =     503.754982 [cm-1]\r\n",
      "     freq (    5) =      15.102194 [THz] =     503.754982 [cm-1]\r\n",
      "     freq (    6) =      15.102194 [THz] =     503.754982 [cm-1]\r\n"
     ]
    }
   ],
   "source": [
    "! grep -A10 \"Diagonalizing the dynamical matrix\" ./results/ph.silicon.out | head -11"
   ]
  },
  {
   "cell_type": "markdown",
   "metadata": {},
   "source": [
    "to execute q2r.x just type from the shell\n",
    "                    \n",
    "                     q2r.x -inp q2r.silicon.in >> q2r.silicon.out\n",
    "                     \n",
    " This calculation will only require few seconds."
   ]
  },
  {
   "cell_type": "markdown",
   "metadata": {},
   "source": [
    "as a result it will produce a file called \n",
    "\n",
    "                     si.fc\n",
    "                    \n",
    " this file contains the real space force constants between the atoms "
   ]
  },
  {
   "cell_type": "markdown",
   "metadata": {},
   "source": [
    "Now the final step is to perform Fourier transformation of the real space force constants to obtain the dynamical matrix (and thus the frequencies) at any arbitrary point in the Brillouin Zone.  At first we want to compute the phonon band structure along an high symmetry path like we did for the electronic bands. This  task is performed by the code matdyn.x. Let's have a look at the input file:"
   ]
  },
  {
   "cell_type": "code",
   "execution_count": 4,
   "metadata": {},
   "outputs": [
    {
     "name": "stdout",
     "output_type": "stream",
     "text": [
      " &input\r\n",
      "    ! sum rule, same as q2r.x\r\n",
      "    asr='simple',\r\n",
      "\r\n",
      "    ! the file with the real space force constants produced by q2r\r\n",
      "    flfrc='si.fc',\r\n",
      "\r\n",
      "    ! the name of the file where the interpolated frequencies are written\r\n",
      "    flfrq='si.freq',\r\n",
      "\r\n",
      "    q_in_band_form = .true.\r\n",
      "    q_in_cryst_coord = .true.\r\n",
      "\r\n",
      " /\r\n",
      "5\r\n",
      "  0.0000 0.5000 0.0000 20  !L\r\n",
      "  0.0000 0.0000 0.0000 30  !G\r\n",
      "  -0.500 0.0000 -0.500 10  !X\r\n",
      "  -0.375 0.2500 -0.375 30  !U\r\n",
      "  0.0000 0.0000 0.0000 20  !G\r\n",
      " \r\n"
     ]
    }
   ],
   "source": [
    "cat ./matdyn.bands.silicon.in"
   ]
  },
  {
   "cell_type": "markdown",
   "metadata": {},
   "source": [
    "To execute the code, from the shell use:\n",
    "\n",
    "                  matdyn.x -inp matdyn.bands.silicon.it >> matdyn.bands.silicon.out\n",
    "                  \n",
    "The code will produce a series of files, in particular, si.freq and si.freq.gp contains the frequencies at each point in the interpolated path, while matdyn.modes contains the eigenvectors. Let's have a look at the bands:"
   ]
  },
  {
   "cell_type": "code",
   "execution_count": null,
   "metadata": {},
   "outputs": [],
   "source": [
    "import numpy as np\n",
    "import matplotlib.pyplot as plt\n",
    "\n",
    "\n",
    "\n",
    "# load data\n",
    "data = np.loadtxt('./si.freq.gp')\n",
    "\n",
    "k = data[:, 0]\n",
    "nmodes=6\n",
    "\n",
    "for band in range(1,nmodes+1):\n",
    "    plt.plot(k, data[:, band], linewidth=1, alpha=0.5, color='k')\n",
    "plt.xlim(min(k), max(k))\n",
    "\n",
    "\n",
    "# High symmetry k-points (check bands_pp.out)\n",
    "plt.axvline(0.6124, linewidth=0.75, color='k', alpha=0.5)\n",
    "plt.axvline(1.3195, linewidth=0.75, color='k', alpha=0.5)\n",
    "plt.axvline(1.5695, linewidth=0.75, color='k', alpha=0.5)\n",
    "# text labels\n",
    "plt.xticks(ticks= [0, 0.6124, 1.3195, 1.5695, 2.3195], \\\n",
    "           labels=['L', '$\\Gamma$', 'X', 'U', '$\\Gamma$'])\n",
    "plt.ylabel(\"Energy (eV)\")\n",
    "plt.show()"
   ]
  },
  {
   "cell_type": "markdown",
   "metadata": {},
   "source": [
    "As for the cutoff and for the k-points we need to check the convergence of the phonons with the mesh used to sample the Brillouin Zone.\n",
    "\n",
    "Save all the results in a folder and modify the file ph.silicon.in increasing the mesh from 2x2x2 to 4x4x4, then repeat the calculations with ph.x, q2r.x and matdyn.x\n",
    "\n",
    "The calculation with ph.x will take a long time! ~20 minutes, if you don't have time in the folder DYN444 you can find the dynamical matrices obtained with this mesh.\n",
    "\n",
    "We can now compare the results obtained with the 2x2x2 (red) and the 4x4x4 mesh (black)."
   ]
  },
  {
   "cell_type": "code",
   "execution_count": null,
   "metadata": {},
   "outputs": [],
   "source": [
    "import numpy as np\n",
    "import matplotlib.pyplot as plt\n",
    "\n",
    "\n",
    "\n",
    "# load data\n",
    "data = np.loadtxt('?insert si.freq.gp file for 4x4x4?')\n",
    "\n",
    "k = data[:, 0]\n",
    "nmodes=6\n",
    "\n",
    "for band in range(1,nmodes+1):\n",
    "    plt.plot(k, data[:, band], linewidth=1, alpha=0.5, color='k')\n",
    "plt.xlim(min(k), max(k))\n",
    "\n",
    "data = np.loadtxt('?insert si.freq.gp file for 2x2x2?')\n",
    "\n",
    "k = data[:, 0]\n",
    "nmodes=6\n",
    "\n",
    "for band in range(1,nmodes+1):\n",
    "    plt.plot(k, data[:, band], linewidth=1, alpha=0.5, color='r')\n",
    "plt.xlim(min(k), max(k))\n",
    "\n",
    "\n",
    "# High symmetry k-points (check bands_pp.out)\n",
    "plt.axvline(0.6124, linewidth=0.75, color='k', alpha=0.5)\n",
    "plt.axvline(1.3195, linewidth=0.75, color='k', alpha=0.5)\n",
    "plt.axvline(1.5695, linewidth=0.75, color='k', alpha=0.5)\n",
    "# text labels\n",
    "plt.xticks(ticks= [0, 0.6124, 1.3195, 1.5695, 2.3195], \\\n",
    "           labels=['L', '$\\Gamma$', 'X', 'U', '$\\Gamma$'])\n",
    "plt.ylabel(\"Energy (eV)\")"
   ]
  },
  {
   "cell_type": "markdown",
   "metadata": {},
   "source": [
    "Now using our denser mesh we can proceed to the calculation of the phonon density of states. Conceptually the steps are the same we used for the phonon bands but the interpolation is done over an uniform grid and then summed over all the q-points to obtain a function which is only energy dependent."
   ]
  },
  {
   "cell_type": "markdown",
   "metadata": {},
   "source": [
    "To do this calculation we can still use matdyn.x but we need to change the input file"
   ]
  },
  {
   "cell_type": "code",
   "execution_count": 5,
   "metadata": {},
   "outputs": [
    {
     "name": "stdout",
     "output_type": "stream",
     "text": [
      " &input\r\n",
      "    ! sum rule, same as q2r.x\r\n",
      "    asr='simple',\r\n",
      "\r\n",
      "    ! the file with the real space force constants produced by q2r\r\n",
      "    flfrc='si.fc',\r\n",
      "\r\n",
      "    ! the name of the file where the interpolated frequencies are written\r\n",
      "    flfrq='si.freq',\r\n",
      "\r\n",
      "    ! inform the code that you want to do a DOS calculation and on which grid\r\n",
      "    dos=.true.,\r\n",
      "    nk1=32, nk2=32, nk3=32,\r\n",
      " /\r\n",
      " \r\n"
     ]
    }
   ],
   "source": [
    "cat ./matdyn.dos.silicon.in"
   ]
  },
  {
   "cell_type": "markdown",
   "metadata": {},
   "source": [
    "you can run the code using the usual command \n",
    "\n",
    "      matdyn.x -inp matdyn.dos.silicon.in >> matdyn.dos.silicon.out\n",
    "      \n",
    "the code will produce again a series of files but now also the file we are most interested in:\n",
    "\n",
    "                  matdyn.dos\n",
    "                  \n",
    "that contains the phonon density of states integrated over the Brillouin Zone using the specified grid. The first column contains the phonon frequency in (cm-1), the second column the total density of states, while all the other columns contains the phonon density of states projected on the single atoms. The order of the columns follows the order in which the atoms are specified in the pw.x input."
   ]
  },
  {
   "cell_type": "code",
   "execution_count": null,
   "metadata": {},
   "outputs": [],
   "source": [
    "import numpy as np\n",
    "import matplotlib.pyplot as plt\n",
    "dos = np.loadtxt('./matdyn.dos')\n",
    "x=dos[:,0]\n",
    "y=dos[:,1]\n",
    "plt.plot(x, y, \"-\", markersize=5, label='Phonon DOS')\n",
    "plt.xlabel('Energy (cm-1)')\n",
    "plt.ylabel('DOS (states/cm-1/cell)')\n",
    "plt.legend(frameon=False)\n",
    "plt.show()"
   ]
  }
 ],
 "metadata": {
  "kernelspec": {
   "display_name": "Python 3",
   "language": "python",
   "name": "python3"
  },
  "language_info": {
   "codemirror_mode": {
    "name": "ipython",
    "version": 3
   },
   "file_extension": ".py",
   "mimetype": "text/x-python",
   "name": "python",
   "nbconvert_exporter": "python",
   "pygments_lexer": "ipython3",
   "version": "3.7.3"
  }
 },
 "nbformat": 4,
 "nbformat_minor": 2
}
