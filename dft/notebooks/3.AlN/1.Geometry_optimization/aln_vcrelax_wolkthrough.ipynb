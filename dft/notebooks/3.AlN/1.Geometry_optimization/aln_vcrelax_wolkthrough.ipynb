{
 "cells": [
  {
   "cell_type": "code",
   "execution_count": null,
   "metadata": {},
   "outputs": [],
   "source": [
    "import pathlib\n",
    "import os\n",
    "if 'TSL_SCHOOL_DIR' in os.environ:\n",
    "     if any( (p/\".git\").is_dir() for p in\n",
    "(pathlib.Path(\".\").absolute().resolve()/\"dummy\").parents ):\n",
    "         raise RuntimeError('Please copy notebook to a work directory')"
   ]
  },
  {
   "cell_type": "markdown",
   "metadata": {},
   "source": [
    "# Geometry optimization for AlN      \n",
    "\n"
   ]
  },
  {
   "cell_type": "markdown",
   "metadata": {},
   "source": [
    "In this example we will see a geometry optimization for a material with a slightly more complicated crystal structure AlN that presents two types of atoms and an hexagonal cell rather than a cubic one"
   ]
  },
  {
   "cell_type": "markdown",
   "metadata": {},
   "source": [
    "As in the previous examples let's start by generating the coordinates from the cif file\n",
    "\n",
    "From a shell in the exercise folder run\n",
    "\n",
    "    cif2cell 1010514.cif --print-cartesian >> coordinates.dat\n"
   ]
  },
  {
   "cell_type": "code",
   "execution_count": 1,
   "metadata": {
    "scrolled": true
   },
   "outputs": [
    {
     "name": "stdout",
     "output_type": "stream",
     "text": [
      "CIF2CELL 2.0.0\r\n",
      "2023-05-12 23:00\r\n",
      "Output for Al N (Aluminium nitride)\r\n",
      "\r\n",
      " BIBLIOGRAPHIC INFORMATION\r\n",
      "Ott, H, Zeitschrift fuer Physik 22, 201-214 (1924) \r\n",
      " INPUT CELL INFORMATION\r\n",
      "Symmetry information:\r\n",
      "Hexagonal crystal system.\r\n",
      "Space group number     : 186\r\n",
      "Hall symbol            : P 6c -2c\r\n",
      "Hermann-Mauguin symbol : P63mc\r\n",
      "\r\n",
      "Lattice parameters:\r\n",
      "          a           b           c \r\n",
      "  3.1130000   3.1130000   4.9810000 \r\n",
      "      alpha        beta       gamma \r\n",
      " 90.0000000  90.0000000 120.0000000 \r\n",
      "Representative sites :\r\n",
      "Atom            x           y           z \r\n",
      "Al      0.3333000   0.6667000   0.0000000\r\n",
      "N       0.3333000   0.6667000   0.3800000\r\n",
      "\r\n",
      " OUTPUT CELL INFORMATION\r\n",
      "Symmetry information:\r\n",
      "Hexagonal crystal system.\r\n",
      "Space group number     : 186\r\n",
      "Hall symbol            : P 6c -2c\r\n",
      "Hermann-Mauguin symbol : P63mc\r\n",
      "\r\n",
      "Bravais lattice vectors :\r\n",
      "  2.6959371  -1.5565000   0.0000000 \r\n",
      "  0.0000000   3.1130000   0.0000000 \r\n",
      "  0.0000000   0.0000000   4.9810000 \r\n",
      "All sites, (cartesian coordinates):\r\n",
      "Atom            x           y           z \r\n",
      "Al      0.8986457   1.5565000   0.0000000\r\n",
      "Al      1.7972914   0.0000000   2.4905000\r\n",
      "N       0.8986457   1.5565000   1.8927800\r\n",
      "N       1.7972914   0.0000000   4.3832800\r\n",
      "\r\n",
      "Unit cell volume  :  41.8028041 A^3\r\n",
      "Unit cell density :   1.9609929 u/A^3 =  21.9746329 g/cm^3\r\n"
     ]
    }
   ],
   "source": [
    "cat ./coordinates.dat"
   ]
  },
  {
   "cell_type": "markdown",
   "metadata": {},
   "source": [
    "After substituting the coordinates and the cell we can verify the structure using \n",
    "\n",
    "       xcrysden --pwi pw.vcrelax.aln.in"
   ]
  },
  {
   "cell_type": "markdown",
   "metadata": {},
   "source": [
    "Note that there is still a quantity that you need to define before running the calculation, the mesh along the z-axis"
   ]
  },
  {
   "cell_type": "code",
   "execution_count": 2,
   "metadata": {},
   "outputs": [
    {
     "name": "stdout",
     "output_type": "stream",
     "text": [
      "&CONTROL\r\n",
      "  calculation = 'vc-relax'\r\n",
      "  etot_conv_thr =   4.0000000000d-05\r\n",
      "  forc_conv_thr =   1.0000000000d-04\r\n",
      "  outdir = './'\r\n",
      "  prefix = 'aiida'\r\n",
      "  pseudo_dir = './pseudo/'\r\n",
      "  tprnfor = .true.\r\n",
      "  tstress = .true.\r\n",
      "  verbosity = 'high'\r\n",
      "/\r\n",
      "&SYSTEM\r\n",
      "  ecutrho =   4.8000000000d+02\r\n",
      "  ecutwfc =   5.0000000000d+01\r\n",
      "  ibrav = 0\r\n",
      "  nat = 4\r\n",
      "  ntyp = 2\r\n",
      "/\r\n",
      "&ELECTRONS\r\n",
      "  conv_thr =   8.0000000000d-10\r\n",
      "  electron_maxstep = 80\r\n",
      "  mixing_beta =   4.0000000000d-01\r\n",
      "/\r\n",
      "&IONS\r\n",
      "/\r\n",
      "&CELL\r\n",
      "/\r\n",
      "ATOMIC_SPECIES\r\n",
      "Al     26.981538 Al.pbe-n-kjpaw_psl.1.0.0.UPF\r\n",
      "N      14.0067 N.pbe-n-radius_5.UPF\r\n",
      "K_POINTS automatic\r\n",
      "6 6 ?? 0 0 0\r\n",
      "ATOMIC_POSITIONS angstrom\r\n",
      "Al      0.8986457   1.5565000   0.0000000\r\n",
      "Al      1.7972914   0.0000000   2.4905000\r\n",
      "N       0.8986457   1.5565000   1.8927800\r\n",
      "N       1.7972914   0.0000000   4.3832800\r\n",
      "CELL_PARAMETERS angstrom\r\n",
      "  2.6959371  -1.5565000   0.0000000 \r\n",
      "  0.0000000   3.1130000   0.0000000 \r\n",
      "  0.0000000   0.0000000   4.9810000 \r\n"
     ]
    }
   ],
   "source": [
    "cat pw.vcrelax.aln.in"
   ]
  },
  {
   "cell_type": "markdown",
   "metadata": {},
   "source": [
    "Once you have selected a proper value for the k-point sampling along z you can run the calculation as before using \n",
    "\n",
    "     pw.x < pw.vcrelax.aln.in >> pw.vcrelax.aln.out &\n",
    "     \n",
    "The calculation will require ~10 minutes to finish on a single core."
   ]
  },
  {
   "cell_type": "markdown",
   "metadata": {},
   "source": [
    "let's see how the coordinates and lattice parameters changed "
   ]
  },
  {
   "cell_type": "code",
   "execution_count": 3,
   "metadata": {},
   "outputs": [
    {
     "name": "stdout",
     "output_type": "stream",
     "text": [
      "ATOMIC_POSITIONS angstrom\r\n",
      "Al      0.8986457   1.5565000   0.0000000\r\n",
      "Al      1.7972914   0.0000000   2.4905000\r\n",
      "N       0.8986457   1.5565000   1.8927800\r\n",
      "N       1.7972914   0.0000000   4.3832800\r\n",
      "CELL_PARAMETERS angstrom\r\n",
      "  2.6959371  -1.5565000   0.0000000 \r\n",
      "  0.0000000   3.1130000   0.0000000 \r\n",
      "  0.0000000   0.0000000   4.9810000 \r\n"
     ]
    }
   ],
   "source": [
    "! grep -A9 \"ATOMIC_POSITIONS\" pw.vcrelax.aln.in "
   ]
  },
  {
   "cell_type": "code",
   "execution_count": 4,
   "metadata": {},
   "outputs": [
    {
     "name": "stdout",
     "output_type": "stream",
     "text": [
      "Al            0.9037450060        1.5653322571       -0.0037653424\r\n",
      "Al            1.8074900119        0.0000000000        2.5058927507\r\n",
      "N             0.9037450060        1.5653322571        1.9111054932\r\n",
      "N             1.8074900119        0.0000000000        4.4207635863\r\n"
     ]
    }
   ],
   "source": [
    "! grep -A4 \"ATOMIC_POSITIONS\" pw.vcrelax.aln.out | tail -4"
   ]
  },
  {
   "cell_type": "code",
   "execution_count": 6,
   "metadata": {},
   "outputs": [
    {
     "name": "stdout",
     "output_type": "stream",
     "text": [
      "CELL_PARAMETERS (angstrom)\r\n",
      "   2.711235018  -1.565332257   0.000000000\r\n",
      "  -0.000000000   3.130664514   0.000000000\r\n",
      "   0.000000000   0.000000000   5.019316186\r\n"
     ]
    }
   ],
   "source": [
    "! grep -A3 \"CELL_PARAMETERS\" pw.vcrelax.aln.out | tail -4"
   ]
  },
  {
   "cell_type": "markdown",
   "metadata": {},
   "source": [
    "Note how the relaxation along the x-y directions is now independent from z since there are no symmetry mapping the in-plane and out of plane coordinates."
   ]
  },
  {
   "cell_type": "markdown",
   "metadata": {},
   "source": [
    "You can check the evolution of the cell optimization using Xcrysden \n",
    "\n",
    "      xcrysden --pwo pw.vcrelax.aln.out"
   ]
  }
 ],
 "metadata": {
  "kernelspec": {
   "display_name": "Python 3",
   "language": "python",
   "name": "python3"
  },
  "language_info": {
   "codemirror_mode": {
    "name": "ipython",
    "version": 3
   },
   "file_extension": ".py",
   "mimetype": "text/x-python",
   "name": "python",
   "nbconvert_exporter": "python",
   "pygments_lexer": "ipython3",
   "version": "3.7.3"
  }
 },
 "nbformat": 4,
 "nbformat_minor": 2
}
