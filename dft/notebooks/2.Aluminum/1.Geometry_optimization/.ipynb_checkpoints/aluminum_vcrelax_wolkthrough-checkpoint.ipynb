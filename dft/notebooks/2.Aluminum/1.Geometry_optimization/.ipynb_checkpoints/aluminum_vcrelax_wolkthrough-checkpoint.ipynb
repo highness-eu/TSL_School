{
 "cells": [
  {
   "cell_type": "code",
   "execution_count": null,
   "metadata": {},
   "outputs": [],
   "source": [
    "import pathlib\n",
    "import os\n",
    "if 'TSL_SCHOOL_DIR' in os.environ:\n",
    "     if any( (p/\".git\").is_dir() for p in\n",
    "(pathlib.Path(\".\").absolute().resolve()/\"dummy\").parents ):\n",
    "         raise RuntimeError('Please copy notebook to a work directory')"
   ]
  },
  {
   "cell_type": "markdown",
   "metadata": {},
   "source": [
    "# Geometry optimization for Aluminum      \n",
    "\n"
   ]
  },
  {
   "cell_type": "markdown",
   "metadata": {},
   "source": [
    "In the first exercise we have seen how to run DFT calculations for a material that present a band gap, here we see here how to run them for a metal. To save time, in this example we skip for the convergence tests but convergence tests are mandatory for metals like they are insulators. \n",
    "\n",
    "While in insulators the occupation is fixed and you have a definite separation between occupied and unoccupied electronic bands, in metals we have to deal with partially occupied bands in which the energy level that separates occupied and unoccupied states (the Fermi level) falls within the band.\n",
    "\n",
    "This requires the use of smearing techniques to stabilize the convergence of the self consistent cycle. Due to numerical errors in fact, the electrons may occupy the unoccupied states during some iterations, making the algorithm unstable. With the smearing techniques the problem is solved by replacing the fixed occupation number (either 0 or 1) with a smoothly varying function to partially occupy the states around the Fermi level. \n",
    "\n",
    "As for the cutoff also the smearing parameter needs to be converged, usually this convergence is done in conjunction with the convergence tests for the k-points. The two quantities are in fact linked since a larger number of k-points means less numerical noise and thus require a smaller smearing to converge and vice-versa."
   ]
  },
  {
   "cell_type": "markdown",
   "metadata": {},
   "source": [
    "As in our first example let's start getting the coordinates and completing the pw.x input file. First we run \n",
    "\n",
    "                    cif2cell  1502689.cif --print-cartesian >> coordinates.dat\n",
    "                    \n",
    "and we replace the atomic positions and cell vectors in the input file"
   ]
  },
  {
   "cell_type": "code",
   "execution_count": 1,
   "metadata": {},
   "outputs": [
    {
     "name": "stdout",
     "output_type": "stream",
     "text": [
      "CIF2CELL 2.0.0\r\n",
      "2023-05-12 18:13\r\n",
      "Output for None (?)\r\n",
      "\r\n",
      " BIBLIOGRAPHIC INFORMATION\r\n",
      "Mulder, Fokko M. et al., The Journal of Physical Chemistry C 114, 10648- (2010) \r\n",
      " INPUT CELL INFORMATION\r\n",
      "Symmetry information:\r\n",
      "Cubic crystal system.\r\n",
      "Space group number     : 225\r\n",
      "Hall symbol            : -F 4 2 3\r\n",
      "Hermann-Mauguin symbol : Fm-3m\r\n",
      "\r\n",
      "Lattice parameters:\r\n",
      "          a           b           c \r\n",
      "  4.0339000   4.0339000   4.0339000 \r\n",
      "      alpha        beta       gamma \r\n",
      " 90.0000000  90.0000000  90.0000000 \r\n",
      "Representative sites :\r\n",
      "Atom            x           y           z \r\n",
      "Al      0.0000000   0.0000000   0.0000000\r\n",
      "\r\n",
      " OUTPUT CELL INFORMATION\r\n",
      "Symmetry information:\r\n",
      "Cubic crystal system.\r\n",
      "Space group number     : 225\r\n",
      "Hall symbol            : -F 4 2 3\r\n",
      "Hermann-Mauguin symbol : Fm-3m\r\n",
      "\r\n",
      "Bravais lattice vectors :\r\n",
      "  2.0169500   2.0169500   0.0000000 \r\n",
      "  2.0169500   0.0000000   2.0169500 \r\n",
      "  0.0000000   2.0169500   2.0169500 \r\n",
      "All sites, (cartesian coordinates):\r\n",
      "Atom            x           y           z \r\n",
      "Al      0.0000000   0.0000000   0.0000000\r\n",
      "\r\n",
      "Unit cell volume  :  16.4102574 A^3\r\n",
      "Unit cell density :   1.6441546 u/A^3 =  18.4241843 g/cm^3\r\n"
     ]
    }
   ],
   "source": [
    "cat ./coordinates.dat"
   ]
  },
  {
   "cell_type": "code",
   "execution_count": 3,
   "metadata": {
    "scrolled": false
   },
   "outputs": [
    {
     "name": "stdout",
     "output_type": "stream",
     "text": [
      "&CONTROL\r\n",
      "  calculation = 'vc-relax'\r\n",
      "  etot_conv_thr =   1.0000000000d-05\r\n",
      "  forc_conv_thr =   1.0000000000d-04\r\n",
      "  outdir = './'\r\n",
      "  prefix = 'al'\r\n",
      "  pseudo_dir = './pseudo/'\r\n",
      "  tprnfor = .true.\r\n",
      "  tstress = .true.\r\n",
      "  verbosity = 'high'\r\n",
      "/\r\n",
      "&SYSTEM\r\n",
      "  ecutrho =   2.4000000000d+02\r\n",
      "  ecutwfc =   3.0000000000d+01\r\n",
      "  ibrav = 0\r\n",
      "  nat = 1\r\n",
      "  ntyp = 1\r\n",
      "  \r\n",
      "  ! you need to specify that the occupation is not fixed like in insulators with a gap\r\n",
      "  occupations = 'smearing'\r\n",
      "  \r\n",
      "  ! type of smearing that you want to use\r\n",
      "  smearing = 'cold'\r\n",
      "  \r\n",
      "  ! value of the smearing\r\n",
      "  degauss =   0.02\r\n",
      "/\r\n",
      "&ELECTRONS\r\n",
      "  conv_thr =   2.0000000000d-10\r\n",
      "  electron_maxstep = 80\r\n",
      "  mixing_beta =   4.0000000000d-01\r\n",
      "/\r\n",
      "&IONS\r\n",
      "/\r\n",
      "&CELL\r\n",
      "/\r\n",
      "ATOMIC_SPECIES\r\n",
      "Al     26.981538 Al.pbe-n-kjpaw_psl.1.0.0.UPF\r\n",
      "K_POINTS automatic\r\n",
      "! k-points need to be denser for metals than for insulators\r\n",
      "14 14 14 0 0 0\r\n",
      "ATOMIC_POSITIONS angstrom\r\n",
      "Al           0.0000000000       0.0000000000       0.0000000000 \r\n",
      "CELL_PARAMETERS angstrom\r\n",
      "      2.0200000000       2.0200000000       0.0000000000\r\n",
      "      2.0200000000       0.0000000000       2.0200000000\r\n",
      "      0.0000000000       2.0200000000       2.0200000000\r\n"
     ]
    }
   ],
   "source": [
    "cat ./pw.vcrelax.aluminum.in"
   ]
  },
  {
   "cell_type": "markdown",
   "metadata": {},
   "source": [
    "Again, before running the simulation we can verify that the structure is correct using Xcrysden:\n",
    "     \n",
    "             xcrysden --pwi pw.vcrelax.aluminum.in"
   ]
  },
  {
   "cell_type": "markdown",
   "metadata": {},
   "source": [
    "If everything is correct we can run the simulation using pw.x\n",
    "\n",
    "             pw.x -inp pw.vcrelax.aluminum.in >> pw.vcrelax.aluminum.out"
   ]
  },
  {
   "cell_type": "markdown",
   "metadata": {},
   "source": [
    "We can see how the Fermi level is recomputed at each iteration"
   ]
  },
  {
   "cell_type": "code",
   "execution_count": 4,
   "metadata": {
    "scrolled": true
   },
   "outputs": [
    {
     "name": "stdout",
     "output_type": "stream",
     "text": [
      "     the Fermi energy is     7.9032 ev\r\n",
      "     the Fermi energy is     7.9126 ev\r\n",
      "     the Fermi energy is     7.9267 ev\r\n",
      "     the Fermi energy is     7.9267 ev\r\n"
     ]
    }
   ],
   "source": [
    "! grep \"Fermi\" ./pw.vcrelax.aluminum.out"
   ]
  }
 ],
 "metadata": {
  "kernelspec": {
   "display_name": "Python 3",
   "language": "python",
   "name": "python3"
  },
  "language_info": {
   "codemirror_mode": {
    "name": "ipython",
    "version": 3
   },
   "file_extension": ".py",
   "mimetype": "text/x-python",
   "name": "python",
   "nbconvert_exporter": "python",
   "pygments_lexer": "ipython3",
   "version": "3.7.3"
  }
 },
 "nbformat": 4,
 "nbformat_minor": 2
}
