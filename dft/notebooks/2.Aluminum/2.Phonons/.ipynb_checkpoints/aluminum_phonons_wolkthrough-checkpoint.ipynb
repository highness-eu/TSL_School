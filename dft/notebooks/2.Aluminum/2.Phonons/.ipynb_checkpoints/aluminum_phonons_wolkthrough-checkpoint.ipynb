{
 "cells": [
  {
   "cell_type": "code",
   "execution_count": null,
   "metadata": {},
   "outputs": [],
   "source": [
    "import pathlib\n",
    "import os\n",
    "if 'TSL_SCHOOL_DIR' in os.environ:\n",
    "     if any( (p/\".git\").is_dir() for p in\n",
    "(pathlib.Path(\".\").absolute().resolve()/\"dummy\").parents ):\n",
    "         raise RuntimeError('Please copy notebook to a work directory')"
   ]
  },
  {
   "cell_type": "markdown",
   "metadata": {},
   "source": [
    "# Phonons\n",
    "\n"
   ]
  },
  {
   "cell_type": "markdown",
   "metadata": {},
   "source": [
    "The calculation of phonons for a metallic system like Aluminum follows the same scheme used for Silicon but there are few differences that is worth mentioning"
   ]
  },
  {
   "cell_type": "markdown",
   "metadata": {},
   "source": [
    "As in the previous case we start by running a self consistent calculation using pw.x at the theoretical equilibrium geometry\n",
    " \n",
    "     pw.x -inp pw.scf.aluminum.in >> pw.scf.aluminum.out"
   ]
  },
  {
   "cell_type": "markdown",
   "metadata": {
    "scrolled": false
   },
   "source": [
    "The calculation of the phonons is similar to what we have seen for Silicon with few important differences that can be seen in the input file:"
   ]
  },
  {
   "cell_type": "code",
   "execution_count": 1,
   "metadata": {},
   "outputs": [
    {
     "name": "stdout",
     "output_type": "stream",
     "text": [
      "phonons of Al mesh\r\n",
      " &inputph\r\n",
      "  tr2_ph=1.0d-16,\r\n",
      "  prefix='al',\r\n",
      "  \r\n",
      "  ! usually the convergence of metallic systems is more problematic and the mixing parameter needs to be lower\r\n",
      "  alpha_mix(1)=0.07\r\n",
      "  \r\n",
      "  fildyn='al.dyn',\r\n",
      "  \r\n",
      "  ! note that here we don't have epsil=.true., the static dielectric constant and born effective charges cannot be computed in metals\r\n",
      "  \r\n",
      "  ldisp=.true.\r\n",
      "  nq1=4,nq2=4,nq3=4,\r\n",
      "  outdir='./'\r\n",
      " /\r\n"
     ]
    }
   ],
   "source": [
    "cat ./ph.aluminum.in"
   ]
  },
  {
   "cell_type": "markdown",
   "metadata": {},
   "source": [
    "Now you can run ph.x from the shell \n",
    "\n",
    "     ph.x < ph.aluminum.in > ph.aluminum.out &\n",
    "     \n",
    "For parallel execution\n",
    "\n",
    "     mpirun -np 4 ph.x -inp ph.aluminum.in > ph.aluminum.out &\n",
    "     \n",
    "The calculation will take ~10 minutes on a single core. If you want to skip the calculation the dynamical matrices can be found in the DYN folder."
   ]
  },
  {
   "cell_type": "markdown",
   "metadata": {},
   "source": [
    "Once the dynamical matrices have been computed we continue by calculating the Fourier transform in real space an imposing the sum rules with q2r.x"
   ]
  },
  {
   "cell_type": "code",
   "execution_count": 2,
   "metadata": {},
   "outputs": [
    {
     "name": "stdout",
     "output_type": "stream",
     "text": [
      "&input\r\n",
      "zasr='simple'\r\n",
      "fildyn='al.dyn'\r\n",
      "flfrc='al.fc'\r\n",
      "/\r\n"
     ]
    }
   ],
   "source": [
    "cat ./q2r.aluminum.in"
   ]
  },
  {
   "cell_type": "markdown",
   "metadata": {},
   "source": [
    "           q2r.x -inp q2r.aluminum.in > q2r.aluminum.out"
   ]
  },
  {
   "cell_type": "markdown",
   "metadata": {},
   "source": [
    "Finally we compute the inverse Fourier transformation to interpolate the dynamical matrices at all the arbitrary points in the Brillouin Zone that we want using matdyn.x"
   ]
  },
  {
   "cell_type": "code",
   "execution_count": 3,
   "metadata": {},
   "outputs": [
    {
     "name": "stdout",
     "output_type": "stream",
     "text": [
      " &input\r\n",
      "    asr='simple',\r\n",
      "    flfrc='al.fc',\r\n",
      "    flfrq='al.freq',\r\n",
      "    dos=.true.,\r\n",
      "    nk1=32, nk2=32, nk3=32,\r\n",
      " /\r\n",
      " \r\n"
     ]
    }
   ],
   "source": [
    "cat ./matdyn.aluminum.in"
   ]
  },
  {
   "cell_type": "markdown",
   "metadata": {},
   "source": [
    "identically to what done in the previous exercise we can run:\n",
    "\n",
    "                  matdyn.x -inp matdyn.aluminum.it >> matdyn.aluminum.out\n",
    "                  \n",
    "that will produce the file \n",
    "\n",
    "                  matdyn.dos\n",
    "                  \n",
    "where the phonon density of states is stored."
   ]
  },
  {
   "cell_type": "code",
   "execution_count": null,
   "metadata": {},
   "outputs": [],
   "source": [
    "import numpy as np\n",
    "import matplotlib.pyplot as plt\n",
    "dos = np.loadtxt('./matdyn.dos')\n",
    "x=dos[:,0]\n",
    "y=dos[:,1]\n",
    "plt.plot(x, y, \"-\", markersize=5, label='Phonon DOS')\n",
    "plt.xlabel('Energy (cm-1)')\n",
    "plt.ylabel('DOS (states/cm-1/cell)')\n",
    "plt.legend(frameon=False)\n",
    "plt.show()"
   ]
  }
 ],
 "metadata": {
  "kernelspec": {
   "display_name": "Python 3",
   "language": "python",
   "name": "python3"
  },
  "language_info": {
   "codemirror_mode": {
    "name": "ipython",
    "version": 3
   },
   "file_extension": ".py",
   "mimetype": "text/x-python",
   "name": "python",
   "nbconvert_exporter": "python",
   "pygments_lexer": "ipython3",
   "version": "3.7.3"
  }
 },
 "nbformat": 4,
 "nbformat_minor": 2
}
